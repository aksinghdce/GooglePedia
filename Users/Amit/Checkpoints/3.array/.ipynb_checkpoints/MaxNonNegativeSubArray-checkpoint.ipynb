{
 "cells": [
  {
   "cell_type": "code",
   "execution_count": 27,
   "metadata": {
    "collapsed": true
   },
   "outputs": [],
   "source": [
    "class Invariant:\n",
    "    def __init__(self, arr_, begin_, sum_, length_=1, end_=2):\n",
    "        self.array_ = arr_\n",
    "        self.begin_ = begin_\n",
    "        self.sum_ = arr_[begin_]\n",
    "        self.length_ = length_\n",
    "        self.end_ = end_\n",
    "    def setSum(self, sum_):\n",
    "        self.sum_ = sum_\n",
    "    def setLength(self, length_):\n",
    "        self.length_ = length_\n",
    "    def setEnd(self, end_):\n",
    "        self.end_ = end_\n",
    "    def setBegin(self, begin_):\n",
    "        self.begin_ = begin_\n",
    "    def getSum(self):\n",
    "        return self.sum_\n",
    "    def getLength(self):\n",
    "        return self.length_\n",
    "    def getEnd(self):\n",
    "        return self.end_\n",
    "    def getBegin(self):\n",
    "        return self.begin_\n",
    "    def display(self):\n",
    "        for i in xrange(self.begin_, self.end_):\n",
    "            print arr_[i]"
   ]
  },
  {
   "cell_type": "code",
   "execution_count": 28,
   "metadata": {
    "collapsed": true
   },
   "outputs": [],
   "source": [
    "class Solution:\n",
    "    def __init__(self):\n",
    "        self.mi = None\n",
    "    def updateMax(self, ti, arr):\n",
    "        if not self.mi:\n",
    "            self.mi = Invariant(arr_= arr, begin_=0, sum_=0, length_ = 0, end_=0)\n",
    "        if ti.getSum() > self.mi.getSum():\n",
    "            self.mi = ti\n",
    "        elif (ti.getSum() == self.mi.getSum()) and (ti.getLength() > self.mi.getLength()):\n",
    "            self.mi = ti\n",
    "        elif (ti.getLength() == self.mi.getLength()) and (arr[ti.getBegin()] < arr[self.mi.getBegin()]):\n",
    "            self.mi = ti\n",
    "        return self.mi\n",
    "    # @param A : list of integers\n",
    "    # @return a list of integers\n",
    "    def maxset(self, A):\n",
    "        return_value = None\n",
    "        for i in xrange(0, len(A)):\n",
    "            while A[i] < 0 and i<len(A):\n",
    "                i = i + 1\n",
    "            temp_invariant = Invariant(arr_ = A, begin_ = i, sum_ = A[i], length_ = 1, end_ = 2)\n",
    "            while A[i] > 0 and i<(len(A) - 1):\n",
    "                i = i + 1\n",
    "                temp_invariant.setSum(temp_invariant.getSum() + A[i])\n",
    "                temp_invariant.setLength(temp_invariant.getLength() + 1)\n",
    "            temp_invariant.setEnd(i)\n",
    "            return_value = self.updateMax(temp_invariant, A)\n",
    "        return return_value\n",
    "            \n",
    "                "
   ]
  },
  {
   "cell_type": "code",
   "execution_count": 29,
   "metadata": {
    "collapsed": true
   },
   "outputs": [],
   "source": [
    "solution = Solution()"
   ]
  },
  {
   "cell_type": "code",
   "execution_count": 30,
   "metadata": {
    "collapsed": false
   },
   "outputs": [],
   "source": [
    "result = solution.maxset([ 1, 2, 5, -7, 2, 5 ])"
   ]
  },
  {
   "cell_type": "code",
   "execution_count": 31,
   "metadata": {
    "collapsed": false
   },
   "outputs": [
    {
     "data": {
      "text/plain": [
       "<__main__.Invariant instance at 0x7f58a86a0d40>"
      ]
     },
     "execution_count": 31,
     "metadata": {},
     "output_type": "execute_result"
    }
   ],
   "source": [
    "result"
   ]
  },
  {
   "cell_type": "raw",
   "metadata": {},
   "source": []
  }
 ],
 "metadata": {
  "kernelspec": {
   "display_name": "Python 2",
   "language": "python",
   "name": "python2"
  },
  "language_info": {
   "codemirror_mode": {
    "name": "ipython",
    "version": 2
   },
   "file_extension": ".py",
   "mimetype": "text/x-python",
   "name": "python",
   "nbconvert_exporter": "python",
   "pygments_lexer": "ipython2",
   "version": "2.7.12"
  }
 },
 "nbformat": 4,
 "nbformat_minor": 2
}
