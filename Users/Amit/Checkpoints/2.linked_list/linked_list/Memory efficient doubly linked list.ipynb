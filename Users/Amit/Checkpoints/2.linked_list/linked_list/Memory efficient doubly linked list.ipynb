{
 "cells": [
  {
   "cell_type": "markdown",
   "metadata": {},
   "source": [
    "# Implement memory efficient linked list with pointer indices in array"
   ]
  },
  {
   "cell_type": "markdown",
   "metadata": {},
   "source": [
    "# Object oriented concepts of Python\n",
    "\n",
    "Resources:\n",
    "\n",
    "1. https://learnpythonthehardway.org/book/ex40.html\n",
    "2. https://www.youtube.com/view_play_list?p=29B31797A997C41E"
   ]
  },
  {
   "cell_type": "markdown",
   "metadata": {},
   "source": [
    "<front>What is object in python? And how is object related to type?</front>"
   ]
  },
  {
   "cell_type": "markdown",
   "metadata": {},
   "source": [
    "<back>object is the ultimate ancestor of every class in python. Any new class defined in python would have object as it's parent by default. It can be specified explicitly. Object is also an object of type class as well as type is the child of object itself.</back>"
   ]
  },
  {
   "cell_type": "markdown",
   "metadata": {},
   "source": [
    "<a href=\"https://youtu.be/8fRfXenpU6M?list=PL29B31797A997C41E&t=555\"> <img src=\"./images/Python_object_type.png\"/> </a>"
   ]
  },
  {
   "cell_type": "code",
   "execution_count": 27,
   "metadata": {
    "collapsed": true
   },
   "outputs": [],
   "source": [
    "class LinkedListMEDLL(object):\n",
    "    def __init__(self):\n",
    "        self.data = list()\n",
    "        self.ptrDiff = list()\n",
    "        self.head = self.data\n",
    "    def insert(self, data_):\n",
    "        if self.head"
   ]
  },
  {
   "cell_type": "code",
   "execution_count": 1,
   "metadata": {
    "collapsed": false
   },
   "outputs": [
    {
     "data": {
      "text/plain": [
       "-1"
      ]
     },
     "execution_count": 1,
     "metadata": {},
     "output_type": "execute_result"
    }
   ],
   "source": [
    "-1 ^ 0"
   ]
  },
  {
   "cell_type": "code",
   "execution_count": 2,
   "metadata": {
    "collapsed": false
   },
   "outputs": [
    {
     "data": {
      "text/plain": [
       "-1"
      ]
     },
     "execution_count": 2,
     "metadata": {},
     "output_type": "execute_result"
    }
   ],
   "source": [
    "0 ^ -1"
   ]
  },
  {
   "cell_type": "code",
   "execution_count": null,
   "metadata": {
    "collapsed": true
   },
   "outputs": [],
   "source": []
  }
 ],
 "metadata": {
  "kernelspec": {
   "display_name": "Python 2",
   "language": "python",
   "name": "python2"
  },
  "language_info": {
   "codemirror_mode": {
    "name": "ipython",
    "version": 2
   },
   "file_extension": ".py",
   "mimetype": "text/x-python",
   "name": "python",
   "nbconvert_exporter": "python",
   "pygments_lexer": "ipython2",
   "version": "2.7.12"
  }
 },
 "nbformat": 4,
 "nbformat_minor": 2
}
