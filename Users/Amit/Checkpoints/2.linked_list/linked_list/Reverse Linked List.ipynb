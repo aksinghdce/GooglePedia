{
 "cells": [
  {
   "cell_type": "markdown",
   "metadata": {},
   "source": [
    "# Reverse Linked List"
   ]
  },
  {
   "cell_type": "code",
   "execution_count": 1,
   "metadata": {
    "collapsed": true
   },
   "outputs": [],
   "source": [
    "class Node(object):\n",
    "    # Node of the list\n",
    "    def __init__(self, int_data):\n",
    "        self.data = int_data\n",
    "        self.next = None\n",
    "    def getData(self):\n",
    "        return self.data\n",
    "    def setData(self, int_data):\n",
    "        self.data = int_data\n",
    "    def setNext(self, next_):\n",
    "        self.next = next_\n",
    "    def getNext(self):\n",
    "        return self.next"
   ]
  },
  {
   "cell_type": "code",
   "execution_count": 2,
   "metadata": {
    "collapsed": false
   },
   "outputs": [],
   "source": [
    "class LinkedList(object):\n",
    "    #head_ is a node\n",
    "    def __init__(self):\n",
    "        self.head = None\n",
    "        self.count = 0\n",
    "    def setHead(self, node_):\n",
    "        self.head = node_\n",
    "        self.count = self.count + 1\n",
    "    #at_ is the position after this new elements position\n",
    "    def insert(self, at_, node_):\n",
    "        if at_ == None:\n",
    "            return\n",
    "        if at_ == self.head:\n",
    "            node_.setNext(at_)\n",
    "            self.head = node_\n",
    "            self.count = self.count + 1\n",
    "        else:\n",
    "            curr = self.head\n",
    "            prev = None\n",
    "            while curr != at_:\n",
    "                prev = curr\n",
    "                curr = curr.getNext()\n",
    "            prev.setNext(node_)\n",
    "            node_.setNext(curr)\n",
    "            self.count += 1\n",
    "    def getHead(self):\n",
    "        return self.head\n",
    "    def display(self):\n",
    "        curr = self.head\n",
    "        while curr != None:\n",
    "            print curr.getData(), self.count\n",
    "            curr = curr.getNext()\n",
    "    def reverse(self):\n",
    "        if self.head == None:\n",
    "            return\n",
    "        last = self.head\n",
    "        first = self.head.getNext()\n",
    "        last.setNext(None)\n",
    "        next_ = first\n",
    "        while next_ != None:\n",
    "            next_ = first.getNext()\n",
    "            first.setNext(last)\n",
    "            last = first\n",
    "            first = next_\n",
    "        self.head = last\n",
    "    def reverse_recursive(self, non_reversed_, reversed_=None):\n",
    "        if non_reversed_ == None:\n",
    "            self.head = reversed_\n",
    "            return\n",
    "        first = non_reversed_\n",
    "        next_ = first.getNext()\n",
    "        first.setNext(reversed_)\n",
    "        reversed_ = first\n",
    "        first = next_\n",
    "        self.reverse_recursive(first, reversed_)\n",
    "        "
   ]
  },
  {
   "cell_type": "code",
   "execution_count": 3,
   "metadata": {
    "collapsed": false
   },
   "outputs": [],
   "source": [
    "node_ = Node(0)"
   ]
  },
  {
   "cell_type": "code",
   "execution_count": 4,
   "metadata": {
    "collapsed": false
   },
   "outputs": [],
   "source": [
    "list_ = LinkedList()"
   ]
  },
  {
   "cell_type": "code",
   "execution_count": 5,
   "metadata": {
    "collapsed": false
   },
   "outputs": [],
   "source": [
    "\n",
    "list_.setHead(node_)"
   ]
  },
  {
   "cell_type": "code",
   "execution_count": 6,
   "metadata": {
    "collapsed": true
   },
   "outputs": [],
   "source": [
    "node__ = Node(1)"
   ]
  },
  {
   "cell_type": "code",
   "execution_count": 7,
   "metadata": {
    "collapsed": false
   },
   "outputs": [],
   "source": [
    "list_.insert(list_.getHead(), node__)"
   ]
  },
  {
   "cell_type": "code",
   "execution_count": 8,
   "metadata": {
    "collapsed": true
   },
   "outputs": [],
   "source": [
    "node___ = Node(2)"
   ]
  },
  {
   "cell_type": "code",
   "execution_count": 9,
   "metadata": {
    "collapsed": true
   },
   "outputs": [],
   "source": [
    "list_.insert(list_.getHead(), node___)"
   ]
  },
  {
   "cell_type": "code",
   "execution_count": 10,
   "metadata": {
    "collapsed": false
   },
   "outputs": [
    {
     "name": "stdout",
     "output_type": "stream",
     "text": [
      "2 3\n",
      "1 3\n",
      "0 3\n"
     ]
    }
   ],
   "source": [
    "list_.display()"
   ]
  },
  {
   "cell_type": "code",
   "execution_count": 11,
   "metadata": {
    "collapsed": false
   },
   "outputs": [],
   "source": [
    "list_.reverse()"
   ]
  },
  {
   "cell_type": "code",
   "execution_count": 12,
   "metadata": {
    "collapsed": false
   },
   "outputs": [
    {
     "name": "stdout",
     "output_type": "stream",
     "text": [
      "0 3\n",
      "1 3\n",
      "2 3\n"
     ]
    }
   ],
   "source": [
    "list_.display()"
   ]
  },
  {
   "cell_type": "code",
   "execution_count": 13,
   "metadata": {
    "collapsed": false
   },
   "outputs": [],
   "source": [
    "list_.reverse_recursive(list_.getHead())"
   ]
  },
  {
   "cell_type": "code",
   "execution_count": 14,
   "metadata": {
    "collapsed": false
   },
   "outputs": [
    {
     "name": "stdout",
     "output_type": "stream",
     "text": [
      "2 3\n",
      "1 3\n",
      "0 3\n"
     ]
    }
   ],
   "source": [
    "list_.display()"
   ]
  }
 ],
 "metadata": {
  "kernelspec": {
   "display_name": "Python 2",
   "language": "python",
   "name": "python2"
  },
  "language_info": {
   "codemirror_mode": {
    "name": "ipython",
    "version": 2
   },
   "file_extension": ".py",
   "mimetype": "text/x-python",
   "name": "python",
   "nbconvert_exporter": "python",
   "pygments_lexer": "ipython2",
   "version": "2.7.12"
  }
 },
 "nbformat": 4,
 "nbformat_minor": 2
}
