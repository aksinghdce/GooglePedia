{
 "cells": [
  {
   "cell_type": "markdown",
   "metadata": {},
   "source": [
    "I need to understand working with trees in a comprehensive manner. With so many resources available on the internet it becomes confusing whether the subject is finished or it has more gems to explore. \n",
    "\n",
    "This document is a collection of resources that would help build a thourough understanding of trees as a data structure.\n",
    "\n",
    "Resource 1: Basic algorithms on Trees to understand the trees ecosystem in computer science. From any standard book. For me it's \"Data Structure and Algorithmic Thinking with Python by Narsimha Karumanchi\".\n",
    "\n",
    "Resource 2: [Geeks for Geeks](http://www.geeksforgeeks.org/category/tree/)"
   ]
  },
  {
   "cell_type": "markdown",
   "metadata": {},
   "source": [
    "# Resource 1\n",
    "\n"
   ]
  }
 ],
 "metadata": {
  "kernelspec": {
   "display_name": "Python 2",
   "language": "python",
   "name": "python2"
  },
  "language_info": {
   "codemirror_mode": {
    "name": "ipython",
    "version": 2
   },
   "file_extension": ".py",
   "mimetype": "text/x-python",
   "name": "python",
   "nbconvert_exporter": "python",
   "pygments_lexer": "ipython2",
   "version": "2.7.12"
  }
 },
 "nbformat": 4,
 "nbformat_minor": 2
}
