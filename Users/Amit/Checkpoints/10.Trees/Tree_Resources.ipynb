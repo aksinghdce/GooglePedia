{
 "cells": [
  {
   "cell_type": "markdown",
   "metadata": {},
   "source": [
    "I need to understand working with trees in a comprehensive manner. With so many resources available on the internet it becomes confusing whether the subject is finished or it has more gems to explore. \n",
    "\n",
    "This document is a collection of resources that would help build a thourough understanding of trees as a data structure.\n",
    "\n",
    "Resource 1: Basic algorithms on Trees to understand the trees ecosystem in computer science. From any standard book. For me it's \"Data Structure and Algorithmic Thinking with Python by Narsimha Karumanchi\".\n",
    "\n",
    "Resource 2: [Geeks for Geeks](http://www.geeksforgeeks.org/category/tree/)"
   ]
  },
  {
   "cell_type": "markdown",
   "metadata": {},
   "source": [
    "# Resource 1\n",
    "\n"
   ]
  },
  {
   "cell_type": "code",
   "execution_count": 5,
   "metadata": {
    "collapsed": false
   },
   "outputs": [
    {
     "data": {
      "text/plain": [
       "-inf"
      ]
     },
     "execution_count": 5,
     "metadata": {},
     "output_type": "execute_result"
    }
   ],
   "source": [
    "float(\"-infinity\")"
   ]
  },
  {
   "cell_type": "code",
   "execution_count": 14,
   "metadata": {
    "collapsed": true
   },
   "outputs": [],
   "source": [
    "# Problem-1 Give an algorithm for finding maximum element in binary tree (not binary search tree)\n",
    "\n",
    "class Node(object):\n",
    "    def __init__(self):\n",
    "        self.data = None\n",
    "        self.left = None\n",
    "        self.right = None\n",
    "    def get_data(self):\n",
    "        return self.data\n",
    "    def set_data(self, new_data):\n",
    "        self.data = new_data\n",
    "    def get_left(self):\n",
    "        return self.left\n",
    "    def set_left(self, new_left):\n",
    "        self.left = new_left\n",
    "    def get_right(self):\n",
    "        return self.right\n",
    "    def set_right(self, new_right):\n",
    "        self.right = new_right\n",
    "class BinaryTree(object):\n",
    "    def __init__(self):\n",
    "        self.root = None\n",
    "    def insert_random_location(self, data):\n",
    "        node = Node()\n",
    "        node.set_data(data)\n",
    "        if self.root == None:\n",
    "            self.root = node\n",
    "        else:\n",
    "            curr = self.root\n",
    "            pred = None\n",
    "            import random\n",
    "            while curr != None:\n",
    "                pred = curr\n",
    "                if random.random() > 0.5:\n",
    "                    curr = curr.get_right()\n",
    "                else:\n",
    "                    curr = curr.get_left()\n",
    "            assert curr == None\n",
    "            if pred.get_left() == None:\n",
    "                pred.set_left(node)\n",
    "            else:\n",
    "                pred.set_right(node)\n",
    "    def display_postorder(self):\n",
    "        curr = self.root\n",
    "        visited = set()\n",
    "        stack = list()\n",
    "        # curr gets visited for the first time means curr gets touched\n",
    "        # if curr has a left NOT in visited, then visit left\n",
    "        # if curr has right NOT in visited, then visit right\n",
    "        # if curr has no left and no right, then print curr and add curr to visited\n",
    "        # unstack and check if left is visited, if left is not visited, then visit left\n",
    "        while curr != None or len(stack) > 0:\n",
    "            stack.append(curr)\n",
    "            left = curr.get_left()\n",
    "            right = curr.get_right()\n",
    "            #Base condition: leaf node or a node with both children visited\n",
    "            if ((left == None) or left in visited) and ((right == None) or right in visited):\n",
    "                visited.add(curr)\n",
    "                print curr.get_data()\n",
    "                if len(stack) > 1:\n",
    "                    stack.pop()\n",
    "                    curr = stack.pop()\n",
    "                    continue\n",
    "                else:\n",
    "                    return\n",
    "            if (left != None) and (left not in visited):\n",
    "                curr = left\n",
    "            if (right != None) and (right not in visited):\n",
    "                curr = right"
   ]
  },
  {
   "cell_type": "code",
   "execution_count": 15,
   "metadata": {
    "collapsed": false
   },
   "outputs": [],
   "source": [
    "node_datum = [1, 3, 4, 23, 2, 65, 32, 19]\n",
    "bt = BinaryTree()\n",
    "for data in node_datum:\n",
    "    bt.insert_random_location(data)"
   ]
  },
  {
   "cell_type": "code",
   "execution_count": 16,
   "metadata": {
    "collapsed": false
   },
   "outputs": [
    {
     "name": "stdout",
     "output_type": "stream",
     "text": [
      "2\n",
      "23\n",
      "4\n",
      "32\n",
      "19\n",
      "65\n",
      "3\n",
      "1\n"
     ]
    }
   ],
   "source": [
    "bt.display_postorder()"
   ]
  },
  {
   "cell_type": "code",
   "execution_count": null,
   "metadata": {
    "collapsed": true
   },
   "outputs": [],
   "source": []
  }
 ],
 "metadata": {
  "kernelspec": {
   "display_name": "Python 2",
   "language": "python",
   "name": "python2"
  },
  "language_info": {
   "codemirror_mode": {
    "name": "ipython",
    "version": 2
   },
   "file_extension": ".py",
   "mimetype": "text/x-python",
   "name": "python",
   "nbconvert_exporter": "python",
   "pygments_lexer": "ipython2",
   "version": "2.7.12"
  }
 },
 "nbformat": 4,
 "nbformat_minor": 2
}
