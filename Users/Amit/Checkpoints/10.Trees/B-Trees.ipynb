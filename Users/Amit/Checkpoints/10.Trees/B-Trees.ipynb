{
 "cells": [
  {
   "cell_type": "markdown",
   "metadata": {
    "collapsed": true
   },
   "source": [
    "# B-Trees\n",
    "\n",
    "B-Trees are useful when the data doesn't fit in memory. B-Trees is a data structure that minimizes I/O operations. Let's see how B-Trees does it. Many database systems use B-Trees of variant of B-Trees to store information.\n",
    "\n",
    "## Definition:\n",
    "\n",
    "We store keys in B-Trees. We also store pointers to the actual data pages besides the key. For this discussion we are going to assume that the data is the keys stored in a node of a B-Tree. A non empty B-Tree has at least 1 key in the root.\n",
    "\n",
    "If T is the B-Tree then T.root is it's root. Let's assume that x is one of the nodes in the B-Tree:\n",
    "\n",
    "1. x.n is the number of keys stored in node x\n",
    "2. $x.key_1$, $x.key_2$, $x.key_3$, ..., $x.key_{x.n}$ are the keys stored in node x\n",
    "3. x.leaf is a boolean that tells whether x is a leaf.\n",
    "4. x also contains (x.n+1) pointers to it's children say $x.c_1$, $x.c_2$, ...., $x.c_{x.n+1}$\n",
    "4. All leaves have the same depth, which is the height of the tree.\n",
    "\n",
    "With the exception of the root any node x has minimum t-1 keys or maximum 2t-1 keys where t is the degree of the B-Tree and t>=2. t is called the **minimum degree** of the B-Tree and the lower and upper bound on the number of keys that can be stored in a B-Tree is mentioned in terms of t.\n",
    "\n",
    "**We say a node x is full when it exactly has 2t-1 keys**\n",
    "\n",
    "**If the B-Tree is non-empty then root of the B-Tree must have at lease 1 key, no matter what value t has**\n"
   ]
  },
  {
   "cell_type": "markdown",
   "metadata": {},
   "source": [
    "# Worst case height of a B Tree\n",
    "\n",
    "A B-Tree of height h has **at least** 2 nodes at depth 1.\n",
    "\n",
    "has atleast (t-1) keys in any node besides the root. Root has at least 1 key.\n",
    "\n",
    "So, at depth 2, there are 2t nodes\n",
    "\n",
    "at depth 3, there are $2t^2$ nodes\n",
    "\n",
    "at depth h, there are $2t^{h-1}$ nodes\n",
    "\n",
    "if n is the total number of keys stored in the tree, that means:\n",
    "\n",
    "$n \\le 1 + (t-1)\\sum_{i=1}^{h} 2^{i-1}$\n",
    "\n",
    "$\\le 1 + 2(t-1) \\dfrac{(t^h -1)}{t-1}$\n",
    "\n",
    "$\\le 2^h - 1$\n",
    "\n",
    "$h \\ge \\log_t \\dfrac{n+1}{2}$"
   ]
  },
  {
   "cell_type": "markdown",
   "metadata": {},
   "source": [
    "# CLRS 18.1-1 \n",
    "## Why don't we allow a minimum degree of t=1 in a Binary Tree?\n",
    "\n",
    "### Answer: Discussion\n",
    "\n",
    "If a minimum degree of t=1, then the minimum number of keys that can be stored in a node would be (t-1) = 0, for t=1. This means that there could be a legal node that doens't store any key. This would lead to an unbalanced structure where algorithmic run time efficiency will no longer be $\\mathcal{O}(\\log_t{n})$ but be $\\mathcal{O}(n)$\n",
    "\n",
    "# CLRS 18.1-2\n",
    "## For what values of t is the tree of Figure 18.1 a legal B-tree?\n",
    "\n",
    "<img src=\"fig18.1.png\" />"
   ]
  },
  {
   "cell_type": "markdown",
   "metadata": {},
   "source": [
    "### Answer\n",
    "\n",
    "1. Because the minimum number of keys in any node besides the root is 2, and by definition minimum number of keys is t-1. Hence t-1 = 2 this implies t >= 3. \n",
    "\n",
    "2. Maximum can't be determined without disambiguity, or can it? If we say maximum number of keys is 3 then (2t-1) = 3, this implies, t=2, which is wrong because we have seen above that t>=3, hence we can have maximum of 5 keys in the B Tree shown in Figure 18.1\n",
    "\n",
    "Answer is t >= 3"
   ]
  },
  {
   "cell_type": "markdown",
   "metadata": {
    "collapsed": true
   },
   "source": [
    "```\n",
    "B-TREE-CREATE, B-TREE-INSERT, B-TREE-SEARCH\n",
    "\n",
    "B-TREE-CREATE(T):\n",
    "    x = ALLOCATE-NODE()\n",
    "    x.leaf = TRUE\n",
    "    x.n = 0\n",
    "    DISK-WRITE(x)\n",
    "    T.root = x\n",
    "\n",
    "B-TREE-SEARCH(x, k):\n",
    "    i = 1\n",
    "    while i<=x.n and k<=x.key[i]:\n",
    "        i++\n",
    "    if i<=x.n and k == x.key[i]:\n",
    "        return (x, i)\n",
    "    elif x.leaf:\n",
    "        return None\n",
    "    else DISK-READ(x.c[i]):\n",
    "        return B-TREE-SEARCH(x.c[i], k)\n",
    "        \n",
    "B-TREE-INSERT(x, k)\n",
    "```\n",
    "\n",
    "**ALLOCATE-NODE** takes $\\mathcal{O}(1)$ time to allocate one disk page to be used as a new node.\n",
    "\n",
    "**B-TREE-INSERT** is a bit more involved because we can not simply create a new node and insert it after searching for the appropriate position in the B-TREE\n",
    "\n",
    ".Because the resulting structure might not be a valid B-TREE. \n",
    "\n",
    "**We need to keep the rules of B-TREE intact. We can't insert into a node that is full (has 2t-1 keys). In this case we need to split the node into two.**\n",
    "\n",
    "We do this by finding the median key in the full node. We move the median key one level up. \n",
    "\n",
    "Because we are moving one key from a full node into the parent node we need to be sure that we split the parent node too if it's full already.\n",
    "\n",
    "**In order to keep the process simple, the algorithm will keep checking whether the intermediate nodes are full before we move down starting from root. If an intermediate node is full while searching for the position where we need to insert the new key, then we split the intermediate node. **\n",
    "\n",
    "In this manner when we get to the point that we can insert the new key, we are sure that the parent nodes are not full because we must have already taken care of that."
   ]
  },
  {
   "cell_type": "code",
   "execution_count": null,
   "metadata": {
    "collapsed": true
   },
   "outputs": [],
   "source": []
  }
 ],
 "metadata": {
  "kernelspec": {
   "display_name": "Python 2",
   "language": "python",
   "name": "python2"
  },
  "language_info": {
   "codemirror_mode": {
    "name": "ipython",
    "version": 2
   },
   "file_extension": ".py",
   "mimetype": "text/x-python",
   "name": "python",
   "nbconvert_exporter": "python",
   "pygments_lexer": "ipython2",
   "version": "2.7.12"
  }
 },
 "nbformat": 4,
 "nbformat_minor": 2
}
