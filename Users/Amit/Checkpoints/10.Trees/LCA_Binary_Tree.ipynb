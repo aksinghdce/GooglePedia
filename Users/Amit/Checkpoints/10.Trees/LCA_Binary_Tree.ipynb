{
 "cells": [
  {
   "cell_type": "markdown",
   "metadata": {},
   "source": [
    "# LCA for a binary tree:\n",
    "\n",
    "## Definition:\n",
    "\n",
    "### My words:\n",
    "\n",
    "The common ancestor of two given nodes that is farthest from the root is called the lowest common ancestor of the two nodes.\n",
    "\n",
    "### Wikipedia:\n",
    "\n",
    "Let T be a rooted tree. The lowest common ancestor between two nodes n1 and n2 is defined as the lowest node in T that has both n1 and n2 as descendants (where we allow a node to be a descendant of itself).\n",
    "\n",
    "The LCA of n1 and n2 in T is the shared ancestor of n1 and n2 that is located farthest from the root. Computation of lowest common ancestors may be useful, for instance, as part of a procedure for determining the distance between pairs of nodes in a tree: the distance from n1 to n2 can be computed as the distance from the root to n1, plus the distance from the root to n2, minus twice the distance from the root to their lowest common ancestor. "
   ]
  },
  {
   "cell_type": "markdown",
   "metadata": {},
   "source": [
    "# Algorithm:\n",
    "\n",
    "Method 1 (By Storing root to n1 and root to n2 paths):\n",
    "\n",
    "Following is simple O(n) algorithm to find LCA of n1 and n2.\n",
    "1. Find path from root to n1 and store it in a vector or array.\n",
    "2. Find path from root to n2 and store it in another vector or array.\n",
    "3. Traverse both paths till the values in arrays are same. Return the common element just before the mismatch."
   ]
  },
  {
   "cell_type": "code",
   "execution_count": 2,
   "metadata": {
    "collapsed": false
   },
   "outputs": [],
   "source": [
    "from BinarySearchTree import TreeNode, BST"
   ]
  },
  {
   "cell_type": "code",
   "execution_count": 3,
   "metadata": {
    "collapsed": false
   },
   "outputs": [],
   "source": [
    "from Binary_Tree import Node, BinaryTree"
   ]
  },
  {
   "cell_type": "code",
   "execution_count": 4,
   "metadata": {
    "collapsed": true
   },
   "outputs": [],
   "source": [
    "# Create the BinaryTree\n",
    "import random\n",
    "nodes = [int(random.random() * 100) for _ in xrange(10)]\n",
    "unique = set()\n",
    "[unique.add(data) for data in nodes]\n",
    "nodes = list(unique)"
   ]
  },
  {
   "cell_type": "code",
   "execution_count": 5,
   "metadata": {
    "collapsed": false
   },
   "outputs": [
    {
     "data": {
      "text/plain": [
       "[36, 70, 7, 15, 17, 52, 86, 91, 92, 30]"
      ]
     },
     "execution_count": 5,
     "metadata": {},
     "output_type": "execute_result"
    }
   ],
   "source": [
    "nodes"
   ]
  },
  {
   "cell_type": "code",
   "execution_count": 6,
   "metadata": {
    "collapsed": false
   },
   "outputs": [],
   "source": [
    "bt = BinaryTree()\n",
    "for node_data in nodes:\n",
    "    node = Node()\n",
    "    node.set_data(node_data)\n",
    "    bt.insert_random_location(node)"
   ]
  },
  {
   "cell_type": "code",
   "execution_count": 7,
   "metadata": {
    "collapsed": false
   },
   "outputs": [
    {
     "data": {
      "image/png": "[encoded data removed]",
      "text/plain": [
       "<matplotlib.figure.Figure at 0x7f154a32f790>"
      ]
     },
     "metadata": {},
     "output_type": "display_data"
    },
    {
     "data": {
      "image/png": "[encoded data removed]",
      "text/plain": [
       "<matplotlib.figure.Figure at 0x7f1545596290>"
      ]
     },
     "metadata": {},
     "output_type": "display_data"
    }
   ],
   "source": [
    "bt.graphical_display()"
   ]
  }
 ],
 "metadata": {
  "kernelspec": {
   "display_name": "Python 2",
   "language": "python",
   "name": "python2"
  },
  "language_info": {
   "codemirror_mode": {
    "name": "ipython",
    "version": 2
   },
   "file_extension": ".py",
   "mimetype": "text/x-python",
   "name": "python",
   "nbconvert_exporter": "python",
   "pygments_lexer": "ipython2",
   "version": "2.7.12"
  }
 },
 "nbformat": 4,
 "nbformat_minor": 2
}
