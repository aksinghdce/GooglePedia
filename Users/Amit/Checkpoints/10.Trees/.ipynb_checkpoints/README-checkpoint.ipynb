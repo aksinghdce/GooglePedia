{
 "cells": [
  {
   "cell_type": "markdown",
   "metadata": {},
   "source": [
    "# Introduction\n",
    "\n",
    "## Balanced Search Trees\n",
    "1. Create Binary Search Trees\n",
    "2. Insert into the Tree\n",
    "3. Display the Tree\n",
    "4. Traverse the Tree\n",
    "    1. In order traversal both resursive and non-recursive\n",
    "    2. Pre-Order and Post-Order traversal\n",
    "5. BST and BT Problems\n",
    "    1. Calculate the Height of a BT\n",
    "## Binary Trees\n",
    "1. Create Random Binary Tree to study it's properties\n",
    "## B Trees\n",
    "1. Definition of the B Trees, motivation and scope\n",
    "2. Problems and discussions from CLRS\n",
    "3. Understanding the algorithms and Implementation\n",
    "4. Problems and discussions from CLRS"
   ]
  }
 ],
 "metadata": {
  "kernelspec": {
   "display_name": "Python 2",
   "language": "python",
   "name": "python2"
  },
  "language_info": {
   "codemirror_mode": {
    "name": "ipython",
    "version": 2
   },
   "file_extension": ".py",
   "mimetype": "text/x-python",
   "name": "python",
   "nbconvert_exporter": "python",
   "pygments_lexer": "ipython2",
   "version": "2.7.12"
  }
 },
 "nbformat": 4,
 "nbformat_minor": 2
}
