{
 "cells": [
  {
   "cell_type": "code",
   "execution_count": 2,
   "metadata": {
    "collapsed": true
   },
   "outputs": [],
   "source": [
    "class TreeNode(object):\n",
    "    def __init__(self):\n",
    "        self.data = None\n",
    "        self.left = None\n",
    "        self.right = None\n",
    "    def set_left(self, left_node):\n",
    "        self.left = left_node\n",
    "    def get_left(self):\n",
    "        return self.left\n",
    "    def get_right(self):\n",
    "        return self.right\n",
    "    def set_right(self, right_node):\n",
    "        self.right = right_node\n",
    "    def set_data(self, data):\n",
    "        self.data = data\n",
    "    def get_data(self):\n",
    "        return self.data"
   ]
  },
  {
   "cell_type": "code",
   "execution_count": 4,
   "metadata": {
    "collapsed": false
   },
   "outputs": [],
   "source": [
    "class BST(object):\n",
    "    def __init__(self):\n",
    "        self.root = None\n",
    "    # for insertion the base case is trivial\n",
    "    # For other cases we need to keep track of predecessor while traversing the tree\n",
    "    # as per the vaule of the node being inserted\n",
    "    # a special case is if the new node's data already exists in the tree\n",
    "    def insert(self, node):\n",
    "        if node == None:\n",
    "            print \"node passed is None\"\n",
    "            return\n",
    "        node_data = node.get_data()\n",
    "        if self.root == None:\n",
    "            self.root = node\n",
    "        else:\n",
    "            curr = self.root\n",
    "            pred = None\n",
    "            while curr != None:\n",
    "                if node_data < curr.get_data():\n",
    "                    pred = curr\n",
    "                    curr = curr.get_left()\n",
    "                elif node_data > curr.get_data():\n",
    "                    pred = curr\n",
    "                    curr = curr.get_right()\n",
    "                elif node_data == curr.get_data():\n",
    "                    node.set_left(curr.get_left())\n",
    "                    curr.set_left(node)\n",
    "                    return\n",
    "            assert curr == None\n",
    "            if pred.get_data() >= node_data:\n",
    "                pred.set_left(node)\n",
    "            else:\n",
    "                pred.set_right(node)\n",
    "    def insert_unique(self, node):\n",
    "        if node == None:\n",
    "            print \"node passed is None\"\n",
    "            return\n",
    "        node_data = node.get_data()\n",
    "        if self.root == None:\n",
    "            self.root = node\n",
    "        else:\n",
    "            curr = self.root\n",
    "            pred = None\n",
    "            while curr != None:\n",
    "                if node_data < curr.get_data():\n",
    "                    pred = curr\n",
    "                    curr = curr.get_left()\n",
    "                elif node_data > curr.get_data():\n",
    "                    pred = curr\n",
    "                    curr = curr.get_right()\n",
    "                elif node_data == curr.get_data():\n",
    "                    return\n",
    "            assert curr == None\n",
    "            if pred.get_data() >= node_data:\n",
    "                pred.set_left(node)\n",
    "            else:\n",
    "                pred.set_right(node)\n",
    "\n",
    "    # In pre order traversal, we keep pushing left, right of every node in a queue\n",
    "    # so that nodes are printed in the order they are visited in pre order\n",
    "    def display_preorder(self, node):\n",
    "        queue = list()\n",
    "        queue.append(node)\n",
    "        while len(queue) > 0:\n",
    "            curr = queue[0]\n",
    "            print curr.get_data()\n",
    "            queue = queue[1:]\n",
    "            left = curr.get_left()\n",
    "            if left:\n",
    "                queue.append(curr.get_left())\n",
    "            right = curr.get_right()\n",
    "            if right:\n",
    "                queue.append(curr.get_right())\n",
    "    # In post order we need to print the children before the self\n",
    "    # this means we need to keep track of the children that are already visited\n",
    "    # so we need a visited set and a stack to keep the intermediate nodes\n",
    "    # a stack would be popped if either both the children are None or both the children \n",
    "    # are visited\n",
    "    def display_postorder(self, node):\n",
    "        curr = node\n",
    "        visited = set()\n",
    "        stack = list()\n",
    "        # curr gets visited for the first time means curr gets touched\n",
    "        # if curr has a left NOT in visited, then visit left\n",
    "        # if curr has right NOT in visited, then visit right\n",
    "        # if curr has no left and no right, then print curr and add curr to visited\n",
    "        # unstack and check if left is visited, if left is not visited, then visit left\n",
    "        while curr != None or len(stack) > 0:\n",
    "            stack.append(curr)\n",
    "            left = curr.get_left()\n",
    "            right = curr.get_right()\n",
    "            #Base condition: leaf node or a node with both children visited\n",
    "            if ((left == None) or left in visited) and ((right == None) or right in visited):\n",
    "                visited.add(curr)\n",
    "                print curr.get_data()\n",
    "                if len(stack) > 1:\n",
    "                    stack.pop()\n",
    "                    curr = stack.pop()\n",
    "                    continue\n",
    "                else:\n",
    "                    return\n",
    "            if (left != None) and (left not in visited):\n",
    "                curr = left\n",
    "            if (right != None) and (right not in visited):\n",
    "                curr = right\n",
    "            \n",
    "            \n",
    "    def display(self, node):\n",
    "        curr = node\n",
    "        if curr != None:\n",
    "            self.display(curr.left)\n",
    "            print curr.get_data()\n",
    "            self.display(curr.right)\n",
    "            \n",
    "    def inorder_generator(self):\n",
    "        curr = self.root\n",
    "        if curr != None:\n",
    "            self.display(curr.left)\n",
    "            yield curr.get_data()\n",
    "            self.display(curr.right)\n",
    "        else:\n",
    "            raise StopIteration\n",
    "    # in inorder traversal, we keep going left and keep pushing\n",
    "    # in the stack, when we hit extreme left then we pop and go right\n",
    "    # and treat the right node as the new tree being traversed in inorder\n",
    "    def display_non_recursive(self, node):\n",
    "        stack = list()\n",
    "        curr = node\n",
    "        while True:\n",
    "            while curr != None:\n",
    "                stack.append(curr)\n",
    "                curr = curr.get_left()\n",
    "            if len(stack) == 0:\n",
    "                return\n",
    "            curr = stack.pop()\n",
    "            print curr.get_data()\n",
    "            curr = curr.get_right()\n",
    "    def display_nr2(self, node):\n",
    "        stack = list()\n",
    "        curr = node\n",
    "        while True:\n",
    "            while curr != None:\n",
    "                stack.append(curr)\n",
    "                curr = curr.get_left()\n",
    "            if len(stack) == 0:\n",
    "                return\n",
    "            curr = stack.pop()\n",
    "            print curr.get_data()\n",
    "            curr = curr.get_right()\n",
    "            \n",
    "    def get_root(self):\n",
    "        return self.root\n",
    "    \n",
    "    # height of an empty tree is -1, height of a tree with just one node is 0\n",
    "    # height ::= number of edges connecting the root with the deepest leaf\n",
    "    def height(self, root):\n",
    "        if root == None:\n",
    "            return -1\n",
    "        else:\n",
    "            return 1 + max(self.height(root.get_left()), self.height(root.get_right()))\n",
    "    def graphical_display(self):\n",
    "        import matplotlib.pyplot as plt\n",
    "        from matplotlib.lines import Line2D\n",
    "        %matplotlib inline\n",
    "        plt.axis('off')\n",
    "        fig, ax = plt.subplots()\n",
    "        plt.axis([0, 100, 0, 100])\n",
    "        curr = self.root\n",
    "        x = 50\n",
    "        y = 90\n",
    "        display_data = list()\n",
    "        stack = list()\n",
    "        while curr or len(stack)>0:\n",
    "            while curr:\n",
    "                display_data.append((x, y, curr.get_data()))\n",
    "                stack.append(curr)\n",
    "                curr = curr.get_left()\n",
    "                x = x - 5\n",
    "                y = y - 5\n",
    "            if len(stack)>0:\n",
    "                curr = stack.pop()\n",
    "                x_, y_, data = display_data.pop()\n",
    "                plt.axis('off')\n",
    "                ax.add_artist(plt.Circle((x_, y_), 1))\n",
    "                ax.text(x_, y_, str(data))\n",
    "                curr = curr.get_right()\n",
    "                y = y_ - 5\n",
    "                x = x_ + 5"
   ]
  },
  {
   "cell_type": "code",
   "execution_count": null,
   "metadata": {
    "collapsed": true
   },
   "outputs": [],
   "source": [
    "nodes = [2, 1, 3, 7, 2.5, 2.7, 2.9]\n",
    "#nodes = [1, 0, 2, 12, -3, -14, 14, 23, 21, 22, 2]"
   ]
  },
  {
   "cell_type": "code",
   "execution_count": null,
   "metadata": {
    "collapsed": false
   },
   "outputs": [],
   "source": [
    "bst = BST()\n",
    "for node_data in nodes:\n",
    "    node = TreeNode()\n",
    "    node.set_data(node_data)\n",
    "    bst.insert(node)"
   ]
  },
  {
   "cell_type": "code",
   "execution_count": null,
   "metadata": {
    "collapsed": false
   },
   "outputs": [],
   "source": [
    "#bst.display(bst.get_root())"
   ]
  },
  {
   "cell_type": "code",
   "execution_count": null,
   "metadata": {
    "collapsed": false
   },
   "outputs": [],
   "source": [
    "#bst.display_non_recursive(bst.get_root())"
   ]
  },
  {
   "cell_type": "code",
   "execution_count": null,
   "metadata": {
    "collapsed": false
   },
   "outputs": [],
   "source": [
    "#bst.display_nr2(bst.get_root())"
   ]
  },
  {
   "cell_type": "code",
   "execution_count": null,
   "metadata": {
    "collapsed": false
   },
   "outputs": [],
   "source": [
    "#bst.display_preorder(bst.get_root())"
   ]
  },
  {
   "cell_type": "code",
   "execution_count": null,
   "metadata": {
    "collapsed": false
   },
   "outputs": [],
   "source": [
    "#bst.display_postorder(bst.get_root())"
   ]
  },
  {
   "cell_type": "code",
   "execution_count": null,
   "metadata": {
    "collapsed": false
   },
   "outputs": [],
   "source": [
    "#bst.height(bst.get_root())"
   ]
  },
  {
   "cell_type": "code",
   "execution_count": null,
   "metadata": {
    "collapsed": true
   },
   "outputs": [],
   "source": []
  }
 ],
 "metadata": {
  "kernelspec": {
   "display_name": "Python 2",
   "language": "python",
   "name": "python2"
  },
  "language_info": {
   "codemirror_mode": {
    "name": "ipython",
    "version": 2
   },
   "file_extension": ".py",
   "mimetype": "text/x-python",
   "name": "python",
   "nbconvert_exporter": "python",
   "pygments_lexer": "ipython2",
   "version": "2.7.12"
  }
 },
 "nbformat": 4,
 "nbformat_minor": 2
}
