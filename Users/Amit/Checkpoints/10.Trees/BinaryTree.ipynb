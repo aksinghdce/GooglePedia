{
 "cells": [
  {
   "cell_type": "code",
   "execution_count": 1,
   "metadata": {
    "collapsed": true
   },
   "outputs": [],
   "source": [
    "class TreeNode(object):\n",
    "    def __init__(self):\n",
    "        self.data = None\n",
    "        self.left = None\n",
    "        self.right = None\n",
    "    def set_left(self, left_node):\n",
    "        self.left = left_node\n",
    "    def get_left(self):\n",
    "        return self.left\n",
    "    def get_right(self):\n",
    "        return self.right\n",
    "    def set_right(self, right_node):\n",
    "        self.right = right_node\n",
    "    def set_data(self, data):\n",
    "        self.data = data\n",
    "    def get_data(self):\n",
    "        return self.data"
   ]
  },
  {
   "cell_type": "code",
   "execution_count": 10,
   "metadata": {
    "collapsed": false
   },
   "outputs": [],
   "source": [
    "class BST(object):\n",
    "    def __init__(self):\n",
    "        self.root = None\n",
    "    def insert(self, node):\n",
    "        if node == None:\n",
    "            print \"node passed is None\"\n",
    "        node_data = node.get_data()\n",
    "        if self.root == None:\n",
    "            self.root = node\n",
    "        else:\n",
    "            curr = self.root\n",
    "            pred = None\n",
    "            while curr != None:\n",
    "                if node_data < curr.get_data():\n",
    "                    pred = curr\n",
    "                    curr = curr.get_left()\n",
    "                elif node_data > curr.get_data():\n",
    "                    pred = curr\n",
    "                    curr = curr.get_right()\n",
    "                elif node_data == curr.get_data():\n",
    "                    node.set_left(curr.get_left())\n",
    "                    curr.set_left(node)\n",
    "                    return\n",
    "            assert curr == None\n",
    "            if pred.get_data() >= node_data:\n",
    "                pred.set_left(node)\n",
    "            else:\n",
    "                pred.set_right(node)\n",
    "    \n",
    "    def display_preorder(self, node):\n",
    "        queue = list()\n",
    "        queue.append(node)\n",
    "        while len(queue) > 0:\n",
    "            curr = queue[0]\n",
    "            print curr.get_data()\n",
    "            queue = queue[1:]\n",
    "            left = curr.get_left()\n",
    "            if left:\n",
    "                queue.append(curr.get_left())\n",
    "            right = curr.get_right()\n",
    "            if right:\n",
    "                queue.append(curr.get_right())\n",
    "    \n",
    "    def display_postorder(self, node):\n",
    "        curr = node\n",
    "        visited = set()\n",
    "        stack = list()\n",
    "        # curr gets visited for the first time means curr gets touched\n",
    "        # if curr has a left NOT in visited, then visit left\n",
    "        # if curr has right NOT in visited, then visit right\n",
    "        # if curr has no left and no right, then print curr and add curr to visited\n",
    "        # unstack and check if left is visited, if left is not visited, then visit left\n",
    "        while curr != None or len(stack) > 0:\n",
    "            stack.append(curr)\n",
    "            left = curr.get_left()\n",
    "            right = curr.get_right()\n",
    "            #Base condition: leaf node\n",
    "            if ((left == None) or left in visited) and ((right == None) or right in visited):\n",
    "                visited.add(curr)\n",
    "                print curr.get_data()\n",
    "                if len(stack) > 1:\n",
    "                    stack.pop()\n",
    "                    curr = stack.pop()\n",
    "                    continue\n",
    "                else:\n",
    "                    return\n",
    "            if (left != None) and (left not in visited):\n",
    "                curr = left\n",
    "            if (right != None) and (right not in visited):\n",
    "                curr = right\n",
    "            \n",
    "            \n",
    "    def display(self, node):\n",
    "        curr = node\n",
    "        if curr != None:\n",
    "            self.display(curr.left)\n",
    "            print curr.get_data()\n",
    "            self.display(curr.right)\n",
    "    def display_non_recursive(self, node):\n",
    "        stack = list()\n",
    "        curr = node\n",
    "        while True:\n",
    "            while curr != None:\n",
    "                stack.append(curr)\n",
    "                curr = curr.get_left()\n",
    "            if len(stack) == 0:\n",
    "                return\n",
    "            curr = stack.pop()\n",
    "            print curr.get_data()\n",
    "            curr = curr.get_right()\n",
    "    def display_nr2(self, node):\n",
    "        stack = list()\n",
    "        curr = node\n",
    "        while True:\n",
    "            while curr != None:\n",
    "                stack.append(curr)\n",
    "                curr = curr.get_left()\n",
    "            if len(stack) == 0:\n",
    "                return\n",
    "            curr = stack.pop()\n",
    "            print curr.get_data()\n",
    "            curr = curr.get_right()\n",
    "            \n",
    "    def get_root(self):\n",
    "        return self.root"
   ]
  },
  {
   "cell_type": "code",
   "execution_count": 32,
   "metadata": {
    "collapsed": true
   },
   "outputs": [],
   "source": [
    "nodes = [2, 4, 13, 11, 5, 7, 9]\n",
    "nodes = [1, 0, 2, 12, -3, -14, 14, 23, 21, 22, 2]"
   ]
  },
  {
   "cell_type": "code",
   "execution_count": 33,
   "metadata": {
    "collapsed": false
   },
   "outputs": [],
   "source": [
    "bst = BST()\n",
    "for node_data in nodes:\n",
    "    node = TreeNode()\n",
    "    node.set_data(node_data)\n",
    "    bst.insert(node)"
   ]
  },
  {
   "cell_type": "code",
   "execution_count": 34,
   "metadata": {
    "collapsed": false
   },
   "outputs": [
    {
     "name": "stdout",
     "output_type": "stream",
     "text": [
      "-14\n",
      "-3\n",
      "0\n",
      "1\n",
      "2\n",
      "2\n",
      "12\n",
      "14\n",
      "21\n",
      "22\n",
      "23\n"
     ]
    }
   ],
   "source": [
    "bst.display(bst.get_root())"
   ]
  },
  {
   "cell_type": "code",
   "execution_count": 35,
   "metadata": {
    "collapsed": false
   },
   "outputs": [
    {
     "name": "stdout",
     "output_type": "stream",
     "text": [
      "-14\n",
      "-3\n",
      "0\n",
      "1\n",
      "2\n",
      "2\n",
      "12\n",
      "14\n",
      "21\n",
      "22\n",
      "23\n"
     ]
    }
   ],
   "source": [
    "bst.display_non_recursive(bst.get_root())"
   ]
  },
  {
   "cell_type": "code",
   "execution_count": 36,
   "metadata": {
    "collapsed": false
   },
   "outputs": [
    {
     "name": "stdout",
     "output_type": "stream",
     "text": [
      "-14\n",
      "-3\n",
      "0\n",
      "1\n",
      "2\n",
      "2\n",
      "12\n",
      "14\n",
      "21\n",
      "22\n",
      "23\n"
     ]
    }
   ],
   "source": [
    "bst.display_nr2(bst.get_root())"
   ]
  },
  {
   "cell_type": "code",
   "execution_count": 37,
   "metadata": {
    "collapsed": false
   },
   "outputs": [
    {
     "name": "stdout",
     "output_type": "stream",
     "text": [
      "1\n",
      "0\n",
      "2\n",
      "-3\n",
      "2\n",
      "12\n",
      "-14\n",
      "14\n",
      "23\n",
      "21\n",
      "22\n"
     ]
    }
   ],
   "source": [
    "bst.display_preorder(bst.get_root())"
   ]
  },
  {
   "cell_type": "code",
   "execution_count": 38,
   "metadata": {
    "collapsed": false
   },
   "outputs": [
    {
     "name": "stdout",
     "output_type": "stream",
     "text": [
      "22\n",
      "21\n",
      "23\n",
      "14\n",
      "12\n",
      "2\n",
      "2\n",
      "-14\n",
      "-3\n",
      "0\n",
      "1\n"
     ]
    }
   ],
   "source": [
    "bst.display_postorder(bst.get_root())"
   ]
  },
  {
   "cell_type": "code",
   "execution_count": null,
   "metadata": {
    "collapsed": true
   },
   "outputs": [],
   "source": []
  }
 ],
 "metadata": {
  "kernelspec": {
   "display_name": "Python 2",
   "language": "python",
   "name": "python2"
  },
  "language_info": {
   "codemirror_mode": {
    "name": "ipython",
    "version": 2
   },
   "file_extension": ".py",
   "mimetype": "text/x-python",
   "name": "python",
   "nbconvert_exporter": "python",
   "pygments_lexer": "ipython2",
   "version": "2.7.12"
  }
 },
 "nbformat": 4,
 "nbformat_minor": 2
}
