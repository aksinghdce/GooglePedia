{
 "cells": [
  {
   "cell_type": "markdown",
   "metadata": {},
   "source": [
    "[Rearrange characters in a string such that no two adjacent are same](http://www.geeksforgeeks.org/rearrange-characters-string-no-two-adjacent/)"
   ]
  },
  {
   "cell_type": "markdown",
   "metadata": {},
   "source": [
    "Idea is to use a loop invariant such that we start with an empty result substring. We increase the size of the substring such that no adjacent characters in this substring are same. We keep on increasing the length of this substring till the substring gets to the length of the original string. If not, then we return that it's impossible."
   ]
  },
  {
   "cell_type": "code",
   "execution_count": 1,
   "metadata": {
    "collapsed": true
   },
   "outputs": [],
   "source": [
    "def adj_chars_not_same(inpt):\n",
    "    # convert input string to list, so that we can mutate it.\n",
    "    st = list(inpt)\n",
    "    # loop invariant: st[:p] must not have two adjacent characters that are equal\n",
    "    q = 0\n",
    "    p = q - 1\n",
    "    while q < len(st) and p < len(st):\n",
    "        p += 1\n",
    "        q += 1\n",
    "        while q < len(st) and st[p] == st[q]:\n",
    "            q += 1\n",
    "        # here we satisfy the loop invariant while increasing the size of the substring\n",
    "        if q < len(st):\n",
    "            p += 1\n",
    "            st[p], st[q] = st[q], st[p]\n",
    "            q = p + 1\n",
    "        else:\n",
    "            break\n",
    "    # termination condition: p has to be one less than q else we know that p is less than the size of the original string\n",
    "    if p == q - 1:\n",
    "        return \"\".join(st)\n",
    "    else:\n",
    "        return \"Not Possible\""
   ]
  },
  {
   "cell_type": "code",
   "execution_count": 2,
   "metadata": {
    "collapsed": false
   },
   "outputs": [
    {
     "data": {
      "text/plain": [
       "'abaca'"
      ]
     },
     "execution_count": 2,
     "metadata": {},
     "output_type": "execute_result"
    }
   ],
   "source": [
    "adj_chars_not_same(\"aaabc\")"
   ]
  },
  {
   "cell_type": "markdown",
   "metadata": {
    "collapsed": false
   },
   "source": [
    "adj_chars_not_same(\"aa\")"
   ]
  },
  {
   "cell_type": "code",
   "execution_count": 4,
   "metadata": {
    "collapsed": false
   },
   "outputs": [
    {
     "data": {
      "text/plain": [
       "'ababa'"
      ]
     },
     "execution_count": 4,
     "metadata": {},
     "output_type": "execute_result"
    }
   ],
   "source": [
    "adj_chars_not_same(\"aaabb\")"
   ]
  },
  {
   "cell_type": "code",
   "execution_count": 5,
   "metadata": {
    "collapsed": false
   },
   "outputs": [
    {
     "data": {
      "text/plain": [
       "'Not Possible'"
      ]
     },
     "execution_count": 5,
     "metadata": {},
     "output_type": "execute_result"
    }
   ],
   "source": [
    "adj_chars_not_same(\"aaaabc\")"
   ]
  },
  {
   "cell_type": "markdown",
   "metadata": {},
   "source": [
    "The following two test cases fail. Result for \"bbaaa\" should be \"ababa\""
   ]
  },
  {
   "cell_type": "code",
   "execution_count": 8,
   "metadata": {
    "collapsed": false
   },
   "outputs": [
    {
     "data": {
      "text/plain": [
       "'babaa'"
      ]
     },
     "execution_count": 8,
     "metadata": {},
     "output_type": "execute_result"
    }
   ],
   "source": [
    "adj_chars_not_same(\"bbaaa\")"
   ]
  },
  {
   "cell_type": "markdown",
   "metadata": {},
   "source": [
    "And the result for \"bcaaa\" must be \"ababa\""
   ]
  },
  {
   "cell_type": "code",
   "execution_count": 9,
   "metadata": {
    "collapsed": false
   },
   "outputs": [
    {
     "data": {
      "text/plain": [
       "'Not Possible'"
      ]
     },
     "execution_count": 9,
     "metadata": {},
     "output_type": "execute_result"
    }
   ],
   "source": [
    "adj_chars_not_same(\"bcaaa\")"
   ]
  },
  {
   "cell_type": "markdown",
   "metadata": {},
   "source": [
    "Solution mentioned on geeksforgeeks.org uses a heap data structure to implement this.\n",
    "\n",
    "Idea is : \n",
    "1. Construct a priority queue (max heap parameterized on the frequency of occurrence).\n",
    "2. "
   ]
  }
 ],
 "metadata": {
  "kernelspec": {
   "display_name": "Python 2",
   "language": "python",
   "name": "python2"
  },
  "language_info": {
   "codemirror_mode": {
    "name": "ipython",
    "version": 2
   },
   "file_extension": ".py",
   "mimetype": "text/x-python",
   "name": "python",
   "nbconvert_exporter": "python",
   "pygments_lexer": "ipython2",
   "version": "2.7.12"
  }
 },
 "nbformat": 4,
 "nbformat_minor": 2
}
