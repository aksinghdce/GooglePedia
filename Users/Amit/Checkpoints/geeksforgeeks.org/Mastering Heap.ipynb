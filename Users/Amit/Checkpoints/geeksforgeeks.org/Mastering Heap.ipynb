{
 "cells": [
  {
   "cell_type": "markdown",
   "metadata": {},
   "source": [
    "Question: What are the minimum and maximum number of elements in a heap of height h?\n",
    "\n",
    "Answer: Minimum : $2^h$ , Maximum: $2^{h+1} - 1$"
   ]
  },
  {
   "cell_type": "markdown",
   "metadata": {},
   "source": [
    "# Build Max-Heap\n",
    "\n",
    "We need to know that in a heap data structure the leaves start from (len(A)/2 + 1). Because if you want to get the child of this leaf you would get 2*(len(A) / 2 + 1) = len(A) + 2, which is not possible. Even the last element of the array is the child of the array-index len(A)/2\n",
    "\n",
    "We also need the procedure MAX-HEAPIFY(A, i)"
   ]
  },
  {
   "cell_type": "code",
   "execution_count": 57,
   "metadata": {
    "collapsed": true
   },
   "outputs": [],
   "source": [
    "def max_heapify(A, i):\n",
    "    l = 2 * i + 1\n",
    "    r = 2 * i + 2\n",
    "    if l >= len(A) and r >= len(A):\n",
    "        return\n",
    "    if l < len(A) and A[l] >= A[i]:\n",
    "        largest = l\n",
    "    else:\n",
    "        largest = i\n",
    "    if r < len(A) and A[r] >= A[largest]:\n",
    "        largest = r\n",
    "    if largest != i:\n",
    "        A[largest], A[i] = A[i], A[largest]\n",
    "        max_heapify(A, largest)"
   ]
  },
  {
   "cell_type": "code",
   "execution_count": 63,
   "metadata": {
    "collapsed": true
   },
   "outputs": [],
   "source": [
    "def max_heapify_non_rec(A, i):\n",
    "    while i < (len(A) / 2):\n",
    "        l = 2 * i + 1\n",
    "        r = 2 * i + 2\n",
    "        if l >= len(A):\n",
    "            break\n",
    "        if l < len(A) and A[l] >= A[i]:\n",
    "            largest = l\n",
    "        else:\n",
    "            largest = i\n",
    "        if r < len(A) and A[r] >= A[largest]:\n",
    "            largest = r\n",
    "        if largest != i:\n",
    "            A[largest], A[i] = A[i], A[largest]\n",
    "            i = largest"
   ]
  },
  {
   "cell_type": "code",
   "execution_count": 66,
   "metadata": {
    "collapsed": true
   },
   "outputs": [],
   "source": [
    "def build_max_heap(A):\n",
    "    i = len(A) / 2 - 1\n",
    "    while i >= 0:\n",
    "        max_heapify(A, i)\n",
    "        i = i - 1\n",
    "    return A"
   ]
  },
  {
   "cell_type": "code",
   "execution_count": 67,
   "metadata": {
    "collapsed": true
   },
   "outputs": [],
   "source": [
    "def build_max_heap_non_rec(A):\n",
    "    i = len(A) / 2 - 1\n",
    "    while i >= 0:\n",
    "        max_heapify_non_rec(A, i)\n",
    "        i = i - 1\n",
    "    return A"
   ]
  },
  {
   "cell_type": "code",
   "execution_count": 68,
   "metadata": {
    "collapsed": false
   },
   "outputs": [
    {
     "data": {
      "text/plain": [
       "[16, 9, 7, 4, 2, 3, 1]"
      ]
     },
     "execution_count": 68,
     "metadata": {},
     "output_type": "execute_result"
    }
   ],
   "source": [
    "build_max_heap([1, 2, 3, 4, 9, 16, 7])"
   ]
  },
  {
   "cell_type": "code",
   "execution_count": 69,
   "metadata": {
    "collapsed": false
   },
   "outputs": [
    {
     "data": {
      "text/plain": [
       "[16, 9, 7, 4, 2, 3, 1]"
      ]
     },
     "execution_count": 69,
     "metadata": {},
     "output_type": "execute_result"
    }
   ],
   "source": [
    "build_max_heap_non_rec([1, 2, 3, 4, 9, 16, 7])"
   ]
  },
  {
   "cell_type": "code",
   "execution_count": 60,
   "metadata": {
    "collapsed": true
   },
   "outputs": [],
   "source": [
    "def min_heapify(A, i):\n",
    "    l = 2*i + 1\n",
    "    r = 2*i + 2\n",
    "    if l >= len(A) and r >= len(A):\n",
    "        return\n",
    "    if l < len(A) and A[l] <= A[i]:\n",
    "        smallest = l\n",
    "    else:\n",
    "        smallest = i\n",
    "    if r < len(A) and A[r] <= A[smallest]:\n",
    "        smallest= r\n",
    "    if smallest != i:\n",
    "        A[smallest], A[i] = A[i], A[smallest]\n",
    "        min_heapify(A, smallest)"
   ]
  },
  {
   "cell_type": "code",
   "execution_count": 61,
   "metadata": {
    "collapsed": true
   },
   "outputs": [],
   "source": [
    "def build_min_heap(A):\n",
    "    i = len(A) / 2\n",
    "    while i >= 0:\n",
    "        min_heapify(A, i)\n",
    "        i = i - 1\n",
    "    return A"
   ]
  },
  {
   "cell_type": "code",
   "execution_count": 62,
   "metadata": {
    "collapsed": false
   },
   "outputs": [
    {
     "data": {
      "text/plain": [
       "[1, 2, 4, 5, 3, 12]"
      ]
     },
     "execution_count": 62,
     "metadata": {},
     "output_type": "execute_result"
    }
   ],
   "source": [
    "build_min_heap([12, 3, 4, 5, 2, 1])"
   ]
  }
 ],
 "metadata": {
  "kernelspec": {
   "display_name": "Python 2",
   "language": "python",
   "name": "python2"
  },
  "language_info": {
   "codemirror_mode": {
    "name": "ipython",
    "version": 2
   },
   "file_extension": ".py",
   "mimetype": "text/x-python",
   "name": "python",
   "nbconvert_exporter": "python",
   "pygments_lexer": "ipython2",
   "version": "2.7.12"
  }
 },
 "nbformat": 4,
 "nbformat_minor": 2
}
