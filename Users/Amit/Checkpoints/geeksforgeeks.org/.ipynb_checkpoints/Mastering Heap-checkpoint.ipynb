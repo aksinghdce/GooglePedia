{
 "cells": [
  {
   "cell_type": "markdown",
   "metadata": {},
   "source": [
    "# Practice working with Heap Data Structures and Algorithms from CLRS and Geeks for Geeks. Org\n",
    "\n",
    "## CLRS"
   ]
  },
  {
   "cell_type": "markdown",
   "metadata": {},
   "source": [
    "**Question**: What are the minimum and maximum number of elements in a heap of height h?\n",
    "\n",
    "**Answer**: Minimum : $2^h$ , Maximum: $2^{h+1} - 1$\n",
    "\n",
    "**Explanation**: Minimum number of elements in a heap of height h is size of a binary tree of height (h-1) + 1. In short it's (size(h-1) + 1) and maximum number of elements in a heap of height h is size of a binary tree of height h - 1. In short that is size(h)\n",
    "\n",
    "To calculate size(h-1) :\n",
    "\n",
    "size(0) = $2^0$ = 1\n",
    "\n",
    "size(1) = $2^0$ + $2^1$ = 3\n",
    "\n",
    "...\n",
    "\n",
    "...\n",
    "\n",
    "size(h-1) = $2^0$ + $2^1$ + $2^2$ + $2^{h-1}$ = $2^0 (1 - 2^h) / (1-2)$ = $2^h - 1$\n",
    "\n",
    "so minumum = $2^h - 1 + 1$ = $2^h$\n",
    "\n",
    "and maximum = $2^{h+1} - 1$"
   ]
  },
  {
   "cell_type": "markdown",
   "metadata": {},
   "source": [
    "# Build Max-Heap\n",
    "\n",
    "We need to know that in a heap data structure the leaves start from (len(A)/2 + 1) for an array indexed at 1 and len(A)/2 for an array indexed at 0. Because if you want to get the child of this leaf you would get 2*(len(A) / 2 + 1) = len(A) + 2, which is not possible. Even the last element of the array is the child of the array-index len(A)/2\n",
    "\n",
    "We also need the procedure MAX-HEAPIFY(A, i)"
   ]
  },
  {
   "cell_type": "code",
   "execution_count": 57,
   "metadata": {
    "collapsed": true
   },
   "outputs": [],
   "source": [
    "def max_heapify(A, i):\n",
    "    l = 2 * i + 1\n",
    "    r = 2 * i + 2\n",
    "    if l >= len(A) and r >= len(A):\n",
    "        return\n",
    "    if l < len(A) and A[l] >= A[i]:\n",
    "        largest = l\n",
    "    else:\n",
    "        largest = i\n",
    "    if r < len(A) and A[r] >= A[largest]:\n",
    "        largest = r\n",
    "    if largest != i:\n",
    "        A[largest], A[i] = A[i], A[largest]\n",
    "        max_heapify(A, largest)"
   ]
  },
  {
   "cell_type": "markdown",
   "metadata": {},
   "source": [
    "# Non recursive implementation of max-heapify"
   ]
  },
  {
   "cell_type": "code",
   "execution_count": 63,
   "metadata": {
    "collapsed": true
   },
   "outputs": [],
   "source": [
    "def max_heapify_non_rec(A, i):\n",
    "    while i < (len(A) / 2):\n",
    "        l = 2 * i + 1\n",
    "        r = 2 * i + 2\n",
    "        if l >= len(A):\n",
    "            break\n",
    "        if l < len(A) and A[l] >= A[i]:\n",
    "            largest = l\n",
    "        else:\n",
    "            largest = i\n",
    "        if r < len(A) and A[r] >= A[largest]:\n",
    "            largest = r\n",
    "        if largest != i:\n",
    "            A[largest], A[i] = A[i], A[largest]\n",
    "            i = largest"
   ]
  },
  {
   "cell_type": "code",
   "execution_count": 66,
   "metadata": {
    "collapsed": true
   },
   "outputs": [],
   "source": [
    "def build_max_heap(A):\n",
    "    i = len(A) / 2 - 1\n",
    "    while i >= 0:\n",
    "        max_heapify(A, i)\n",
    "        i = i - 1\n",
    "    return A"
   ]
  },
  {
   "cell_type": "code",
   "execution_count": 67,
   "metadata": {
    "collapsed": true
   },
   "outputs": [],
   "source": [
    "def build_max_heap_non_rec(A):\n",
    "    i = len(A) / 2 - 1\n",
    "    while i >= 0:\n",
    "        max_heapify_non_rec(A, i)\n",
    "        i = i - 1\n",
    "    return A"
   ]
  },
  {
   "cell_type": "code",
   "execution_count": 68,
   "metadata": {
    "collapsed": false
   },
   "outputs": [
    {
     "data": {
      "text/plain": [
       "[16, 9, 7, 4, 2, 3, 1]"
      ]
     },
     "execution_count": 68,
     "metadata": {},
     "output_type": "execute_result"
    }
   ],
   "source": [
    "build_max_heap([1, 2, 3, 4, 9, 16, 7])"
   ]
  },
  {
   "cell_type": "code",
   "execution_count": 69,
   "metadata": {
    "collapsed": false
   },
   "outputs": [
    {
     "data": {
      "text/plain": [
       "[16, 9, 7, 4, 2, 3, 1]"
      ]
     },
     "execution_count": 69,
     "metadata": {},
     "output_type": "execute_result"
    }
   ],
   "source": [
    "build_max_heap_non_rec([1, 2, 3, 4, 9, 16, 7])"
   ]
  },
  {
   "cell_type": "code",
   "execution_count": 60,
   "metadata": {
    "collapsed": true
   },
   "outputs": [],
   "source": [
    "def min_heapify(A, i):\n",
    "    l = 2*i + 1\n",
    "    r = 2*i + 2\n",
    "    if l >= len(A) and r >= len(A):\n",
    "        return\n",
    "    if l < len(A) and A[l] <= A[i]:\n",
    "        smallest = l\n",
    "    else:\n",
    "        smallest = i\n",
    "    if r < len(A) and A[r] <= A[smallest]:\n",
    "        smallest= r\n",
    "    if smallest != i:\n",
    "        A[smallest], A[i] = A[i], A[smallest]\n",
    "        min_heapify(A, smallest)"
   ]
  },
  {
   "cell_type": "code",
   "execution_count": 61,
   "metadata": {
    "collapsed": true
   },
   "outputs": [],
   "source": [
    "def build_min_heap(A):\n",
    "    i = len(A) / 2\n",
    "    while i >= 0:\n",
    "        min_heapify(A, i)\n",
    "        i = i - 1\n",
    "    return A"
   ]
  },
  {
   "cell_type": "code",
   "execution_count": 62,
   "metadata": {
    "collapsed": false
   },
   "outputs": [
    {
     "data": {
      "text/plain": [
       "[1, 2, 4, 5, 3, 12]"
      ]
     },
     "execution_count": 62,
     "metadata": {},
     "output_type": "execute_result"
    }
   ],
   "source": [
    "build_min_heap([12, 3, 4, 5, 2, 1])"
   ]
  },
  {
   "cell_type": "markdown",
   "metadata": {},
   "source": [
    "**Build heap operation takes $\\mathcal{O}(n)$ **"
   ]
  },
  {
   "cell_type": "markdown",
   "metadata": {},
   "source": [
    "# Heapsort"
   ]
  },
  {
   "cell_type": "code",
   "execution_count": 88,
   "metadata": {
    "collapsed": true
   },
   "outputs": [],
   "source": [
    "def heapsort_descending(A):\n",
    "    build_max_heap(A)\n",
    "    i = len(A) - 1\n",
    "    while i > 0:\n",
    "        # B is an alias for a sub array of A and B doesn't get allocated a new set of memory\n",
    "        B = A[:i+1]\n",
    "        B[1], B[i] = B[i], B[1]\n",
    "        i = i - 1\n",
    "        max_heapify(B, 1)\n",
    "    print A"
   ]
  },
  {
   "cell_type": "code",
   "execution_count": 85,
   "metadata": {
    "collapsed": true
   },
   "outputs": [],
   "source": [
    "def heapsort(A):\n",
    "    build_min_heap(A)\n",
    "    i = len(A) - 1\n",
    "    while i > 0:\n",
    "        B = A[:i+1]\n",
    "        B[1], B[i] = B[i], B[1]\n",
    "        i = i - 1\n",
    "        min_heapify(B, 1)\n",
    "    print A"
   ]
  },
  {
   "cell_type": "code",
   "execution_count": 86,
   "metadata": {
    "collapsed": false
   },
   "outputs": [
    {
     "name": "stdout",
     "output_type": "stream",
     "text": [
      "[1, 2, 4, 5, 3, 12]\n"
     ]
    }
   ],
   "source": [
    "heapsort([12, 3, 4, 5, 2, 1])"
   ]
  },
  {
   "cell_type": "code",
   "execution_count": 87,
   "metadata": {
    "collapsed": false
   },
   "outputs": [
    {
     "name": "stdout",
     "output_type": "stream",
     "text": [
      "[12, 5, 4, 3, 2, 1]\n"
     ]
    }
   ],
   "source": [
    "heapsort_descending([12, 3, 4, 5, 2, 1])"
   ]
  },
  {
   "cell_type": "markdown",
   "metadata": {},
   "source": [
    "# Priority Queue"
   ]
  },
  {
   "cell_type": "markdown",
   "metadata": {
    "collapsed": true
   },
   "source": [
    "Priority queue is a **data structure for maintaining a set S of elements**, each with an associated value called **key**."
   ]
  },
  {
   "cell_type": "markdown",
   "metadata": {},
   "source": [
    "A max-priority queue supports the following operations:\n",
    "\n",
    "1. INSERT(S, x): inserts x into set S.\n",
    "2. MAXIMUM(S): returns the element with the maximum key from the set S.\n",
    "3. EXTRACT-MAX(S): removes and returns the element with max key in set S.\n",
    "4. INCREASE-KEY(S, x, k): increases the x's key to k. It's assumed that k is at least as large as x's current key."
   ]
  },
  {
   "cell_type": "markdown",
   "metadata": {
    "collapsed": true
   },
   "source": [
    "# Heap Class\n",
    "\n",
    "We need to create Heap class because we need to store the properties of the heap. The most important property being the heap-size."
   ]
  },
  {
   "cell_type": "code",
   "execution_count": 87,
   "metadata": {
    "collapsed": false
   },
   "outputs": [],
   "source": [
    "class Heap_(object):\n",
    "    #The heap class\n",
    "    def __init__(self, arr = None):\n",
    "        if arr == None:\n",
    "            self.arr = list()\n",
    "        else:\n",
    "            self.arr = arr\n",
    "        self.HEAP_SIZE = len(self.arr)\n",
    "    def set_heap_size(self, size):\n",
    "        self.HEAP_SIZE = size\n",
    "    def get_heap_size(self):\n",
    "        return self.HEAP_SIZE\n",
    "    def get_heap(self):\n",
    "        return self.arr\n",
    "    def max_heapify(self, index):\n",
    "        left = index * 2 + 1\n",
    "        right = index * 2 + 2\n",
    "        arr = self.get_heap()\n",
    "        len_heap_arr = self.get_heap_size()\n",
    "        if left >= len_heap_arr:\n",
    "            return\n",
    "        if left < len_heap_arr and arr[left] >= arr[index]:\n",
    "            largest = left\n",
    "        else:\n",
    "            largest = index\n",
    "        if right < len_heap_arr and arr[right] >= arr[largest]:\n",
    "            largest = right\n",
    "        if largest != index:\n",
    "            arr[largest], arr[index] = arr[index], arr[largest]\n",
    "            self.max_heapify(largest)\n",
    "    def build_heap(self):\n",
    "        arr= self.get_heap()\n",
    "        len_heap_arr = self.get_heap_size()\n",
    "        index = len_heap_arr / 2\n",
    "        while index >= 0:\n",
    "            self.max_heapify(index)\n",
    "            index = index - 1\n",
    "    def extract_max(self):\n",
    "        arr = self.get_heap()\n",
    "        max_ = arr[0]\n",
    "        arr[0], arr[self.get_heap_size() - 1] = arr[self.get_heap_size() - 1], arr[0]\n",
    "        self.set_heap_size(self.get_heap_size() - 1)\n",
    "        self.max_heapify(0)\n",
    "        return max_\n",
    "    def increase_key(self, i, key):\n",
    "        if i >= self.get_heap_size():\n",
    "            print \"invalid index\"\n",
    "            return\n",
    "        arr = self.get_heap()\n",
    "        if arr[i] > key:\n",
    "            print \"Error: entered key is smaller than current key\"\n",
    "        arr[i] = key\n",
    "        while i > 0:\n",
    "            parent = i / 2\n",
    "            if arr[parent] < arr[i]:\n",
    "                arr[parent], arr[i] = arr[i], arr[parent]\n",
    "                i = parent\n",
    "        return self.get_heap()\n",
    "    def insert_key(self, key):\n",
    "        heap_size = self.get_heap_size()\n",
    "        arr = self.get_heap()\n",
    "        if heap_size == len(arr):\n",
    "            arr.append(-1000)\n",
    "        elif heap_size < len(arr):\n",
    "            arr[heap_size] = -1000\n",
    "        self.set_heap_size(heap_size + 1)\n",
    "        self.increase_key(heap_size, key)\n",
    "        return arr"
   ]
  },
  {
   "cell_type": "code",
   "execution_count": 88,
   "metadata": {
    "collapsed": true
   },
   "outputs": [],
   "source": [
    "heap = Heap_([1, 2, 3, 4, 9, 16, 7])"
   ]
  },
  {
   "cell_type": "code",
   "execution_count": 89,
   "metadata": {
    "collapsed": true
   },
   "outputs": [],
   "source": [
    "heap.build_heap()"
   ]
  },
  {
   "cell_type": "code",
   "execution_count": 90,
   "metadata": {
    "collapsed": false
   },
   "outputs": [
    {
     "data": {
      "text/plain": [
       "[16, 9, 7, 4, 2, 3, 1]"
      ]
     },
     "execution_count": 90,
     "metadata": {},
     "output_type": "execute_result"
    }
   ],
   "source": [
    "heap.get_heap()"
   ]
  },
  {
   "cell_type": "code",
   "execution_count": 91,
   "metadata": {
    "collapsed": false
   },
   "outputs": [
    {
     "data": {
      "text/plain": [
       "[32, 16, 7, 4, 2, 3, 1]"
      ]
     },
     "execution_count": 91,
     "metadata": {},
     "output_type": "execute_result"
    }
   ],
   "source": [
    "heap.increase_key(1, 32)"
   ]
  },
  {
   "cell_type": "code",
   "execution_count": 92,
   "metadata": {
    "collapsed": false
   },
   "outputs": [
    {
     "data": {
      "text/plain": [
       "32"
      ]
     },
     "execution_count": 92,
     "metadata": {},
     "output_type": "execute_result"
    }
   ],
   "source": [
    "heap.extract_max()"
   ]
  },
  {
   "cell_type": "code",
   "execution_count": 93,
   "metadata": {
    "collapsed": false
   },
   "outputs": [
    {
     "data": {
      "text/plain": [
       "[16, 4, 7, 1, 2, 3]"
      ]
     },
     "execution_count": 93,
     "metadata": {},
     "output_type": "execute_result"
    }
   ],
   "source": [
    "heap.get_heap()[:heap.get_heap_size()]"
   ]
  },
  {
   "cell_type": "code",
   "execution_count": 94,
   "metadata": {
    "collapsed": false
   },
   "outputs": [
    {
     "data": {
      "text/plain": [
       "16"
      ]
     },
     "execution_count": 94,
     "metadata": {},
     "output_type": "execute_result"
    }
   ],
   "source": [
    "heap.extract_max()"
   ]
  },
  {
   "cell_type": "code",
   "execution_count": 95,
   "metadata": {
    "collapsed": false
   },
   "outputs": [
    {
     "data": {
      "text/plain": [
       "[7, 4, 3, 1, 2]"
      ]
     },
     "execution_count": 95,
     "metadata": {},
     "output_type": "execute_result"
    }
   ],
   "source": [
    "heap.get_heap()[:heap.get_heap_size()]"
   ]
  },
  {
   "cell_type": "code",
   "execution_count": 96,
   "metadata": {
    "collapsed": false
   },
   "outputs": [
    {
     "data": {
      "text/plain": [
       "7"
      ]
     },
     "execution_count": 96,
     "metadata": {},
     "output_type": "execute_result"
    }
   ],
   "source": [
    "heap.extract_max()"
   ]
  },
  {
   "cell_type": "code",
   "execution_count": 97,
   "metadata": {
    "collapsed": false
   },
   "outputs": [
    {
     "data": {
      "text/plain": [
       "[4, 2, 3, 1]"
      ]
     },
     "execution_count": 97,
     "metadata": {},
     "output_type": "execute_result"
    }
   ],
   "source": [
    "heap.get_heap()[:heap.get_heap_size()]"
   ]
  },
  {
   "cell_type": "code",
   "execution_count": 98,
   "metadata": {
    "collapsed": false
   },
   "outputs": [
    {
     "data": {
      "text/plain": [
       "[32, 4, 2, 1, 7, 16, 32]"
      ]
     },
     "execution_count": 98,
     "metadata": {},
     "output_type": "execute_result"
    }
   ],
   "source": [
    "heap.increase_key(2, 32)"
   ]
  },
  {
   "cell_type": "code",
   "execution_count": 99,
   "metadata": {
    "collapsed": false
   },
   "outputs": [
    {
     "data": {
      "text/plain": [
       "[64, 32, 4, 1, 2, 16, 32]"
      ]
     },
     "execution_count": 99,
     "metadata": {},
     "output_type": "execute_result"
    }
   ],
   "source": [
    "heap.insert_key(64)"
   ]
  },
  {
   "cell_type": "code",
   "execution_count": 100,
   "metadata": {
    "collapsed": false
   },
   "outputs": [
    {
     "data": {
      "text/plain": [
       "5"
      ]
     },
     "execution_count": 100,
     "metadata": {},
     "output_type": "execute_result"
    }
   ],
   "source": [
    "heap.get_heap_size()"
   ]
  },
  {
   "cell_type": "markdown",
   "metadata": {},
   "source": [
    "## Problems on Heap from CLRS continued..."
   ]
  }
 ],
 "metadata": {
  "kernelspec": {
   "display_name": "Python 2",
   "language": "python",
   "name": "python2"
  },
  "language_info": {
   "codemirror_mode": {
    "name": "ipython",
    "version": 2
   },
   "file_extension": ".py",
   "mimetype": "text/x-python",
   "name": "python",
   "nbconvert_exporter": "python",
   "pygments_lexer": "ipython2",
   "version": "2.7.12"
  }
 },
 "nbformat": 4,
 "nbformat_minor": 2
}
