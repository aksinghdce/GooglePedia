{
 "cells": [
  {
   "cell_type": "markdown",
   "metadata": {},
   "source": [
    "# Algorithms and Data Structures: Hashing"
   ]
  },
  {
   "cell_type": "markdown",
   "metadata": {},
   "source": [
    "## Worst case complexity of hashing is O(n). But, on an average it gives O(1)."
   ]
  },
  {
   "cell_type": "markdown",
   "metadata": {},
   "source": [
    "Direct Addressing: One unique location for every possible key."
   ]
  },
  {
   "cell_type": "markdown",
   "metadata": {},
   "source": [
    "## Load Factor:\n",
    "\n",
    "Number of items stored in a hash table / size of the table\n",
    "\n",
    "This tells whether the hash function is distributing the keys evenly in the table or not. How? well, the load factor tells the average size of chains that would be built in the table as a result of chaining. Now, if actual size of a chain corresponding to a certain key goes far beyond the load factor, then we would know that the hash function is not distributing the keys evenly."
   ]
  },
  {
   "cell_type": "markdown",
   "metadata": {},
   "source": [
    "## Collision resolution techniques:\n",
    "\n",
    "1. Separate Chaining\n",
    "2. Open Addressing or Closed Hashing. Collision resolution technique is called \"probing\" in this method.\n",
    "    1. Linear Probing: Rehash : rehash(key) = (n+1)%tablesize. Interval between probes is fixed at 1. Problem of Clustering is seen.\n",
    "    2. Quadratic Probing: Rehash: **$$rehash(key) = (n+k^2) \\bmod(tablesize)$$**. \n",
    "    Intervals between probes increases proportionally to the hash value. Problem of secondary clustering is seen.\n",
    "3. Double Hashing\n",
    "    1. Interval between probes is computed by another hash function.\n",
    "    2. h2(key) != 0. h2 != h1\n"
   ]
  },
  {
   "cell_type": "markdown",
   "metadata": {},
   "source": [
    "Hashing is useful if the data is static and has unique keys.\n",
    "\n",
    "If the problem domain needs more search operations than insert operations."
   ]
  },
  {
   "cell_type": "markdown",
   "metadata": {},
   "source": [
    "# Bloom Filter"
   ]
  },
  {
   "cell_type": "markdown",
   "metadata": {},
   "source": [
    "A probabilistic data structure which was designed to check whether an element is present in a set with memory and time efficiency.\n",
    "\n",
    "It tells whether the element is definitely not there in the set or might be there in the set."
   ]
  }
 ],
 "metadata": {
  "kernelspec": {
   "display_name": "Python 2",
   "language": "python",
   "name": "python2"
  },
  "language_info": {
   "codemirror_mode": {
    "name": "ipython",
    "version": 2
   },
   "file_extension": ".py",
   "mimetype": "text/x-python",
   "name": "python",
   "nbconvert_exporter": "python",
   "pygments_lexer": "ipython2",
   "version": "2.7.12"
  }
 },
 "nbformat": 4,
 "nbformat_minor": 2
}
