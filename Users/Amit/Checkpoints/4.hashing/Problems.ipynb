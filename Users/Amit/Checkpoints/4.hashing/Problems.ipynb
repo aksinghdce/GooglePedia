{
 "cells": [
  {
   "cell_type": "markdown",
   "metadata": {},
   "source": [
    "# Problem 1:\n",
    "\n",
    "## Implement separate chaining, a collision resolution technique. Also, discuss time complexity of each function."
   ]
  },
  {
   "cell_type": "code",
   "execution_count": null,
   "metadata": {
    "collapsed": true
   },
   "outputs": [],
   "source": [
    "class HashTable(object):\n",
    "    def __init__(self, size):\n",
    "        self.keys = [None] * size\n",
    "        self.values = [None] * size\n",
    "        self.size = size\n",
    "    # Class function to be used by each object in the same manner\n",
    "    def hash_key():\n",
    "        \n",
    "    def hash_function(self, value):\n",
    "        key = self.hash_key(value)\n",
    "        return key % self.size\n",
    "    def insert(self, value):\n",
    "        key = self.hash_function(value)\n",
    "        "
   ]
  },
  {
   "cell_type": "markdown",
   "metadata": {},
   "source": [
    "# Problem 2:\n",
    "\n",
    "## Print Pascal's triangle of n rows:"
   ]
  },
  {
   "cell_type": "code",
   "execution_count": 59,
   "metadata": {
    "collapsed": true
   },
   "outputs": [],
   "source": [
    "def pascals_triangle(n, rows=[list()]):\n",
    "    if n == 1:\n",
    "        rows = [[1]]\n",
    "        print \"n==1:\" + str(rows)\n",
    "        return [1]\n",
    "    elif n == 2:\n",
    "        rows = [[1], [1, 1]]\n",
    "        print \"n==2:\" + str(rows)\n",
    "        return [1, 1]\n",
    "    else:\n",
    "        rows = [[1], [1, 1]]\n",
    "    while n > 2:\n",
    "        row_n_minus_1 = rows[n-2]\n",
    "        print \"row_n_minus_1:\" + str(row_n_minus_1)\n",
    "        # the new row will have size bigger than previous row by 2\n",
    "        row_n = [0] * (len(row_n_minus_1) + 1)\n",
    "        print \"before:\" + str(row_n)\n",
    "        for i in xrange(len(row_n)):\n",
    "            if i == 0:\n",
    "                row_n[i] = row_n_minus_1[i]\n",
    "            elif i == len(row_n) - 1:\n",
    "                row_n[i] = row_n_minus_1[i-1]\n",
    "            else:\n",
    "                row_n[i] = row_n_minus_1[i-1] + row_n_minus_1[i]\n",
    "        print \"after:\" + str(row_n)\n",
    "        rows.extend(list(list([row_n])))\n",
    "        print \"n>2:\" + str(rows)\n",
    "        n = n - 1"
   ]
  },
  {
   "cell_type": "code",
   "execution_count": 60,
   "metadata": {
    "collapsed": false
   },
   "outputs": [
    {
     "ename": "IndexError",
     "evalue": "list index out of range",
     "output_type": "error",
     "traceback": [
      "\u001b[0;31m---------------------------------------------------------------------------\u001b[0m",
      "\u001b[0;31mIndexError\u001b[0m                                Traceback (most recent call last)",
      "\u001b[0;32m<ipython-input-60-9a501bde577f>\u001b[0m in \u001b[0;36m<module>\u001b[0;34m()\u001b[0m\n\u001b[0;32m----> 1\u001b[0;31m \u001b[0mpascals_triangle\u001b[0m\u001b[0;34m(\u001b[0m\u001b[0;36m5\u001b[0m\u001b[0;34m)\u001b[0m\u001b[0;34m\u001b[0m\u001b[0m\n\u001b[0m",
      "\u001b[0;32m<ipython-input-59-71923fce3ec2>\u001b[0m in \u001b[0;36mpascals_triangle\u001b[0;34m(n, rows)\u001b[0m\n\u001b[1;32m     10\u001b[0m     \u001b[0;32melif\u001b[0m \u001b[0mn\u001b[0m \u001b[0;34m>\u001b[0m \u001b[0;36m2\u001b[0m\u001b[0;34m:\u001b[0m\u001b[0;34m\u001b[0m\u001b[0m\n\u001b[1;32m     11\u001b[0m         \u001b[0mrows\u001b[0m \u001b[0;34m=\u001b[0m \u001b[0;34m[\u001b[0m\u001b[0;34m[\u001b[0m\u001b[0;36m1\u001b[0m\u001b[0;34m]\u001b[0m\u001b[0;34m,\u001b[0m \u001b[0;34m[\u001b[0m\u001b[0;36m1\u001b[0m\u001b[0;34m,\u001b[0m \u001b[0;36m1\u001b[0m\u001b[0;34m]\u001b[0m\u001b[0;34m]\u001b[0m\u001b[0;34m\u001b[0m\u001b[0m\n\u001b[0;32m---> 12\u001b[0;31m         \u001b[0mrow_n_minus_1\u001b[0m \u001b[0;34m=\u001b[0m \u001b[0mrows\u001b[0m\u001b[0;34m[\u001b[0m\u001b[0mn\u001b[0m\u001b[0;34m-\u001b[0m\u001b[0;36m2\u001b[0m\u001b[0;34m]\u001b[0m\u001b[0;34m\u001b[0m\u001b[0m\n\u001b[0m\u001b[1;32m     13\u001b[0m         \u001b[0;32mprint\u001b[0m \u001b[0;34m\"row_n_minus_1:\"\u001b[0m \u001b[0;34m+\u001b[0m \u001b[0mstr\u001b[0m\u001b[0;34m(\u001b[0m\u001b[0mrow_n_minus_1\u001b[0m\u001b[0;34m)\u001b[0m\u001b[0;34m\u001b[0m\u001b[0m\n\u001b[1;32m     14\u001b[0m         \u001b[0;31m# the new row will have size bigger than previous row by 2\u001b[0m\u001b[0;34m\u001b[0m\u001b[0;34m\u001b[0m\u001b[0m\n",
      "\u001b[0;31mIndexError\u001b[0m: list index out of range"
     ]
    }
   ],
   "source": [
    "pascals_triangle(5)"
   ]
  },
  {
   "cell_type": "code",
   "execution_count": null,
   "metadata": {
    "collapsed": true
   },
   "outputs": [],
   "source": []
  },
  {
   "cell_type": "code",
   "execution_count": null,
   "metadata": {
    "collapsed": true
   },
   "outputs": [],
   "source": []
  }
 ],
 "metadata": {
  "kernelspec": {
   "display_name": "Python 2",
   "language": "python",
   "name": "python2"
  },
  "language_info": {
   "codemirror_mode": {
    "name": "ipython",
    "version": 2
   },
   "file_extension": ".py",
   "mimetype": "text/x-python",
   "name": "python",
   "nbconvert_exporter": "python",
   "pygments_lexer": "ipython2",
   "version": "2.7.12"
  }
 },
 "nbformat": 4,
 "nbformat_minor": 2
}
