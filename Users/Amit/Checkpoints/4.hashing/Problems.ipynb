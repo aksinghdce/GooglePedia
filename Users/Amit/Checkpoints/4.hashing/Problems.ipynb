{
 "cells": [
  {
   "cell_type": "markdown",
   "metadata": {},
   "source": [
    "# Problem 1:\n",
    "\n",
    "## Implement separate chaining, a collision resolution technique. Also, discuss time complexity of each function."
   ]
  },
  {
   "cell_type": "code",
   "execution_count": null,
   "metadata": {
    "collapsed": true
   },
   "outputs": [],
   "source": [
    "class HashTable(object):\n",
    "    def __init__(self, size):\n",
    "        self.keys = [None] * size\n",
    "        self.values = [None] * size\n",
    "        self.size = size\n",
    "    # Class function to be used by each object in the same manner\n",
    "    def hash_key():\n",
    "        \n",
    "    def hash_function(self, value):\n",
    "        key = self.hash_key(value)\n",
    "        return key % self.size\n",
    "    def insert(self, value):\n",
    "        key = self.hash_function(value)\n",
    "        "
   ]
  },
  {
   "cell_type": "markdown",
   "metadata": {},
   "source": [
    "# Problem 2: Pascal's triangle is important for calculating the binomial cofficients. Pascal's triangle generated coefficients are also useful in Probability systems. How would you generate pascal's triangle given the number of rows that are required?\n",
    "\n",
    "## Print Pascal's triangle of n rows:"
   ]
  },
  {
   "cell_type": "code",
   "execution_count": 64,
   "metadata": {
    "collapsed": true
   },
   "outputs": [],
   "source": [
    "def pascals_triangle(n, rows=[list()]):\n",
    "    if n == 1:\n",
    "        rows = [[1]]\n",
    "        return [1]\n",
    "    elif n == 2:\n",
    "        rows = [[1], [1, 1]]\n",
    "        return [1, 1]\n",
    "    else:\n",
    "        rows = [[1], [1, 1]]\n",
    "    while n > 2:\n",
    "        row_n_minus_1 = rows[-1]\n",
    "        # the new row will have size bigger than previous row by 2\n",
    "        row_n = [0] * (len(row_n_minus_1) + 1)\n",
    "        for i in xrange(len(row_n)):\n",
    "            if i == 0:\n",
    "                row_n[i] = row_n_minus_1[i]\n",
    "            elif i == len(row_n) - 1:\n",
    "                row_n[i] = row_n_minus_1[i-1]\n",
    "            else:\n",
    "                row_n[i] = row_n_minus_1[i-1] + row_n_minus_1[i]\n",
    "        rows.extend(list(list([row_n])))\n",
    "        n = n - 1\n",
    "    return rows"
   ]
  },
  {
   "cell_type": "code",
   "execution_count": 66,
   "metadata": {
    "collapsed": false
   },
   "outputs": [
    {
     "data": {
      "text/plain": [
       "[[1],\n",
       " [1, 1],\n",
       " [1, 2, 1],\n",
       " [1, 3, 3, 1],\n",
       " [1, 4, 6, 4, 1],\n",
       " [1, 5, 10, 10, 5, 1],\n",
       " [1, 6, 15, 20, 15, 6, 1],\n",
       " [1, 7, 21, 35, 35, 21, 7, 1],\n",
       " [1, 8, 28, 56, 70, 56, 28, 8, 1],\n",
       " [1, 9, 36, 84, 126, 126, 84, 36, 9, 1],\n",
       " [1, 10, 45, 120, 210, 252, 210, 120, 45, 10, 1],\n",
       " [1, 11, 55, 165, 330, 462, 462, 330, 165, 55, 11, 1],\n",
       " [1, 12, 66, 220, 495, 792, 924, 792, 495, 220, 66, 12, 1],\n",
       " [1, 13, 78, 286, 715, 1287, 1716, 1716, 1287, 715, 286, 78, 13, 1],\n",
       " [1, 14, 91, 364, 1001, 2002, 3003, 3432, 3003, 2002, 1001, 364, 91, 14, 1],\n",
       " [1,\n",
       "  15,\n",
       "  105,\n",
       "  455,\n",
       "  1365,\n",
       "  3003,\n",
       "  5005,\n",
       "  6435,\n",
       "  6435,\n",
       "  5005,\n",
       "  3003,\n",
       "  1365,\n",
       "  455,\n",
       "  105,\n",
       "  15,\n",
       "  1]]"
      ]
     },
     "execution_count": 66,
     "metadata": {},
     "output_type": "execute_result"
    }
   ],
   "source": [
    "pascals_triangle(16)"
   ]
  },
  {
   "cell_type": "code",
   "execution_count": null,
   "metadata": {
    "collapsed": true
   },
   "outputs": [],
   "source": []
  }
 ],
 "metadata": {
  "kernelspec": {
   "display_name": "Python 2",
   "language": "python",
   "name": "python2"
  },
  "language_info": {
   "codemirror_mode": {
    "name": "ipython",
    "version": 2
   },
   "file_extension": ".py",
   "mimetype": "text/x-python",
   "name": "python",
   "nbconvert_exporter": "python",
   "pygments_lexer": "ipython2",
   "version": "2.7.12"
  }
 },
 "nbformat": 4,
 "nbformat_minor": 2
}
