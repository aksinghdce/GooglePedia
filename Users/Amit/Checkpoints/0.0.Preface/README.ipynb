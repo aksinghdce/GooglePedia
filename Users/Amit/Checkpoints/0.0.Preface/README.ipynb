{
 "cells": [
  {
   "cell_type": "markdown",
   "metadata": {},
   "source": [
    "# Preface\n",
    "\n",
    "A software engineering position at Google not only can potentially give you a reputed job at Google Inc, but also provide you an opportunity to establish credibility in your computer science knowledge. The purpose of this book is to explore the fundamentals of Computer Science and applications so as to make you ready for a job at Google Inc."
   ]
  },
  {
   "cell_type": "markdown",
   "metadata": {},
   "source": [
    "# Mathematics for Computer Science.\n",
    "\n",
    "In order to solve problems with computers, we need to understand how does a computer understand human language? It also teaches how to assign tasks to computers in short and precise set of instructions. For you to be able to do this confidently you would need to be comfortable with mathematics for computer science. There is a beautiful course for exactly the same on MIT Open Education.\n",
    "\n",
    "# Algorithms\n",
    "\n",
    "Algorithms are a means to work with information stored in the files and creating new files. In other words algorithms is about creating and consuming information.\n",
    "\n",
    "# Basic algorithms\n",
    "\n",
    "Basic algorithms are about mathematics. How to compute information by application of mathematics that a computer can understand.\n",
    "\n",
    "# Wikipedia list of Algorithms\n",
    "\n",
    "[list of algorithms on Wikipedia](https://github.com/aksinghdce/GooglePedia/blob/master/Users/Amit/Checkpoints/0.0.Preface/Wikipedia%20List%20of%20Algorithms.md)"
   ]
  },
  {
   "cell_type": "markdown",
   "metadata": {},
   "source": [
    "# Algorithms and Concepts covered:\n",
    "\n",
    "[Design and Analysis of Algorithms short and sweet](http://www.personal.kent.edu/~rmuhamma/Algorithms/algorithm.html)"
   ]
  },
  {
   "cell_type": "markdown",
   "metadata": {
    "collapsed": true
   },
   "source": [
    "Online Courses:\n",
    "\n",
    "[Data Structures by IIT Bombay](https://courses.edx.org/courses/course-v1:IITBombayX+CS213.2x+1T2017/info)"
   ]
  },
  {
   "cell_type": "code",
   "execution_count": null,
   "metadata": {
    "collapsed": true
   },
   "outputs": [],
   "source": []
  }
 ],
 "metadata": {
  "kernelspec": {
   "display_name": "Python 2",
   "language": "python",
   "name": "python2"
  },
  "language_info": {
   "codemirror_mode": {
    "name": "ipython",
    "version": 2
   },
   "file_extension": ".py",
   "mimetype": "text/x-python",
   "name": "python",
   "nbconvert_exporter": "python",
   "pygments_lexer": "ipython2",
   "version": "2.7.12"
  }
 },
 "nbformat": 4,
 "nbformat_minor": 2
}
