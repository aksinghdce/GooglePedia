{
 "cells": [
  {
   "cell_type": "markdown",
   "metadata": {},
   "source": [
    "# Preface\n",
    "\n",
    "This is a set of notes that can be compiled into a book for getting started with Programming like a pro."
   ]
  },
  {
   "cell_type": "markdown",
   "metadata": {},
   "source": [
    "# This is a book on solving problems with Computers.\n",
    "\n",
    "In order to solve problems with computers, we need to understand how does a computer understand human language? It also teaches how to assign tasks to computers in short and precise set of instructions.\n",
    "\n",
    "# A short history of computer programming languages.\n",
    "\n",
    "In the world of electronics we learn about instruction sets that small IC (Integrated Circuits) chips understand. Instructions such as ADD, SUB, MUL, MOV, COPY etc. Then we humans learn to weave together these basic instructions in a set of commands that achieve fundamental computer interactions like Creating a folder on the computer, creating a text file to write some text in English, or a set of text in a particular language. From here on, we learn to represent information from these files in various human-perceivable information. \n",
    "\n",
    "# Human perceivable information displayed from files.\n",
    "\n",
    "Some examples are:\n",
    "\n",
    "1. Text file:\n",
    "    Programs, Notes, Journals, Calendars, Documentations\n",
    "2. Image files:\n",
    "    Pictures from camera, pictures drawn by using a program that facilitates drawing, Image generated from fax machine etc..\n",
    "3. Audio files\n",
    "4. Video files\n",
    "\n",
    "# Algorithms\n",
    "\n",
    "Algorithms are a means to work with information stored in the files and creating new files. In other words algorithms is about creating and consuming information.\n",
    "\n",
    "# Basic algorithms\n",
    "\n",
    "Basic algorithms are about mathematics. How to compute information by application of mathematics that a computer can understand.\n",
    "\n",
    "# Wikipedia list of Algorithms\n",
    "\n",
    "[list of algorithms on Wikipedia](https://github.com/aksinghdce/GooglePedia/blob/master/Users/Amit/Checkpoints/0.0.Preface/Wikipedia%20List%20of%20Algorithms.md)"
   ]
  },
  {
   "cell_type": "markdown",
   "metadata": {},
   "source": [
    "# Selection Algorithms\n",
    "\n",
    "[QuickSelect and QuickSort](https://github.com/aksinghdce/GooglePedia/tree/master/Users/Amit/Checkpoints/5.Selection_Algorithms)"
   ]
  },
  {
   "cell_type": "markdown",
   "metadata": {},
   "source": [
    "### [QuickSelect Wiki Link](https://en.wikipedia.org/wiki/Quickselect)"
   ]
  }
 ],
 "metadata": {
  "kernelspec": {
   "display_name": "Python 2",
   "language": "python",
   "name": "python2"
  },
  "language_info": {
   "codemirror_mode": {
    "name": "ipython",
    "version": 2
   },
   "file_extension": ".py",
   "mimetype": "text/x-python",
   "name": "python",
   "nbconvert_exporter": "python",
   "pygments_lexer": "ipython2",
   "version": "2.7.12"
  }
 },
 "nbformat": 4,
 "nbformat_minor": 2
}
