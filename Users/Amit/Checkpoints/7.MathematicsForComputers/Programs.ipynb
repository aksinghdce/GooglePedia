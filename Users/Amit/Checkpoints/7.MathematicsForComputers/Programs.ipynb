{
 "cells": [
  {
   "cell_type": "markdown",
   "metadata": {},
   "source": [
    "# Program1: Design an algorithm to find the kth number such that the only prime factors are 3, 5, and 7.\n",
    "\n",
    "## Algorithm:\n",
    "\n",
    "1. initialize a tree with 3, 5, and 7 as it's 3 entries.\n",
    "2. create a list with initial values: primes: [3, 5, 7]\n",
    "3. traverse the tree in in-order while keeping to multiply each number with the three primes created in step 2. Stop when the traversal process has traversed k elements in the tree.\n",
    "4. insert the result of multiplication into the tree.\n",
    "5. go to step 3\n"
   ]
  },
  {
   "cell_type": "code",
   "execution_count": null,
   "metadata": {
    "collapsed": false
   },
   "outputs": [],
   "source": [
    "from BinaryTree import BST, TreeNode\n",
    "\n",
    "bst = BST()\n",
    "primes = [3, 5, 7]\n",
    "for num in primes:\n",
    "    node = TreeNode()\n",
    "    node.set_data(num)\n",
    "    bst.insert(node)\n",
    "\n",
    "inorder = bst.inorder_generator()\n",
    "\n",
    "result_set = set()\n",
    "for i in inorder:\n",
    "    multiples = [i * prime for prime in primes]\n",
    "    for x in multiples:\n",
    "        result_set.add(x)\n",
    "\n",
    "for y in result_set:\n",
    "    node = TreeNode()\n",
    "    node.set_data(y)\n",
    "    bst.insert_unique(node)"
   ]
  },
  {
   "cell_type": "code",
   "execution_count": null,
   "metadata": {
    "collapsed": false
   },
   "outputs": [],
   "source": [
    "bst.graphical_display()"
   ]
  },
  {
   "cell_type": "code",
   "execution_count": null,
   "metadata": {
    "collapsed": false
   },
   "outputs": [],
   "source": [
    "# Write the function for the Solution\n",
    "\n",
    "from BinaryTree import BST, TreeNode\n",
    "\n",
    "#Design an algorithm to find the kth number such that the only prime factors are 3, 5, and 7\n",
    "def get_3_5_7_multiple(k):\n",
    "    bst = BST()\n",
    "    primes = [3, 5, 7]\n",
    "    for num in primes:\n",
    "        node = TreeNode()\n",
    "        node.set_data(num)\n",
    "        bst.insert(node)\n",
    "    size_bst = 3\n",
    "    while True:\n",
    "        inorder = bst.inorder_generator()\n",
    "        result = None\n",
    "        if size_bst >= k:\n",
    "            count = 0\n",
    "            for i in inorder:\n",
    "                count += count + 1\n",
    "                if count == k:\n",
    "                    return i\n",
    "        result_set = set()\n",
    "        for i in inorder:\n",
    "            multiples = list()\n",
    "            for p in primes:\n",
    "                multiples.append(p*i)\n",
    "            for x in multiples:\n",
    "                result_set.add(x)\n",
    "        for y in result_set:\n",
    "            node = TreeNode()\n",
    "            node.set_data(y)\n",
    "            bst.insert_unique(node)\n",
    "        size_bst = size_bst + len(result_set)\n",
    "    "
   ]
  },
  {
   "cell_type": "code",
   "execution_count": null,
   "metadata": {
    "collapsed": false
   },
   "outputs": [],
   "source": [
    "get_3_5_7_multiple(10)"
   ]
  },
  {
   "cell_type": "code",
   "execution_count": null,
   "metadata": {
    "collapsed": true
   },
   "outputs": [],
   "source": []
  }
 ],
 "metadata": {
  "kernelspec": {
   "display_name": "Python 2",
   "language": "python",
   "name": "python2"
  },
  "language_info": {
   "codemirror_mode": {
    "name": "ipython",
    "version": 2
   },
   "file_extension": ".py",
   "mimetype": "text/x-python",
   "name": "python",
   "nbconvert_exporter": "python",
   "pygments_lexer": "ipython2",
   "version": "2.7.12"
  }
 },
 "nbformat": 4,
 "nbformat_minor": 2
}
