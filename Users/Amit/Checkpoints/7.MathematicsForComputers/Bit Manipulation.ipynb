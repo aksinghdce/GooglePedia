{
 "cells": [
  {
   "cell_type": "markdown",
   "metadata": {},
   "source": [
    "# 2's Complement\n",
    "\n",
    "To represent negative integers we use 2's complement form of a number. To get -30, we write 30 in binary form, followed by taking it's complement and adding 1 to it.\n",
    "\n",
    "30 in binary form with 32 bit word size\n",
    "00000000 00000000 00000000 00011110\n",
    "\n",
    "It's complement:\n",
    "11111111 11111111 11111111 11100001\n",
    "\n",
    "Add 1\n",
    "\n",
    "11111111 11111111 11111111 11100010\n",
    "\n",
    "in hex:\n",
    "\n",
    "FF FF FF E2\n",
    "\n",
    "Let's see"
   ]
  },
  {
   "cell_type": "code",
   "execution_count": 5,
   "metadata": {
    "collapsed": true
   },
   "outputs": [],
   "source": [
    "def print_negative_num(num_in_hex):\n",
    "    print int(num_in_hex, 2)"
   ]
  },
  {
   "cell_type": "code",
   "execution_count": 8,
   "metadata": {
    "collapsed": false
   },
   "outputs": [
    {
     "name": "stdout",
     "output_type": "stream",
     "text": [
      "30\n"
     ]
    }
   ],
   "source": [
    "print_negative_num(\"00000000000000000000000000011110\")"
   ]
  },
  {
   "cell_type": "code",
   "execution_count": 12,
   "metadata": {
    "collapsed": true
   },
   "outputs": [],
   "source": [
    "def bin(s):\n",
    "    return str(s) if s<=1 else bin(s>>1) + str(s&1)"
   ]
  },
  {
   "cell_type": "code",
   "execution_count": 14,
   "metadata": {
    "collapsed": false
   },
   "outputs": [
    {
     "data": {
      "text/plain": [
       "'11110'"
      ]
     },
     "execution_count": 14,
     "metadata": {},
     "output_type": "execute_result"
    }
   ],
   "source": [
    "bin(30)"
   ]
  },
  {
   "cell_type": "code",
   "execution_count": 11,
   "metadata": {
    "collapsed": false
   },
   "outputs": [
    {
     "name": "stdout",
     "output_type": "stream",
     "text": [
      "4294967266\n"
     ]
    }
   ],
   "source": [
    "print_negative_num(\"11111111111111111111111111100010\")"
   ]
  },
  {
   "cell_type": "markdown",
   "metadata": {},
   "source": [
    "If we have a negative number, it should have the rightmost bit as 1"
   ]
  },
  {
   "cell_type": "code",
   "execution_count": null,
   "metadata": {
    "collapsed": true
   },
   "outputs": [],
   "source": []
  }
 ],
 "metadata": {
  "kernelspec": {
   "display_name": "Python 2",
   "language": "python",
   "name": "python2"
  },
  "language_info": {
   "codemirror_mode": {
    "name": "ipython",
    "version": 2
   },
   "file_extension": ".py",
   "mimetype": "text/x-python",
   "name": "python",
   "nbconvert_exporter": "python",
   "pygments_lexer": "ipython2",
   "version": "2.7.12"
  }
 },
 "nbformat": 4,
 "nbformat_minor": 2
}
