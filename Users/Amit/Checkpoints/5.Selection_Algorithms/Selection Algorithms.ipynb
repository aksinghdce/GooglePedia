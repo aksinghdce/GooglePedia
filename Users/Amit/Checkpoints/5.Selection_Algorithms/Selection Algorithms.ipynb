{
 "cells": [
  {
   "cell_type": "markdown",
   "metadata": {},
   "source": [
    "# Selection Algorithms"
   ]
  },
  {
   "cell_type": "markdown",
   "metadata": {},
   "source": [
    "### [QuickSelect](https://en.wikipedia.org/wiki/Quickselect)"
   ]
  },
  {
   "cell_type": "markdown",
   "metadata": {},
   "source": [
    "- Wikipedia Says:\n",
    "    1. In computer science, quickselect is a selection algorithm to find the kth smallest element in an unordered list. It is related to the quicksort sorting algorithm."
   ]
  },
  {
   "cell_type": "markdown",
   "metadata": {},
   "source": [
    "## Let's understand QuickSort"
   ]
  },
  {
   "cell_type": "markdown",
   "metadata": {},
   "source": [
    "### Divide and Conquer Idea: \n",
    "\n",
    "#### Divide: \n",
    "    The idea is to find a pivot. The pivot is an index q in the array A[p:r], \n",
    "    such that all elements of A[p:q-1] are less than or equal to A[q], \n",
    "    which is less than or equal to elements of A[q+1:r].\n",
    "    \n",
    "    A[p:q-1] and/or A[q+1:r] are/is possibly empty.\n",
    "\n",
    "#### Conquer:\n",
    "    Sort the array A[p:r] by recursive calls to Divide\n",
    "    \n",
    "#### Combine\n",
    "    Merge the sorted arrays A[p:q-1] and A[q+1:r]. \n",
    "    Because the sub arrays are sorted, the whole array is already sorted. \n",
    "    Combine is basically not reqired."
   ]
  },
  {
   "cell_type": "markdown",
   "metadata": {},
   "source": [
    "### Let's write the Partition Function"
   ]
  },
  {
   "cell_type": "markdown",
   "metadata": {},
   "source": [
    "Algorithm for partition:\n",
    "\n",
    "1. input to the algorithm: Array, p = start index for the sub array, \n",
    "    r = end index for the sub array\n",
    "    1. Initialize i = p - 1 : i is the index that tells that elements from p to i (inclusive) are smaller than Array[r]\n",
    "2. Case b in the diagram beloww:\n",
    "    Traverse the array: j=0 to j < r\n",
    "        if Array[j] is smaller than or equal to Array[r]:\n",
    "            then, move Array[j] to Array[i+1] and update i to i+1: \n",
    "                (Verify in the image below that the loop invariant is satisfied)\n",
    "            also increment j to make it ready for the next iteration\n",
    "            iterate with new j\n",
    "3. Loop has ended: j must be equal to r now: because the above loop's termination condition is that.\n",
    "    Now i+1 is the first element that is greater than or equal to Array[r]\n",
    "    swap (i+1)th position and rth position:\n",
    "    At this stage, till i everything is smaller than Array[r]\n",
    "    return i+1: i+1 is the pivot.\n",
    "    \n",
    "<img src=\"imagesQuickSortAlgorithm.png\" />"
   ]
  },
  {
   "cell_type": "code",
   "execution_count": 1,
   "metadata": {
    "collapsed": false
   },
   "outputs": [],
   "source": [
    "def partition(array, p,r):\n",
    "    print \"**********Working within p:\" + str(p) + \" and r:\" + str(r)\n",
    "    # initialize data for entering the loop\n",
    "    i = p - 1\n",
    "    x = 0\n",
    "    if r < len(array):\n",
    "        x = array[r] \n",
    "    j = p\n",
    "    while j < r:\n",
    "        if array[j] <= x:\n",
    "            i = i + 1\n",
    "            print \"Swap intermediate i:\" + str(i) + \" and j:\" + str(j)\n",
    "            array[i], array[j] = array[j], array[i]\n",
    "            j = j + 1\n",
    "        else:\n",
    "            j = j + 1\n",
    "    print \"Swap (i + 1):\" + str(i+1) + \" and j:\" + str(j)\n",
    "    if i < j:\n",
    "        array[i+1], array[j] = array[j], array[i+1]\n",
    "    return i+1\n",
    "\n",
    "def quicksort(A, p , r):\n",
    "    if p < r:\n",
    "        q = partition(A, p, r)\n",
    "        print A[p:q], A[q], A[q+1:r]\n",
    "        quicksort(A, 0, q-1)\n",
    "        quicksort(A, q+1, r)\n",
    "    else:\n",
    "        return\n",
    "    "
   ]
  },
  {
   "cell_type": "code",
   "execution_count": 2,
   "metadata": {
    "collapsed": false,
    "scrolled": true
   },
   "outputs": [
    {
     "name": "stdout",
     "output_type": "stream",
     "text": [
      "**********Working within p:0 and r:7\n",
      "Swap intermediate i:0 and j:1\n",
      "Swap intermediate i:1 and j:5\n",
      "Swap intermediate i:2 and j:6\n",
      "Swap (i + 1):3 and j:7\n",
      "[0, 2, 1] 2 [13, 6, 5]\n",
      "**********Working within p:0 and r:2\n",
      "Swap intermediate i:0 and j:0\n",
      "Swap (i + 1):1 and j:2\n",
      "[0] 1 []\n",
      "**********Working within p:4 and r:7\n",
      "Swap intermediate i:4 and j:4\n",
      "Swap intermediate i:5 and j:5\n",
      "Swap intermediate i:6 and j:6\n",
      "Swap (i + 1):7 and j:7\n",
      "[13, 6, 5] 13 []\n",
      "**********Working within p:0 and r:6\n",
      "Swap intermediate i:0 and j:0\n",
      "Swap intermediate i:1 and j:1\n",
      "Swap intermediate i:2 and j:2\n",
      "Swap intermediate i:3 and j:3\n",
      "Swap (i + 1):4 and j:6\n",
      "[0, 1, 2, 2] 5 [6]\n",
      "**********Working within p:0 and r:3\n",
      "Swap intermediate i:0 and j:0\n",
      "Swap intermediate i:1 and j:1\n",
      "Swap intermediate i:2 and j:2\n",
      "Swap (i + 1):3 and j:3\n",
      "[0, 1, 2] 2 []\n",
      "**********Working within p:0 and r:2\n",
      "Swap intermediate i:0 and j:0\n",
      "Swap intermediate i:1 and j:1\n",
      "Swap (i + 1):2 and j:2\n",
      "[0, 1] 2 []\n",
      "**********Working within p:0 and r:1\n",
      "Swap intermediate i:0 and j:0\n",
      "Swap (i + 1):1 and j:1\n",
      "[0] 1 []\n",
      "**********Working within p:5 and r:6\n",
      "Swap intermediate i:5 and j:5\n",
      "Swap (i + 1):6 and j:6\n",
      "[6] 13 []\n",
      "**********Working within p:0 and r:5\n",
      "Swap intermediate i:0 and j:0\n",
      "Swap intermediate i:1 and j:1\n",
      "Swap intermediate i:2 and j:2\n",
      "Swap intermediate i:3 and j:3\n",
      "Swap intermediate i:4 and j:4\n",
      "Swap (i + 1):5 and j:5\n",
      "[0, 1, 2, 2, 5] 6 []\n",
      "**********Working within p:0 and r:4\n",
      "Swap intermediate i:0 and j:0\n",
      "Swap intermediate i:1 and j:1\n",
      "Swap intermediate i:2 and j:2\n",
      "Swap intermediate i:3 and j:3\n",
      "Swap (i + 1):4 and j:4\n",
      "[0, 1, 2, 2] 5 []\n",
      "**********Working within p:0 and r:3\n",
      "Swap intermediate i:0 and j:0\n",
      "Swap intermediate i:1 and j:1\n",
      "Swap intermediate i:2 and j:2\n",
      "Swap (i + 1):3 and j:3\n",
      "[0, 1, 2] 2 []\n",
      "**********Working within p:0 and r:2\n",
      "Swap intermediate i:0 and j:0\n",
      "Swap intermediate i:1 and j:1\n",
      "Swap (i + 1):2 and j:2\n",
      "[0, 1] 2 []\n",
      "**********Working within p:0 and r:1\n",
      "Swap intermediate i:0 and j:0\n",
      "Swap (i + 1):1 and j:1\n",
      "[0] 1 []\n"
     ]
    }
   ],
   "source": [
    "A = [6, 0, 5, 13, 13, 2, 1, 2]\n",
    "quicksort(A, 0, len(A) - 1)"
   ]
  },
  {
   "cell_type": "code",
   "execution_count": 3,
   "metadata": {
    "collapsed": false
   },
   "outputs": [
    {
     "data": {
      "text/plain": [
       "[0, 1, 2, 2, 5, 6, 13, 13]"
      ]
     },
     "execution_count": 3,
     "metadata": {},
     "output_type": "execute_result"
    }
   ],
   "source": [
    "A"
   ]
  },
  {
   "cell_type": "markdown",
   "metadata": {},
   "source": [
    "# Questions from CLRS:\n",
    "\n",
    "1. 7.1-1\n",
    "    Using Figure 7.1 as a model, illustrate the operation of PARTITION on the array\n",
    "    A = [13, 19, 9, 5, 12, 8, 7, 4, 21, 2, 6, 11]\n",
    "    <img src=\"images/Example_Model_QuickSort.png\" />\n",
    "    \n",
    "    Answer:\n",
    "    \n",
    "    When the function finishes the array looks like the following:\n",
    "    [9, 5, 8, 7, 4, 2, 6, 11, 21, 13, 19, 12]\n",
    "    where index of 11 is the pivot."
   ]
  },
  {
   "cell_type": "markdown",
   "metadata": {},
   "source": [
    "    \n",
    "2. 7.1-2\n",
    "    What value of q does Partition function return when all elements in the array A[p..r]\n",
    "    have the same value? Modify Partition function so \n",
    "    that $$ q = \\left\\lfloor\\dfrac{p+r}{2}\\right\\rfloor $$ \n",
    "    when all elements in the array A[p..r] have the same value.\n",
    "    \n",
    "    Answer: If all the elements in the array A[p..r] are same then Partition function tries to swap\n",
    "    each element with itself for the whole array. Partition function would return the last index of \n",
    "    the array.\n",
    "    \n",
    "    Also look at [StackOverflow link](http://stackoverflow.com/questions/31488933/cormen-quick-sort-modify-partition-function)"
   ]
  },
  {
   "cell_type": "code",
   "execution_count": 22,
   "metadata": {
    "collapsed": true
   },
   "outputs": [],
   "source": [
    "def partition2(array, p, r):\n",
    "    i = p - 1\n",
    "    q = p\n",
    "    x = array[r]\n",
    "    all_equal = False\n",
    "    if array[q] == x:\n",
    "        all_equal = True\n",
    "    while q<r:\n",
    "        if array[q] == x:\n",
    "            i = i + 1\n",
    "            q = q + 1\n",
    "        elif array[q]<x:\n",
    "            all_equal = False\n",
    "            i = i + 1\n",
    "            array[q], array[i] = array[i], array[q]\n",
    "            q = q + 1\n",
    "        else:\n",
    "            all_equal = False\n",
    "            q = q + 1\n",
    "    # assert j = r\n",
    "    if all_equal == True:\n",
    "        import math\n",
    "        return math.floor((p+r)/2)\n",
    "    else:\n",
    "        array[i+1], array[q] = array[q], array[i+1]\n",
    "        return i+1"
   ]
  },
  {
   "cell_type": "code",
   "execution_count": 23,
   "metadata": {
    "collapsed": false
   },
   "outputs": [
    {
     "data": {
      "text/plain": [
       "2.0"
      ]
     },
     "execution_count": 23,
     "metadata": {},
     "output_type": "execute_result"
    }
   ],
   "source": [
    "partition2([2, 2, 2, 2, 2], 0, 4)"
   ]
  },
  {
   "cell_type": "markdown",
   "metadata": {},
   "source": [
    "    \n",
    "3. 7.1-3\n",
    "    Give a brief argument that the running time of Partition on a subarray of size n\n",
    "    is $\\Theta{(n)}$.\n",
    "    \n",
    "    Answer: To show that the running time of Partition on a subarray of size n is $\\Theta{(n)}$ , all we need to do is to show that its $\\mathcal{O}(n)$ and $\\Omega{(n)}$\n",
    "    \n",
    "    So, in the worst case scenario, the Partition algorithm has to traverse the whole array once. This proves that lower bound of Partition algorithm is $\\Omega{(n)}$\n",
    "    In the best case scenario as well Partition function at least needs to increment q for each element in the array. This proves that the algorithm has an upper bound of $\\mathcal{O}(n)$\n",
    "\n",
    "4. 7.1-4\n",
    "    How would you modify QUICKSORT to sort into nonincreasing order?"
   ]
  },
  {
   "cell_type": "code",
   "execution_count": 62,
   "metadata": {
    "collapsed": true
   },
   "outputs": [],
   "source": [
    "#Answer to 7.1-4:\n",
    "    #In the partition function just change \"<=\" to \">=\"\n",
    "def partition_increasing_order(array, p, r):\n",
    "    i = p - 1\n",
    "    if p == r:\n",
    "        return p\n",
    "    x = array[r]\n",
    "    q = p\n",
    "    while q<r:\n",
    "        if array[q]>=x:\n",
    "            i = i + 1\n",
    "            array[q], array[i] = array[i], array[q]\n",
    "            q = q + 1\n",
    "        else:\n",
    "            q = q + 1\n",
    "    #assert q = r\n",
    "    array[i+1], array[q] = array[q], array[i+1]\n",
    "    return i+1\n",
    "\n",
    "def quicksort_increasing_order(A, p, r):\n",
    "    if p < r:\n",
    "        q = partition_increasing_order(A, p, r)\n",
    "        quicksort_increasing_order(A, p, q-1)\n",
    "        quicksort_increasing_order(A, q+1, r)"
   ]
  },
  {
   "cell_type": "code",
   "execution_count": 63,
   "metadata": {
    "collapsed": false
   },
   "outputs": [],
   "source": [
    "A = [2, 3, 1, 6, 5, 9]\n",
    "quicksort_increasing_order(A, 0, 5)"
   ]
  },
  {
   "cell_type": "code",
   "execution_count": 64,
   "metadata": {
    "collapsed": false
   },
   "outputs": [
    {
     "data": {
      "text/plain": [
       "[9, 6, 5, 3, 2, 1]"
      ]
     },
     "execution_count": 64,
     "metadata": {},
     "output_type": "execute_result"
    }
   ],
   "source": [
    "A"
   ]
  },
  {
   "cell_type": "markdown",
   "metadata": {},
   "source": [
    "# Unit Testing QuickSort"
   ]
  },
  {
   "cell_type": "markdown",
   "metadata": {},
   "source": [
    "Get started with [pytest](http://docs.pytest.org/en/latest/getting-started.html#installation)"
   ]
  },
  {
   "cell_type": "code",
   "execution_count": 65,
   "metadata": {
    "collapsed": true
   },
   "outputs": [],
   "source": [
    "import pytest"
   ]
  },
  {
   "cell_type": "code",
   "execution_count": 77,
   "metadata": {
    "collapsed": true
   },
   "outputs": [],
   "source": [
    "def test_quicksort():\n",
    "    A = [2, 3, 1, 6, 5, 9]\n",
    "    p = 0\n",
    "    r = len(A) - 1\n",
    "    quicksort_increasing_order(A, p, r)\n",
    "    assert A == [9, 6, 5, 3, 2, 1]"
   ]
  },
  {
   "cell_type": "code",
   "execution_count": 78,
   "metadata": {
    "collapsed": false
   },
   "outputs": [],
   "source": [
    "test_quicksort()"
   ]
  },
  {
   "cell_type": "code",
   "execution_count": 79,
   "metadata": {
    "collapsed": true
   },
   "outputs": [],
   "source": [
    "def test_quicksort_trivial():\n",
    "    A = [1]\n",
    "    p = 0\n",
    "    r = len(A) - 1\n",
    "    quicksort_increasing_order(A, p, r)\n",
    "    assert A == [1]"
   ]
  },
  {
   "cell_type": "code",
   "execution_count": 80,
   "metadata": {
    "collapsed": true
   },
   "outputs": [],
   "source": [
    "test_quicksort()"
   ]
  },
  {
   "cell_type": "code",
   "execution_count": 81,
   "metadata": {
    "collapsed": false
   },
   "outputs": [],
   "source": [
    "test_quicksort_trivial()"
   ]
  }
 ],
 "metadata": {
  "kernelspec": {
   "display_name": "Python 2",
   "language": "python",
   "name": "python2"
  },
  "language_info": {
   "codemirror_mode": {
    "name": "ipython",
    "version": 2
   },
   "file_extension": ".py",
   "mimetype": "text/x-python",
   "name": "python",
   "nbconvert_exporter": "python",
   "pygments_lexer": "ipython2",
   "version": "2.7.12"
  }
 },
 "nbformat": 4,
 "nbformat_minor": 2
}
