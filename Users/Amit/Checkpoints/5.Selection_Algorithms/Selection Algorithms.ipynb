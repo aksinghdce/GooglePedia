{
 "cells": [
  {
   "cell_type": "markdown",
   "metadata": {},
   "source": [
    "# Selection Algorithms"
   ]
  },
  {
   "cell_type": "markdown",
   "metadata": {},
   "source": [
    "### [QuickSelect](https://en.wikipedia.org/wiki/Quickselect)"
   ]
  },
  {
   "cell_type": "markdown",
   "metadata": {},
   "source": [
    "- Wikipedia Says:\n",
    "    1. In computer science, quickselect is a selection algorithm to find the kth smallest element in an unordered list. It is related to the quicksort sorting algorithm."
   ]
  },
  {
   "cell_type": "markdown",
   "metadata": {},
   "source": [
    "## Let's understand QuickSort"
   ]
  },
  {
   "cell_type": "markdown",
   "metadata": {},
   "source": [
    "### Divide and Conquer Idea: \n",
    "\n",
    "#### Divide: \n",
    "    The idea is to find a pivot. The pivot is an index q in the array A[p:r], such that all elements of A[p:q-1] are less than or equal to A[q], which is less than or equal to elements of A[q+1:r].\n",
    "    \n",
    "    A[p:q-1] and/or A[q+1:r] are/is possibly empty.\n",
    "\n",
    "#### Conquer:\n",
    "    Sort the array A[p:r] by recursive calls to Divide\n",
    "    \n",
    "#### Combine\n",
    "    Merge the sorted arrays A[p:q-1] and A[q+1:r]. Because the sub arrays are sorted, the whole array is already sorted. Conbine is basically not reqired."
   ]
  },
  {
   "cell_type": "markdown",
   "metadata": {},
   "source": [
    "### Let's write the Partition Function"
   ]
  },
  {
   "cell_type": "markdown",
   "metadata": {},
   "source": [
    "Algorithm for partition:\n",
    "\n",
    "1. input to the algorithm: Array, p = start index, r= end index\n",
    "    1. Initialize i = p - 1 : i is the index that tells that elements from p to i (inclusive) are smaller than Array[r]\n",
    "2. Traverse the array: j=0 to j < r\n",
    "    if Array[j] is smaller than or equal to Array[r]:\n",
    "    then, move Array[j] to Array[i+1] and update i to i+1: Now till i everything is smaller than Array[r]\n",
    "    also increment j to make it ready for the next iteration and look at a brand new element in the Array that is smaller in index than r.\n",
    "    Repeat this step for new j\n",
    "3. Loop has ended: j must be equal to r now\n",
    "    Now i+1 is the first element that is greater than or equal to Array[r]\n",
    "    swap (i+1)th position and rth position:\n",
    "    At this stage, till i everything is smaller than Array[r]\n",
    "    return i+1: i+1 is the pivot."
   ]
  },
  {
   "cell_type": "code",
   "execution_count": 13,
   "metadata": {
    "collapsed": false
   },
   "outputs": [],
   "source": [
    "def partition(array, p,r):\n",
    "    print \"**********Working within p:\" + str(p) + \" and r:\" + str(r)\n",
    "    # initialize data for entering the loop\n",
    "    i = p - 1\n",
    "    x = 0\n",
    "    if r < len(array):\n",
    "        x = array[r] \n",
    "    j = p\n",
    "    while j < r:\n",
    "        if array[j] <= x:\n",
    "            i = i + 1\n",
    "            print \"Swap intermediate i:\" + str(i) + \" and j:\" + str(j)\n",
    "            array[i], array[j] = array[j], array[i]\n",
    "            j = j + 1\n",
    "        else:\n",
    "            j = j + 1\n",
    "    # here j = r - 1\n",
    "    # verify by print array[j] == array[r-1]\n",
    "    # hence, increment j\n",
    "    print \"Swap (i + 1):\" + str(i+1) + \" and j:\" + str(j)\n",
    "    if i < j:\n",
    "        array[i+1], array[j] = array[j], array[i+1]\n",
    "    return i+1\n",
    "\n",
    "def quicksort(A, p , r):\n",
    "    if p < r:\n",
    "        q = partition(A, p, r)\n",
    "        print A[p:q], A[q], A[q+1:r]\n",
    "        quicksort(A, 0, q-1)\n",
    "        quicksort(A, q+1, r)\n",
    "    else:\n",
    "        return\n",
    "    "
   ]
  },
  {
   "cell_type": "code",
   "execution_count": 14,
   "metadata": {
    "collapsed": false
   },
   "outputs": [
    {
     "name": "stdout",
     "output_type": "stream",
     "text": [
      "**********Working within p:0 and r:7\n",
      "Swap intermediate i:0 and j:1\n",
      "Swap intermediate i:1 and j:5\n",
      "Swap intermediate i:2 and j:6\n",
      "Swap (i + 1):3 and j:7\n",
      "[0, 2, 1] 2 [13, 6, 5]\n",
      "**********Working within p:0 and r:2\n",
      "Swap intermediate i:0 and j:0\n",
      "Swap (i + 1):1 and j:2\n",
      "[0] 1 []\n",
      "**********Working within p:4 and r:7\n",
      "Swap intermediate i:4 and j:4\n",
      "Swap intermediate i:5 and j:5\n",
      "Swap intermediate i:6 and j:6\n",
      "Swap (i + 1):7 and j:7\n",
      "[13, 6, 5] 13 []\n",
      "**********Working within p:0 and r:6\n",
      "Swap intermediate i:0 and j:0\n",
      "Swap intermediate i:1 and j:1\n",
      "Swap intermediate i:2 and j:2\n",
      "Swap intermediate i:3 and j:3\n",
      "Swap (i + 1):4 and j:6\n",
      "[0, 1, 2, 2] 5 [6]\n",
      "**********Working within p:0 and r:3\n",
      "Swap intermediate i:0 and j:0\n",
      "Swap intermediate i:1 and j:1\n",
      "Swap intermediate i:2 and j:2\n",
      "Swap (i + 1):3 and j:3\n",
      "[0, 1, 2] 2 []\n",
      "**********Working within p:0 and r:2\n",
      "Swap intermediate i:0 and j:0\n",
      "Swap intermediate i:1 and j:1\n",
      "Swap (i + 1):2 and j:2\n",
      "[0, 1] 2 []\n",
      "**********Working within p:0 and r:1\n",
      "Swap intermediate i:0 and j:0\n",
      "Swap (i + 1):1 and j:1\n",
      "[0] 1 []\n",
      "**********Working within p:5 and r:6\n",
      "Swap intermediate i:5 and j:5\n",
      "Swap (i + 1):6 and j:6\n",
      "[6] 13 []\n",
      "**********Working within p:0 and r:5\n",
      "Swap intermediate i:0 and j:0\n",
      "Swap intermediate i:1 and j:1\n",
      "Swap intermediate i:2 and j:2\n",
      "Swap intermediate i:3 and j:3\n",
      "Swap intermediate i:4 and j:4\n",
      "Swap (i + 1):5 and j:5\n",
      "[0, 1, 2, 2, 5] 6 []\n",
      "**********Working within p:0 and r:4\n",
      "Swap intermediate i:0 and j:0\n",
      "Swap intermediate i:1 and j:1\n",
      "Swap intermediate i:2 and j:2\n",
      "Swap intermediate i:3 and j:3\n",
      "Swap (i + 1):4 and j:4\n",
      "[0, 1, 2, 2] 5 []\n",
      "**********Working within p:0 and r:3\n",
      "Swap intermediate i:0 and j:0\n",
      "Swap intermediate i:1 and j:1\n",
      "Swap intermediate i:2 and j:2\n",
      "Swap (i + 1):3 and j:3\n",
      "[0, 1, 2] 2 []\n",
      "**********Working within p:0 and r:2\n",
      "Swap intermediate i:0 and j:0\n",
      "Swap intermediate i:1 and j:1\n",
      "Swap (i + 1):2 and j:2\n",
      "[0, 1] 2 []\n",
      "**********Working within p:0 and r:1\n",
      "Swap intermediate i:0 and j:0\n",
      "Swap (i + 1):1 and j:1\n",
      "[0] 1 []\n"
     ]
    }
   ],
   "source": [
    "A = [6, 0, 5, 13, 13, 2, 1, 2]\n",
    "quicksort(A, 0, len(A) - 1)"
   ]
  },
  {
   "cell_type": "code",
   "execution_count": 15,
   "metadata": {
    "collapsed": false
   },
   "outputs": [
    {
     "data": {
      "text/plain": [
       "[0, 1, 2, 2, 5, 6, 13, 13]"
      ]
     },
     "execution_count": 15,
     "metadata": {},
     "output_type": "execute_result"
    }
   ],
   "source": [
    "A"
   ]
  }
 ],
 "metadata": {
  "kernelspec": {
   "display_name": "Python 2",
   "language": "python",
   "name": "python2"
  },
  "language_info": {
   "codemirror_mode": {
    "name": "ipython",
    "version": 2
   },
   "file_extension": ".py",
   "mimetype": "text/x-python",
   "name": "python",
   "nbconvert_exporter": "python",
   "pygments_lexer": "ipython2",
   "version": "2.7.12"
  }
 },
 "nbformat": 4,
 "nbformat_minor": 2
}
