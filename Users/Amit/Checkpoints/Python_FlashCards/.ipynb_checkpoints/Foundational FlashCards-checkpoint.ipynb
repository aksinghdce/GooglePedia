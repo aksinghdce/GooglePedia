{
 "cells": [
  {
   "cell_type": "markdown",
   "metadata": {},
   "source": [
    "# FAQ: What are the rules for local and global variables in Python?"
   ]
  },
  {
   "cell_type": "markdown",
   "metadata": {},
   "source": [
    "## Answer:\n",
    "\n",
    "In Python, variables that are only referenced (**and not assigned value to**) inside a function are implicitly global. If a variable is assigned a value anywhere within the function’s body, it’s assumed to be a local **unless explicitly declared as global**.\n",
    "\n",
    "Let's understand this by taking an example:"
   ]
  },
  {
   "cell_type": "code",
   "execution_count": 1,
   "metadata": {
    "collapsed": true
   },
   "outputs": [],
   "source": [
    "def fun():\n",
    "    x = v"
   ]
  },
  {
   "cell_type": "markdown",
   "metadata": {},
   "source": [
    "In function \"fun\" x is implicitly local and v is implicitly global. Now, if we change the definition of the above function to:"
   ]
  },
  {
   "cell_type": "code",
   "execution_count": 2,
   "metadata": {
    "collapsed": true
   },
   "outputs": [],
   "source": [
    "def fun():\n",
    "    x = v\n",
    "    v = 1"
   ]
  },
  {
   "cell_type": "markdown",
   "metadata": {},
   "source": [
    "then v becomes implicitly local because inside the body of the function fun() v got assigned to. if one wants to keep referring to global v, then v must be declared global like this:"
   ]
  },
  {
   "cell_type": "code",
   "execution_count": 3,
   "metadata": {
    "collapsed": true
   },
   "outputs": [],
   "source": [
    "def fun():\n",
    "    global b\n",
    "    x = v\n",
    "    v = 1"
   ]
  },
  {
   "cell_type": "markdown",
   "metadata": {},
   "source": [
    "In the above case v will still be global because it's explicitly declared in such manner.\n",
    "\n",
    "**We have this mechanism to avoid using global for accessing the imported modules in a function. To elaborate: If global was not implicit (to only accessed variable and not assigned variables), then every library usage inside function would have needed to be declared global.**"
   ]
  },
  {
   "cell_type": "markdown",
   "metadata": {},
   "source": [
    "# FAQ: Why are default values shared between objects?"
   ]
  },
  {
   "cell_type": "markdown",
   "metadata": {},
   "source": [
    "## Answer\n",
    "\n",
    "If you define a reenterant function with default parameters, like this:"
   ]
  },
  {
   "cell_type": "code",
   "execution_count": 4,
   "metadata": {
    "collapsed": true
   },
   "outputs": [],
   "source": [
    "def re_enterant_function(knowledge_dictionary={}):\n",
    "    knowledge_dictionary = {\"name\": \"Amit\"}\n",
    "    #OR\n",
    "    knowledge_dictionary[key] = value\n",
    "    # Do something else"
   ]
  },
  {
   "cell_type": "markdown",
   "metadata": {},
   "source": [
    "then the first time re_enterant_function() is called, the dictionary \"knowledge_dictionary\" will be {} as expected. But if the function is called the next time \"knowledge_dictionary\" will be {\"name\":\"Amit\"} and not {}.\n",
    "\n",
    "The above is the behavior we are talking about.\n",
    "\n",
    "**By definition:** immutable objects such as numbers, strings, tuples, and None, are safe from change. Changes to mutable objects such as dictionaries, lists, and class instances can lead to confusion.\n",
    "\n",
    "so the above code should be written like the following:"
   ]
  },
  {
   "cell_type": "code",
   "execution_count": 6,
   "metadata": {
    "collapsed": true
   },
   "outputs": [],
   "source": [
    "def re_enterant_function(knowledge_dictionary=None):\n",
    "    if knowledge_dictionary == None:\n",
    "        knowledge_dictionary = {}\n",
    "    # Do something else"
   ]
  },
  {
   "cell_type": "markdown",
   "metadata": {},
   "source": [
    "## Tip : Memoization: Use mutable object like dictionary to create cache for memoization."
   ]
  },
  {
   "cell_type": "code",
   "execution_count": 8,
   "metadata": {
    "collapsed": true
   },
   "outputs": [],
   "source": [
    "# Like this:\n",
    "\n",
    "def function(param1, param2, __cache={}):\n",
    "    if (param1, param2) in __cache:\n",
    "        return __cache[(param1, param2)]\n",
    "    # do some expensive work and get the result to be stored and returned\n",
    "    __cache[(param1, param2)] = result\n",
    "    return result"
   ]
  }
 ],
 "metadata": {
  "kernelspec": {
   "display_name": "Python 2",
   "language": "python",
   "name": "python2"
  },
  "language_info": {
   "codemirror_mode": {
    "name": "ipython",
    "version": 2
   },
   "file_extension": ".py",
   "mimetype": "text/x-python",
   "name": "python",
   "nbconvert_exporter": "python",
   "pygments_lexer": "ipython2",
   "version": "2.7.12"
  }
 },
 "nbformat": 4,
 "nbformat_minor": 2
}
