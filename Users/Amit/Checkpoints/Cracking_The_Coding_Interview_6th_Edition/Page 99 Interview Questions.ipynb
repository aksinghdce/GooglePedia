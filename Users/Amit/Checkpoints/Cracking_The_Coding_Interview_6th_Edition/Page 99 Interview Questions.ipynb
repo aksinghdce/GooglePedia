{
 "cells": [
  {
   "cell_type": "markdown",
   "metadata": {},
   "source": [
    "# HashTables is important\n",
    "\n",
    "Hashtables have a hashing function. It has collision resolution techniques. One collision resolution technique is to build linked list for keys that have same hash code or different hash code but same slot in the array where hash table is stored.\n",
    "\n",
    "## Array Implementation of Hash Tables\n",
    "\n",
    "### collision resolution\n",
    "\n",
    "Another collision resolution technique is linear probing, quadratic probing with associated problem called clustering. Clustering happens when certain keys cluster in the same region. Clustering leads to bad performance in a densely filled hash table.\n",
    "\n",
    "### load factor\n",
    "\n",
    "Then comes the concept of load factor. Load factor is the ratio of number of elements in the hash table and the size of the hash table. If a load factor increases, then collision increases followed by the problem of clustering or long chains of linked list.\n",
    "\n",
    "## Balanced BST implementation of HashTable\n",
    "\n",
    "HashTables can be implemented as a balanced BST as well. This has several advantages for worst case and average case performance."
   ]
  },
  {
   "cell_type": "markdown",
   "metadata": {},
   "source": [
    "# Exercises\n",
    "\n",
    "## Build a HashTable with array\n",
    "\n",
    "## Build a HashTable with balanced BST\n",
    "\n",
    "## Implement linear probing for collision resolution\n",
    "\n",
    "## Implement linked list for collision resolution\n",
    "\n",
    "## Other algorithm questions for HashTable\n",
    "\n",
    "### Implement an algorithm to determine if a string has all unique characters. What if you can not use additional data structures?"
   ]
  },
  {
   "cell_type": "code",
   "execution_count": 5,
   "metadata": {
    "collapsed": false
   },
   "outputs": [],
   "source": [
    "def hasallunique(string_):\n",
    "    for i, char in enumerate(string_):\n",
    "        for j in xrange(i):\n",
    "            if string_[j] == char:\n",
    "                return False\n",
    "        if i < (len(string_) - 1):\n",
    "            for j in xrange(i+1, len(string_)):\n",
    "                if string_[j] == char:\n",
    "                    return False\n",
    "    return True"
   ]
  },
  {
   "cell_type": "code",
   "execution_count": 9,
   "metadata": {
    "collapsed": false
   },
   "outputs": [
    {
     "data": {
      "text/plain": [
       "True"
      ]
     },
     "execution_count": 9,
     "metadata": {},
     "output_type": "execute_result"
    }
   ],
   "source": [
    "hasallunique(\"Amit\")"
   ]
  },
  {
   "cell_type": "markdown",
   "metadata": {},
   "source": [
    "The above code is $\\Theta(n^2)$"
   ]
  },
  {
   "cell_type": "markdown",
   "metadata": {},
   "source": [
    "May be we can use hashtable to improve the efficience of the above code?"
   ]
  },
  {
   "cell_type": "code",
   "execution_count": null,
   "metadata": {
    "collapsed": true
   },
   "outputs": [],
   "source": []
  }
 ],
 "metadata": {
  "kernelspec": {
   "display_name": "Python 2",
   "language": "python",
   "name": "python2"
  },
  "language_info": {
   "codemirror_mode": {
    "name": "ipython",
    "version": 2
   },
   "file_extension": ".py",
   "mimetype": "text/x-python",
   "name": "python",
   "nbconvert_exporter": "python",
   "pygments_lexer": "ipython2",
   "version": "2.7.12"
  }
 },
 "nbformat": 4,
 "nbformat_minor": 2
}
