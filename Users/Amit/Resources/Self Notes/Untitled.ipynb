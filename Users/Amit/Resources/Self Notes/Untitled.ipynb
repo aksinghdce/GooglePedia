{
 "cells": [
  {
   "cell_type": "markdown",
   "metadata": {},
   "source": [
    "# Truth tables for \"implies\" and \"if and only if\""
   ]
  },
  {
   "cell_type": "markdown",
   "metadata": {},
   "source": [
    "## \"implies\" is a bit tricky because\n",
    "\n",
    "There might occur a scenario where \"then\" part is True no matter whether \"if\" part is False or True. In this scenario, the propisition is True.\n",
    "\n",
    "A trick to remember this is:\n",
    "\n",
    "**A proposition is True exactly when the \"if\" part is False OR the \"then\" part is True.**\n",
    "\n",
    "Citation: \n",
    "\n",
    "Tom Leighton, and Marten Dijk. 6.042J Mathematics for Computer Science. Fall 2010. Massachusetts Institute of Technology: MIT OpenCourseWare, https://ocw.mit.edu. License: Creative Commons BY-NC-SA."
   ]
  },
  {
   "cell_type": "markdown",
   "metadata": {},
   "source": [
    "![Truth Table for implies and iff](Implies_and_iff.png)\n",
    "\n",
    "Citation:\n",
    "\n",
    "Tom Leighton, and Marten Dijk. 6.042J Mathematics for Computer Science. Fall 2010. Massachusetts Institute of Technology: MIT OpenCourseWare, https://ocw.mit.edu. License: Creative Commons BY-NC-SA."
   ]
  },
  {
   "cell_type": "code",
   "execution_count": null,
   "metadata": {
    "collapsed": true
   },
   "outputs": [],
   "source": []
  }
 ],
 "metadata": {
  "kernelspec": {
   "display_name": "Python 2",
   "language": "python",
   "name": "python2"
  },
  "language_info": {
   "codemirror_mode": {
    "name": "ipython",
    "version": 2
   },
   "file_extension": ".py",
   "mimetype": "text/x-python",
   "name": "python",
   "nbconvert_exporter": "python",
   "pygments_lexer": "ipython2",
   "version": "2.7.12"
  }
 },
 "nbformat": 4,
 "nbformat_minor": 2
}
