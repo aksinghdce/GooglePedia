{
 "cells": [
  {
   "cell_type": "markdown",
   "metadata": {},
   "source": [
    "# Truth tables for \"implies\""
   ]
  },
  {
   "cell_type": "markdown",
   "metadata": {},
   "source": [
    "## \"implies\" is a bit tricky because\n",
    "\n",
    "There might occur a scenario where \"then\" part is True no matter whether \"if\" part is False or True. In this scenario, the propisition is True.\n",
    "\n",
    "A trick to remember this is:\n",
    "\n",
    "**A proposition is True exactly when the \"if\" part is False OR the \"then\" part is True.**\n",
    "\n",
    "Citation: \n",
    "\n",
    "Tom Leighton, and Marten Dijk. 6.042J Mathematics for Computer Science. Fall 2010. Massachusetts Institute of Technology: MIT OpenCourseWare, https://ocw.mit.edu. License: Creative Commons BY-NC-SA."
   ]
  },
  {
   "cell_type": "markdown",
   "metadata": {
    "collapsed": true
   },
   "source": [
    "# Mathematical Propositions"
   ]
  },
  {
   "cell_type": "markdown",
   "metadata": {},
   "source": [
    "::= is equality by definition\n",
    "\n",
    "Proposition 1.3.4. \n",
    "\n",
    "Every map can be colored with 4 colors so that adjacent regions have different colors.\n",
    "\n",
    "Two regions are adjacent only when they share a boundary segment of positive length. They are\n",
    "not considered to be adjacent if their boundaries meet only at a few points.\n",
    "\n"
   ]
  },
  {
   "cell_type": "markdown",
   "metadata": {},
   "source": [
    "# Proofs of Theorems:"
   ]
  },
  {
   "cell_type": "markdown",
   "metadata": {},
   "source": [
    "## Proof by cases:\n",
    "\n",
    "1. Theorem. \n",
    "\n",
    "    Every collection of 6 people includes a club of 3 people or a group of 3 strangers."
   ]
  },
  {
   "cell_type": "markdown",
   "metadata": {
    "collapsed": true
   },
   "source": [
    "## Proof by Implication\n",
    "\n"
   ]
  }
 ],
 "metadata": {
  "kernelspec": {
   "display_name": "Python 2",
   "language": "python",
   "name": "python2"
  },
  "language_info": {
   "codemirror_mode": {
    "name": "ipython",
    "version": 2
   },
   "file_extension": ".py",
   "mimetype": "text/x-python",
   "name": "python",
   "nbconvert_exporter": "python",
   "pygments_lexer": "ipython2",
   "version": "2.7.12"
  }
 },
 "nbformat": 4,
 "nbformat_minor": 2
}
