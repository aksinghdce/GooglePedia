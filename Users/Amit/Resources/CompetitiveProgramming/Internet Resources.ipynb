{
 "cells": [
  {
   "cell_type": "markdown",
   "metadata": {},
   "source": [
    "# Good Resources"
   ]
  },
  {
   "cell_type": "markdown",
   "metadata": {},
   "source": [
    "Resources:\n",
    "\n",
    "1. [Practice algorithms and Data Structures](https://www.hackerearth.com/practice/)\n",
    "2. [ALLgorithms](http://www.geeksforgeeks.org/fundamentals-of-algorithms/)\n",
    "3. [TopCoder](https://www.topcoder.com/community/data-science/data-science-tutorials/)\n",
    "4. [Quora Blog](https://tp-iiita.quora.com/)\n",
    "5. [Quora Question Link](https://www.quora.com/I-am-unable-to-perform-well-in-programming-contests-even-after-practicing-a-lot-What-should-I-do-now-Should-I-quit-doing-competitive-programming)"
   ]
  },
  {
   "cell_type": "code",
   "execution_count": null,
   "metadata": {
    "collapsed": true
   },
   "outputs": [],
   "source": []
  }
 ],
 "metadata": {
  "kernelspec": {
   "display_name": "Python 2",
   "language": "python",
   "name": "python2"
  },
  "language_info": {
   "codemirror_mode": {
    "name": "ipython",
    "version": 2
   },
   "file_extension": ".py",
   "mimetype": "text/x-python",
   "name": "python",
   "nbconvert_exporter": "python",
   "pygments_lexer": "ipython2",
   "version": "2.7.12"
  }
 },
 "nbformat": 4,
 "nbformat_minor": 2
}
