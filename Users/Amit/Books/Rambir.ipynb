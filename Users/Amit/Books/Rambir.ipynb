{
 "cells": [
  {
   "cell_type": "markdown",
   "metadata": {},
   "source": [
    "# Preface\n",
    "\n",
    "This book is a set of stories that I have gathered from my travels. The stories are from India, USA and Germany. The time is 2094 to 2017.\n",
    "\n",
    "Through these stories I want to present the story of courage, determination, manking way through life through various emotions and feelings.\n",
    "\n",
    "## Story of Yogi Jahaj Nath.\n",
    "\n",
    "Display a semi circle of sitting people, a rectangle with one sitting person and a Chilum. Picture. The story has characters that speak of various other stories."
   ]
  },
  {
   "cell_type": "markdown",
   "metadata": {},
   "source": [
    "Rambir lives in a village stays with his father Satbir. Rambir's mother prabhjeet kaur, dead when Rambir was 12. Rambir's sister is married in a far away village. Satbir is a farmer and his earnings are enough to take care of him and Rambir. Rambir goes to school and is in 7th standard. \n",
    "Rambir doesn't understand the purpose of his life and struggles to find meaning in world. One fine day Rambir goes out and buys some sleeping pills from a far away chemist shop. Rambir eats some 10 pills and goes of to sleep in a hope that he would just quit this world and go far away from this meaningless life.\n",
    "\n",
    "Rambir wakes up, after 3 days. Stabir took care of his thinking that Rambir was sick and didn't want to go to school. Rambir is surprised to be awake and goes on with the life he was trying to get away from. Nothing has changed in his feelings of boredom and he still thinks that he doesn't fit in this world.\n",
    "\n",
    "Rambir's mom's family is very well to do. They are Jamindars. Rambir is friends with his mama, Suyodhan who is the only son of Rambir's nanaji. Suyodhan wishes a great life for Rambir and has started hanging out with Rambir more often after Rambir's mother's death. Suyodhan is very fond of Rambir and they hang out some times owing to just a 3 years age difference. Suyodhan has recently started drinking and Rambir gets to try some of the alcohol Suyodhan offered one day. Rambir was sick after drinking and decided to never touch alcohol again. Rambir was curious to know why would Suyodhan life to drink, and that too so much.\n",
    "\n",
    "After a month, Rambir tried another go at getting rid of his life in a painless way. Rambir just wants to sleep and never wake up. He doesn't want to try drowning, falling from a great height or anything that inflicts pain. This time Rambir gets rat poison. He gets an oppertune moment and eats enough of the rat poison after dinner that night. Rambir didn't die but fell sick. Satbir took care of Rambir tirelessly and was sad that Rambir tried killing himself again. Satbir can't get through to Rambir and feels that the loss of mother could be the reason. Satbir tries to be Rambir's mother and takes care of him, but probably not enough owing to Rambir's school.\n",
    "\n",
    "Rambir quits school and decides to go out in the fields with his father. Satbir likes the idea because he needs help in the fields and also thinks that probably spending time with his father would make his cheerful and make him want to live.\n",
    "\n",
    "What troubles Rambir?"
   ]
  },
  {
   "cell_type": "code",
   "execution_count": null,
   "metadata": {
    "collapsed": true
   },
   "outputs": [],
   "source": []
  }
 ],
 "metadata": {
  "kernelspec": {
   "display_name": "Python 2",
   "language": "python",
   "name": "python2"
  },
  "language_info": {
   "codemirror_mode": {
    "name": "ipython",
    "version": 2
   },
   "file_extension": ".py",
   "mimetype": "text/x-python",
   "name": "python",
   "nbconvert_exporter": "python",
   "pygments_lexer": "ipython2",
   "version": "2.7.12"
  }
 },
 "nbformat": 4,
 "nbformat_minor": 2
}
