{
 "cells": [
  {
   "cell_type": "code",
   "execution_count": 1,
   "metadata": {
    "collapsed": false
   },
   "outputs": [
    {
     "name": "stdout",
     "output_type": "stream",
     "text": [
      "<Queue.Queue instance at 0x7fc6ac334a70>\n"
     ]
    }
   ],
   "source": [
    "import Queue\n",
    "q = Queue.Queue()\n",
    "print q"
   ]
  },
  {
   "cell_type": "code",
   "execution_count": 2,
   "metadata": {
    "collapsed": true
   },
   "outputs": [],
   "source": [
    "q.put('a')"
   ]
  },
  {
   "cell_type": "code",
   "execution_count": 4,
   "metadata": {
    "collapsed": false
   },
   "outputs": [],
   "source": [
    "q.put('b')"
   ]
  },
  {
   "cell_type": "code",
   "execution_count": 6,
   "metadata": {
    "collapsed": false
   },
   "outputs": [
    {
     "data": {
      "text/plain": [
       "{'all_tasks_done': <Condition(<thread.lock object at 0x7fc6b36cabb0>, 0)>,\n",
       " 'maxsize': 0,\n",
       " 'mutex': <thread.lock at 0x7fc6b36cabb0>,\n",
       " 'not_empty': <Condition(<thread.lock object at 0x7fc6b36cabb0>, 0)>,\n",
       " 'not_full': <Condition(<thread.lock object at 0x7fc6b36cabb0>, 0)>,\n",
       " 'queue': deque(['a', 'b']),\n",
       " 'unfinished_tasks': 2}"
      ]
     },
     "execution_count": 6,
     "metadata": {},
     "output_type": "execute_result"
    }
   ],
   "source": [
    "q.__dict__"
   ]
  },
  {
   "cell_type": "code",
   "execution_count": 11,
   "metadata": {
    "collapsed": false
   },
   "outputs": [
    {
     "data": {
      "text/plain": [
       "'b'"
      ]
     },
     "execution_count": 11,
     "metadata": {},
     "output_type": "execute_result"
    }
   ],
   "source": [
    "q.get()"
   ]
  },
  {
   "cell_type": "code",
   "execution_count": 12,
   "metadata": {
    "collapsed": false
   },
   "outputs": [
    {
     "data": {
      "text/plain": [
       "{'all_tasks_done': <Condition(<thread.lock object at 0x7fc6b36cabb0>, 0)>,\n",
       " 'maxsize': 0,\n",
       " 'mutex': <thread.lock at 0x7fc6b36cabb0>,\n",
       " 'not_empty': <Condition(<thread.lock object at 0x7fc6b36cabb0>, 0)>,\n",
       " 'not_full': <Condition(<thread.lock object at 0x7fc6b36cabb0>, 0)>,\n",
       " 'queue': deque([]),\n",
       " 'unfinished_tasks': 2}"
      ]
     },
     "execution_count": 12,
     "metadata": {},
     "output_type": "execute_result"
    }
   ],
   "source": [
    "q.__dict__"
   ]
  },
  {
   "cell_type": "code",
   "execution_count": 13,
   "metadata": {
    "collapsed": false
   },
   "outputs": [
    {
     "data": {
      "text/plain": [
       "0"
      ]
     },
     "execution_count": 13,
     "metadata": {},
     "output_type": "execute_result"
    }
   ],
   "source": [
    "q.qsize()"
   ]
  },
  {
   "cell_type": "code",
   "execution_count": null,
   "metadata": {
    "collapsed": true
   },
   "outputs": [],
   "source": []
  }
 ],
 "metadata": {
  "kernelspec": {
   "display_name": "Python 2",
   "language": "python",
   "name": "python2"
  },
  "language_info": {
   "codemirror_mode": {
    "name": "ipython",
    "version": 2
   },
   "file_extension": ".py",
   "mimetype": "text/x-python",
   "name": "python",
   "nbconvert_exporter": "python",
   "pygments_lexer": "ipython2",
   "version": "2.7.12"
  }
 },
 "nbformat": 4,
 "nbformat_minor": 2
}
