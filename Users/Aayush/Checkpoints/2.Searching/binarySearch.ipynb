{
 "cells": [
  {
   "cell_type": "markdown",
   "metadata": {
    "collapsed": true,
    "deletable": true,
    "editable": true
   },
   "source": [
    "Problem Statement : Binary Search of an item in a list"
   ]
  },
  {
   "cell_type": "markdown",
   "metadata": {},
   "source": [
    "Pseudo Code : <img src=\"../images/binarySearchPseudo.jpg\">"
   ]
  },
  {
   "cell_type": "code",
   "execution_count": 21,
   "metadata": {
    "collapsed": true
   },
   "outputs": [],
   "source": [
    "# Python Program\n",
    "\n",
    "def binarySearch(A, item):\n",
    "    low = 0\n",
    "    high = len(A) - 1\n",
    "    count = 0\n",
    "    \n",
    "    while(low <= high):\n",
    "#         import pdb;pdb.set_trace()\n",
    "        count += 1\n",
    "        mid = (low + high)/2\n",
    "        \n",
    "        print \"#########\"\n",
    "        print \"iteration %s\" %count\n",
    "        print \"low %s\" %low\n",
    "        print \"mid %s\" %mid\n",
    "        print \"high %s\" %high\n",
    "        \n",
    "        if(A[mid] == item):\n",
    "            return True\n",
    "        elif(item < A[mid]):\n",
    "            high = mid - 1\n",
    "        elif(item > A[mid]):\n",
    "            low = mid + 1\n",
    "        \n",
    "    return False"
   ]
  },
  {
   "cell_type": "code",
   "execution_count": 22,
   "metadata": {
    "collapsed": false
   },
   "outputs": [
    {
     "name": "stdout",
     "output_type": "stream",
     "text": [
      "#########\n",
      "iteration 1\n",
      "low 0\n",
      "mid 2\n",
      "high 4\n",
      "#########\n",
      "iteration 2\n",
      "low 3\n",
      "mid 3\n",
      "high 4\n",
      "#########\n",
      "iteration 3\n",
      "low 4\n",
      "mid 4\n",
      "high 4\n",
      "False\n"
     ]
    }
   ],
   "source": [
    "# Emplementation\n",
    "\n",
    "A = [1,2,3,4,5]\n",
    "item = 7\n",
    "out = binarySearch(A, item)\n",
    "print out"
   ]
  },
  {
   "cell_type": "code",
   "execution_count": null,
   "metadata": {
    "collapsed": true
   },
   "outputs": [],
   "source": []
  }
 ],
 "metadata": {
  "kernelspec": {
   "display_name": "Python 2",
   "language": "python",
   "name": "python2"
  },
  "language_info": {
   "codemirror_mode": {
    "name": "ipython",
    "version": 2
   },
   "file_extension": ".py",
   "mimetype": "text/x-python",
   "name": "python",
   "nbconvert_exporter": "python",
   "pygments_lexer": "ipython2",
   "version": "2.7.12"
  }
 },
 "nbformat": 4,
 "nbformat_minor": 2
}
