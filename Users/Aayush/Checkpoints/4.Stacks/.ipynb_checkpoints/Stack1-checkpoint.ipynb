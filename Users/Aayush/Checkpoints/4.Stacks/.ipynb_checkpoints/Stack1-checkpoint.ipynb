{
 "cells": [
  {
   "cell_type": "markdown",
   "metadata": {
    "deletable": true,
    "editable": true
   },
   "source": [
    "# Problem : Simple Array implementation of Stack"
   ]
  },
  {
   "cell_type": "markdown",
   "metadata": {
    "deletable": true,
    "editable": true
   },
   "source": [
    "pseudo Code : NA"
   ]
  },
  {
   "cell_type": "code",
   "execution_count": 29,
   "metadata": {
    "collapsed": true,
    "deletable": true,
    "editable": true
   },
   "outputs": [],
   "source": [
    "# Python Program\n",
    "class Stack(object):\n",
    "    def __init__(self, limit=10):\n",
    "        self.stack = []\n",
    "        self.limit = limit\n",
    "        \n",
    "    def isEmpty(self):\n",
    "        if(self.limit <= 0):\n",
    "            return True\n",
    "        return False\n",
    "    \n",
    "    def push(self, item):\n",
    "        if(len(self.stack) >= self.limit):\n",
    "#             to avoid this use the array doubling technique\n",
    "#             self.limit = self.limit * 2\n",
    "            print \"Stack Overflow\"\n",
    "            return 0\n",
    "        else:\n",
    "            self.stack.append(item)\n",
    "            self.limit += 1\n",
    "            print \"Stack after pushing %s is %s\" %(item, self.stack)\n",
    "            return 1\n",
    "        \n",
    "    def pop(self):\n",
    "        if(len(self.stack) <= 0):\n",
    "            print \"Underflow condition\"\n",
    "            return 0\n",
    "        else:\n",
    "            popItem = self.stack.pop()\n",
    "            print \"Popped item %s from Stack %s\" %(popItem , self.stack)\n",
    "            return 1\n",
    "        \n",
    "#     See what is the TOP of the stack\n",
    "    def peek(self):\n",
    "        if(len(self.stack) <= 0):\n",
    "            print \"Underflow condition\"\n",
    "            return 0\n",
    "        else:\n",
    "            return self.stack[-1]\n",
    "        \n",
    "    def size(self):\n",
    "        return len(self.stack)\n",
    "    \n",
    "    def view(self):\n",
    "        return self.stack"
   ]
  },
  {
   "cell_type": "code",
   "execution_count": 30,
   "metadata": {
    "collapsed": false,
    "deletable": true,
    "editable": true
   },
   "outputs": [
    {
     "name": "stdout",
     "output_type": "stream",
     "text": [
      "Stack after pushing 1 is ['1']\n",
      "Stack after pushing 21 is ['1', '21']\n",
      "Stack after pushing 14 is ['1', '21', '14']\n",
      "Stack after pushing 31 is ['1', '21', '14', '31']\n",
      "Stack after pushing 19 is ['1', '21', '14', '31', '19']\n",
      "Stack after pushing 3 is ['1', '21', '14', '31', '19', '3']\n",
      "Stack after pushing 99 is ['1', '21', '14', '31', '19', '3', '99']\n",
      "Stack after pushing 9 is ['1', '21', '14', '31', '19', '3', '99', '9']\n",
      "Popped item 9 from Stack ['1', '21', '14', '31', '19', '3', '99']\n",
      "Popped item 99 from Stack ['1', '21', '14', '31', '19', '3']\n",
      "Popped item 3 from Stack ['1', '21', '14', '31', '19']\n",
      "Popped item 19 from Stack ['1', '21', '14', '31']\n",
      "Popped item 31 from Stack ['1', '21', '14']\n",
      "Popped item 14 from Stack ['1', '21']\n",
      "Popped item 21 from Stack ['1']\n",
      "Popped item 1 from Stack []\n",
      "Underflow condition\n",
      "Underflow condition\n"
     ]
    },
    {
     "data": {
      "text/plain": [
       "0"
      ]
     },
     "execution_count": 30,
     "metadata": {},
     "output_type": "execute_result"
    }
   ],
   "source": [
    "# Implementation and Output\n",
    "\n",
    "obj = Stack()\n",
    "obj.push('1')\n",
    "obj.push('21')\n",
    "obj.push('14')\n",
    "obj.push('31')\n",
    "obj.push('19')\n",
    "obj.push('3')\n",
    "obj.push('99')\n",
    "obj.push('9')\n",
    "obj.peek()\n",
    "obj.pop()\n",
    "obj.peek()\n",
    "obj.pop()\n",
    "obj.pop()\n",
    "obj.pop()\n",
    "obj.pop()\n",
    "obj.pop()\n",
    "obj.pop()\n",
    "obj.pop()\n",
    "obj.pop()\n",
    "obj.pop()"
   ]
  },
  {
   "cell_type": "code",
   "execution_count": 31,
   "metadata": {
    "collapsed": false,
    "deletable": true,
    "editable": true
   },
   "outputs": [
    {
     "name": "stdout",
     "output_type": "stream",
     "text": [
      "Stack after pushing 1 is ['1']\n",
      "Stack after pushing 21 is ['1', '21']\n"
     ]
    }
   ],
   "source": [
    "# Unit Test Cases\n",
    "\n",
    "import pytest\n",
    "def test():\n",
    "    obj = Stack()\n",
    "    obj.push('1')\n",
    "    obj.push('21')\n",
    "    assert obj.peek() == '21'\n",
    "test()"
   ]
  },
  {
   "cell_type": "markdown",
   "metadata": {
    "deletable": true,
    "editable": true
   },
   "source": [
    "Asymptotic Analysis :\n",
    "\n",
    "* Space complexity to create a stack of size n = O(n)\n",
    "* Time complexity for push = O(1)\n",
    "* Time complexity for pop = O(1)\n",
    "* Time complexity for size = O(1)\n",
    "* Time complexity for isEmpty = O(1)\n"
   ]
  },
  {
   "cell_type": "code",
   "execution_count": null,
   "metadata": {
    "collapsed": true,
    "deletable": true,
    "editable": true
   },
   "outputs": [],
   "source": []
  }
 ],
 "metadata": {
  "kernelspec": {
   "display_name": "Python 2",
   "language": "python",
   "name": "python2"
  },
  "language_info": {
   "codemirror_mode": {
    "name": "ipython",
    "version": 2
   },
   "file_extension": ".py",
   "mimetype": "text/x-python",
   "name": "python",
   "nbconvert_exporter": "python",
   "pygments_lexer": "ipython2",
   "version": "2.7.12"
  }
 },
 "nbformat": 4,
 "nbformat_minor": 2
}
