{
 "cells": [
  {
   "cell_type": "raw",
   "metadata": {
    "deletable": true,
    "editable": true
   },
   "source": [
    "Find The GCD of two integers"
   ]
  },
  {
   "cell_type": "code",
   "execution_count": 43,
   "metadata": {
    "collapsed": false,
    "deletable": true,
    "editable": true
   },
   "outputs": [],
   "source": [
    "class Solution:\n",
    "    # @param A : integer\n",
    "    # @param B : integer\n",
    "    # @return an integer\n",
    "    def gcd(self, A, B):\n",
    "        if(A==1 or B==1):\n",
    "            return 1\n",
    "        elif(A==0 or B==0):\n",
    "            if(A==0):\n",
    "                return B\n",
    "            return A\n",
    "        elif(A==B):\n",
    "            return A\n",
    "        elif(A < B):\n",
    "            return self.gcd(B-A,A)\n",
    "        else:\n",
    "            return self.gcd(A-B,B)"
   ]
  },
  {
   "cell_type": "code",
   "execution_count": 44,
   "metadata": {
    "collapsed": false,
    "deletable": true,
    "editable": true
   },
   "outputs": [
    {
     "data": {
      "text/plain": [
       "1"
      ]
     },
     "execution_count": 44,
     "metadata": {},
     "output_type": "execute_result"
    }
   ],
   "source": [
    "obj = Solution()\n",
    "obj.gcd(2,3)"
   ]
  },
  {
   "cell_type": "code",
   "execution_count": 45,
   "metadata": {
    "collapsed": true
   },
   "outputs": [],
   "source": [
    "# ANOTHER APPROACH :\n",
    "\n",
    "class Solution:\n",
    "    # @param A : integer\n",
    "    # @param B : integer\n",
    "    # @return an integer\n",
    "    def gcd(self, A, B):\n",
    "        if(A==1 or B==1):\n",
    "            return 1\n",
    "        elif(A==0 or B==0):\n",
    "            if(A==0):\n",
    "                return B\n",
    "            return A\n",
    "        elif(A==B):\n",
    "            return A\n",
    "        elif(A < B):\n",
    "            tem = A\n",
    "        elif(A > B):\n",
    "            tem = B\n",
    "        \n",
    "        for x in range(tem , 0 , -1):\n",
    "            if(A%x == 0 and B%x == 0):\n",
    "                return x\n",
    "\n",
    "    \n",
    "    "
   ]
  },
  {
   "cell_type": "raw",
   "metadata": {},
   "source": [
    "HINT :\n",
    "    \n",
    "    Lets say g is gcd(m, n) and m > n.\n",
    "\n",
    "m = g * m1\n",
    "n = g * m2\n",
    "\n",
    "m - n = g * (m1 - m2)\n",
    "\n",
    "gcd (m, n) = gcd(m-n, n)\n",
    "\n",
    "           = gcd(m - 2n, n) if m >= 2n\n",
    "           = gcd(m - 3n, n) if m >= 3n \n",
    "             .\n",
    "             .\n",
    "             .\n",
    "           = gcd(m - k*n, n) if m >= k*n\n",
    "           \n",
    "       In other words, we keep subtracting n till the result is greater than 0. Ultimately we will end up with m % n.\n",
    "       \n",
    "              So gcd(m, n)  = gcd(m % n, n) "
   ]
  },
  {
   "cell_type": "code",
   "execution_count": 46,
   "metadata": {
    "collapsed": true,
    "deletable": true,
    "editable": true
   },
   "outputs": [],
   "source": [
    "# Now, let's write an optimised code for GCD\n",
    "def GCD(m,n):\n",
    "    if(n > m):\n",
    "        temp = m\n",
    "        m = n\n",
    "        n = temp\n",
    "    if(n == 0):\n",
    "        return m\n",
    "    return GCD(m%n, n)"
   ]
  },
  {
   "cell_type": "code",
   "execution_count": 47,
   "metadata": {
    "collapsed": false
   },
   "outputs": [
    {
     "data": {
      "text/plain": [
       "1"
      ]
     },
     "execution_count": 47,
     "metadata": {},
     "output_type": "execute_result"
    }
   ],
   "source": [
    "GCD(3,17)"
   ]
  },
  {
   "cell_type": "code",
   "execution_count": null,
   "metadata": {
    "collapsed": true
   },
   "outputs": [],
   "source": []
  }
 ],
 "metadata": {
  "kernelspec": {
   "display_name": "Python 2",
   "language": "python",
   "name": "python2"
  },
  "language_info": {
   "codemirror_mode": {
    "name": "ipython",
    "version": 2
   },
   "file_extension": ".py",
   "mimetype": "text/x-python",
   "name": "python",
   "nbconvert_exporter": "python",
   "pygments_lexer": "ipython2",
   "version": "2.7.12"
  }
 },
 "nbformat": 4,
 "nbformat_minor": 2
}
