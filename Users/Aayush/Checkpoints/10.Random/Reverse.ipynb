{
 "cells": [
  {
   "cell_type": "raw",
   "metadata": {
    "deletable": true,
    "editable": true
   },
   "source": [
    "URL - https://www.interviewbit.com/problems/reverse-integer/\n",
    "\n",
    "    \n",
    "\n",
    "Reverse digits of an integer.\n",
    "\n",
    "Example1:\n",
    "\n",
    "x = 123,\n",
    "\n",
    "return 321\n",
    "Example2:\n",
    "\n",
    "x = -123,\n",
    "\n",
    "return -321\n",
    "\n",
    "Return 0 if the result overflows and does not fit in a 32 bit signed integer\n"
   ]
  },
  {
   "cell_type": "code",
   "execution_count": 11,
   "metadata": {
    "collapsed": true,
    "deletable": true,
    "editable": true
   },
   "outputs": [],
   "source": [
    "class Solution:\n",
    "    # @param A : integer\n",
    "    # @return an integer\n",
    "    def reverse(self, A):\n",
    "        #import pdb;pdb.set_trace()\n",
    "        if(A > 2**31 or A < -2**31):\n",
    "            return 0\n",
    "        rev = 0\n",
    "        digit = 0\n",
    "        flag = False\n",
    "        if(A<0):\n",
    "            flag = True\n",
    "            A = A*-1\n",
    "        while(A>0):\n",
    "            digit = A % 10\n",
    "            rev = rev * 10 + digit\n",
    "            A = A / 10\n",
    "        \n",
    "        if(rev > 2**31 or rev < -2**31):\n",
    "            return 0\n",
    "\n",
    "        if(flag):\n",
    "            return rev * -1\n",
    "        return rev"
   ]
  },
  {
   "cell_type": "code",
   "execution_count": 12,
   "metadata": {
    "collapsed": false,
    "deletable": true,
    "editable": true
   },
   "outputs": [
    {
     "data": {
      "text/plain": [
       "0"
      ]
     },
     "execution_count": 12,
     "metadata": {},
     "output_type": "execute_result"
    }
   ],
   "source": [
    "obj = Solution()\n",
    "obj.reverse(-1146467285)"
   ]
  },
  {
   "cell_type": "code",
   "execution_count": 13,
   "metadata": {
    "collapsed": false,
    "deletable": true,
    "editable": true
   },
   "outputs": [
    {
     "data": {
      "text/plain": [
       "-321"
      ]
     },
     "execution_count": 13,
     "metadata": {},
     "output_type": "execute_result"
    }
   ],
   "source": [
    "obj.reverse(-123)"
   ]
  },
  {
   "cell_type": "code",
   "execution_count": null,
   "metadata": {
    "collapsed": true,
    "deletable": true,
    "editable": true
   },
   "outputs": [],
   "source": []
  }
 ],
 "metadata": {
  "kernelspec": {
   "display_name": "Python 2",
   "language": "python",
   "name": "python2"
  },
  "language_info": {
   "codemirror_mode": {
    "name": "ipython",
    "version": 2
   },
   "file_extension": ".py",
   "mimetype": "text/x-python",
   "name": "python",
   "nbconvert_exporter": "python",
   "pygments_lexer": "ipython2",
   "version": "2.7.12"
  }
 },
 "nbformat": 4,
 "nbformat_minor": 2
}
