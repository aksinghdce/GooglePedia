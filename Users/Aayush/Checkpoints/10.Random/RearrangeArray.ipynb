{
 "cells": [
  {
   "cell_type": "markdown",
   "metadata": {},
   "source": [
    "# Best Example for Usage of Discrete mathematics with Computer Science"
   ]
  },
  {
   "cell_type": "raw",
   "metadata": {},
   "source": [
    "Rearrange a given array so that Arr[i] becomes Arr[Arr[i]] with O(1) extra space.\n",
    "\n",
    "URL : https://www.interviewbit.com/problems/rearrange-array/"
   ]
  },
  {
   "cell_type": "code",
   "execution_count": 15,
   "metadata": {
    "collapsed": true
   },
   "outputs": [],
   "source": [
    "class Solution:\n",
    "    # @param A : list of integers\n",
    "    # Modify the array A which is passed by reference. \n",
    "    # You do not need to return anything in this case. \n",
    "    def arrange(self, A):\n",
    "        z = len(A)\n",
    "        for x in range(0, len(A)):\n",
    "           A[x] = A[x] + (A[A[x]]%z)*z\n",
    "        for y in range(0, len(A)):\n",
    "            A[y] = A[y]/z\n",
    "            \n",
    "        print A"
   ]
  },
  {
   "cell_type": "raw",
   "metadata": {},
   "source": [
    "A = B + C * N {B<C < N}\n",
    "B = A%N\n",
    "C = A/N\n",
    "\n",
    "Discrete mathematics Funda\n",
    "\n",
    "A[x] = A[x] + A[A[x]]%N * N\n",
    "A[x] = A[x]/N"
   ]
  },
  {
   "cell_type": "code",
   "execution_count": 17,
   "metadata": {
    "collapsed": false
   },
   "outputs": [
    {
     "name": "stdout",
     "output_type": "stream",
     "text": [
      "[2, 0, 1]\n"
     ]
    }
   ],
   "source": [
    "obj = Solution()\n",
    "A = [ 1,2,0 ]\n",
    "obj.arrange(A)"
   ]
  },
  {
   "cell_type": "code",
   "execution_count": null,
   "metadata": {
    "collapsed": true
   },
   "outputs": [],
   "source": []
  }
 ],
 "metadata": {
  "kernelspec": {
   "display_name": "Python 2",
   "language": "python",
   "name": "python2"
  },
  "language_info": {
   "codemirror_mode": {
    "name": "ipython",
    "version": 2
   },
   "file_extension": ".py",
   "mimetype": "text/x-python",
   "name": "python",
   "nbconvert_exporter": "python",
   "pygments_lexer": "ipython2",
   "version": "2.7.12"
  }
 },
 "nbformat": 4,
 "nbformat_minor": 2
}
