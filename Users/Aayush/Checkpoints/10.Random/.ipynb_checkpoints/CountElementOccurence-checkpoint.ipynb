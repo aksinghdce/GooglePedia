{
 "cells": [
  {
   "cell_type": "raw",
   "metadata": {},
   "source": [
    "Given a sorted array of integers, find the number of occurrences of a given target value.\n",
    "Your algorithm’s runtime complexity must be in the order of O(log n).\n",
    "If the target is not found in the array, return 0\n",
    "\n",
    "**Example : **\n",
    "Given [5, 7, 7, 8, 8, 10] and target value 8,\n",
    "return 2."
   ]
  },
  {
   "cell_type": "code",
   "execution_count": 33,
   "metadata": {
    "collapsed": false
   },
   "outputs": [],
   "source": [
    "class Solution:\n",
    "    # @param A : tuple of integers\n",
    "    # @param B : integer\n",
    "    # @return an integer\n",
    "    def findCount(self, A, B):\n",
    "        high = len(A)\n",
    "        low = 0\n",
    "        index = 0\n",
    "        flag = False\n",
    "        count = 0\n",
    "        while(high > low):\n",
    "            mid = (low+high)/2\n",
    "            if(A[mid] == B):\n",
    "                index = mid\n",
    "                flag = True\n",
    "                count += 1\n",
    "                break\n",
    "            elif(B < A[mid]):\n",
    "                high = mid\n",
    "            elif(B > A[mid]):\n",
    "                low = mid + 1\n",
    "        \n",
    "        if(flag == False):\n",
    "            return 0\n",
    "        index1 = index\n",
    "        while((index1+1)<len(A) and A[index1+1] == B):\n",
    "            index1 += 1\n",
    "            count += 1\n",
    "            \n",
    "        while((index-1)>=0 and A[index-1] == B):\n",
    "            index -= 1\n",
    "            count += 1\n",
    "        print count\n",
    "        \n",
    "            "
   ]
  },
  {
   "cell_type": "code",
   "execution_count": 34,
   "metadata": {
    "collapsed": false
   },
   "outputs": [
    {
     "name": "stdout",
     "output_type": "stream",
     "text": [
      "2\n"
     ]
    }
   ],
   "source": [
    "obj = Solution()\n",
    "A = [ 1, 1, 2, 2, 2, 2, 3, 3, 3, 3, 3, 3, 3, 4, 4, 5, 5, 5, 5, 5, 6, 6, 6, 7, 7, 8, 8, 8, 8, 9, 9, 10, 10, 10 ]\n",
    "B = 1\n",
    "obj.findCount(A,B)"
   ]
  },
  {
   "cell_type": "code",
   "execution_count": null,
   "metadata": {
    "collapsed": true
   },
   "outputs": [],
   "source": []
  }
 ],
 "metadata": {
  "kernelspec": {
   "display_name": "Python 2",
   "language": "python",
   "name": "python2"
  },
  "language_info": {
   "codemirror_mode": {
    "name": "ipython",
    "version": 2
   },
   "file_extension": ".py",
   "mimetype": "text/x-python",
   "name": "python",
   "nbconvert_exporter": "python",
   "pygments_lexer": "ipython2",
   "version": "2.7.12"
  }
 },
 "nbformat": 4,
 "nbformat_minor": 2
}
