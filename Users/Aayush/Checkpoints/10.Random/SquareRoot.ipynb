{
 "cells": [
  {
   "cell_type": "raw",
   "metadata": {},
   "source": [
    "Implement int sqrt(int x).\n",
    "\n",
    "Compute and return the square root of x.\n",
    "\n",
    "If x is not a perfect square, return floor(sqrt(x))\n",
    "\n",
    "Example :\n",
    "\n",
    "Input : 11\n",
    "Output : 3\n",
    "DO NOT USE SQRT FUNCTION FROM STANDARD LIBRARY"
   ]
  },
  {
   "cell_type": "code",
   "execution_count": 6,
   "metadata": {
    "collapsed": true
   },
   "outputs": [],
   "source": [
    "class Solution:\n",
    "    # @param A : integer\n",
    "    # @return an integer\n",
    "    def sqrt(self, A):\n",
    "        low = 0\n",
    "        high = A\n",
    "        if(A==1):\n",
    "            return 1\n",
    "        while(low<= high):\n",
    "            mid = (low + high)/2\n",
    "            if(mid*mid <= A and (mid+1)*(mid+1)>A):\n",
    "                return mid\n",
    "            elif(mid*mid < A):\n",
    "                low = mid\n",
    "            elif(mid*mid > A):\n",
    "                high = mid"
   ]
  },
  {
   "cell_type": "code",
   "execution_count": 7,
   "metadata": {
    "collapsed": false
   },
   "outputs": [
    {
     "data": {
      "text/plain": [
       "17"
      ]
     },
     "execution_count": 7,
     "metadata": {},
     "output_type": "execute_result"
    }
   ],
   "source": [
    "obj = Solution()\n",
    "obj.sqrt(300)"
   ]
  },
  {
   "cell_type": "code",
   "execution_count": null,
   "metadata": {
    "collapsed": true
   },
   "outputs": [],
   "source": []
  }
 ],
 "metadata": {
  "kernelspec": {
   "display_name": "Python 2",
   "language": "python",
   "name": "python2"
  },
  "language_info": {
   "codemirror_mode": {
    "name": "ipython",
    "version": 2
   },
   "file_extension": ".py",
   "mimetype": "text/x-python",
   "name": "python",
   "nbconvert_exporter": "python",
   "pygments_lexer": "ipython2",
   "version": "2.7.12"
  }
 },
 "nbformat": 4,
 "nbformat_minor": 2
}
