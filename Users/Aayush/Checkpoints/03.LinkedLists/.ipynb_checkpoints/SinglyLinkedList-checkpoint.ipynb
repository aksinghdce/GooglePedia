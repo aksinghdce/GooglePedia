{
 "cells": [
  {
   "cell_type": "markdown",
   "metadata": {},
   "source": [
    "# Problem Statement - Implement Single linked List"
   ]
  },
  {
   "cell_type": "markdown",
   "metadata": {},
   "source": [
    "Pseudo Code : NA"
   ]
  },
  {
   "cell_type": "code",
   "execution_count": 41,
   "metadata": {
    "collapsed": true
   },
   "outputs": [],
   "source": [
    "# Python Program\n",
    "class Node(object):\n",
    "    def __init__(self):\n",
    "        self.data = None\n",
    "        self.next = None\n",
    "        \n",
    "    def getData(self):\n",
    "        return self.data\n",
    "    \n",
    "    def setData(self, data):\n",
    "        self.data = data\n",
    "        \n",
    "    def getNext(self):\n",
    "        return self.next\n",
    "    \n",
    "    def setNext(self,data):\n",
    "        self.next = data\n",
    "        \n",
    "class linkedList(object):\n",
    "    def __init__(self):\n",
    "        self.head = None\n",
    "        self.length = 0\n",
    "        \n",
    "    def insertAtBegining(self, data):\n",
    "        newNode = Node()\n",
    "        newNode.setData(data)\n",
    "        if(self.length == 0):\n",
    "            self.head = newNode\n",
    "        else:\n",
    "            newNode.setNext(self.head)\n",
    "            self.head = newNode\n",
    "        self.length += 1\n",
    "        \n",
    "    def insertAtEnd(self, data):\n",
    "        newNode = Node()\n",
    "        newNode.setData(data)\n",
    "        currNode = self.head\n",
    "        while(currNode.getNext() != None):\n",
    "            currNode = currNode.getNext()\n",
    "        currNode.setNext(newNode)\n",
    "        self.length += 1\n",
    "        \n",
    "    def insertAtPosition(self, data, pos):\n",
    "        if(pos >= self.length):\n",
    "            print \"Position is invalid the length of the Linked List is %s \" %self.length\n",
    "        elif(pos == self.length-1):\n",
    "            self.insertAtEnd(data)\n",
    "        elif(pos == 0):\n",
    "            self.insertAtBegining(data)\n",
    "        else:\n",
    "            print \"Inserting %s @ location %s in Linked List\" %(data, pos)\n",
    "            counter = 0\n",
    "            currNode = self.head\n",
    "            while(counter != pos-1):\n",
    "                currNode = currNode.getNext()\n",
    "                counter += 1\n",
    "            newNode = Node()\n",
    "            newNode.setData(data)\n",
    "            newNode.setNext(currNode.getNext())\n",
    "            currNode.setNext(newNode)\n",
    "            self.length += 1          \n",
    "        \n",
    "            \n",
    "    def viewLinkedList(self):\n",
    "        if(self.length == 0):\n",
    "            print \"the Linked List is empty\"\n",
    "            return 0\n",
    "        node = self.head\n",
    "        while(node.getNext() != None):\n",
    "            print node.getData()\n",
    "            node = node.getNext()\n",
    "        print node.getData()\n",
    "            "
   ]
  },
  {
   "cell_type": "code",
   "execution_count": 42,
   "metadata": {
    "collapsed": false
   },
   "outputs": [
    {
     "name": "stdout",
     "output_type": "stream",
     "text": [
      "Inserting 5 @ location 2 in Linked List\n",
      "3\n",
      "2\n",
      "5\n",
      "1\n",
      "4\n"
     ]
    }
   ],
   "source": [
    "if __name__ == \"__main__\":\n",
    "    obj = linkedList()\n",
    "    obj.insertAtBegining(1)\n",
    "    obj.insertAtBegining(2)\n",
    "    obj.insertAtBegining(3)\n",
    "    obj.insertAtEnd(4)\n",
    "    obj.insertAtPosition(5,2)\n",
    "    obj.viewLinkedList()"
   ]
  },
  {
   "cell_type": "code",
   "execution_count": null,
   "metadata": {
    "collapsed": true
   },
   "outputs": [],
   "source": []
  }
 ],
 "metadata": {
  "kernelspec": {
   "display_name": "Python 2",
   "language": "python",
   "name": "python2"
  },
  "language_info": {
   "codemirror_mode": {
    "name": "ipython",
    "version": 2
   },
   "file_extension": ".py",
   "mimetype": "text/x-python",
   "name": "python",
   "nbconvert_exporter": "python",
   "pygments_lexer": "ipython2",
   "version": "2.7.12"
  }
 },
 "nbformat": 4,
 "nbformat_minor": 2
}
