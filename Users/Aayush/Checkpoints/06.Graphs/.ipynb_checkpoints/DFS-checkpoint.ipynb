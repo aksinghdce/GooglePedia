{
 "cells": [
  {
   "cell_type": "code",
   "execution_count": 27,
   "metadata": {
    "collapsed": false
   },
   "outputs": [],
   "source": [
    "class Vertex(object):\n",
    "    def __init__(self, id):\n",
    "        self.id = id\n",
    "        self.adjacent = {}\n",
    "        \n",
    "    def getId(self):\n",
    "        return self.id\n",
    "    \n",
    "    def setId(self, id):\n",
    "        self.id = id\n",
    "        \n",
    "    def addNeighbour(self, to, weight):\n",
    "        self.adjacent[to] = weight\n",
    "    \n",
    "class Graph(object):\n",
    "    def __init__(self):\n",
    "        self.vertDictionary = {}\n",
    "        self.numVertices = 0\n",
    "        \n",
    "    def addVertex(self, id):\n",
    "        if(id in self.vertDictionary):\n",
    "            return 0\n",
    "        newVertex = Vertex(id)\n",
    "        self.vertDictionary[id] = newVertex\n",
    "        self.numVertices += 1\n",
    "        \n",
    "    def addEdge(self, frm, to, weight=0):\n",
    "        if(frm not in self.vertDictionary):\n",
    "            self.addVertex(frm)\n",
    "        if(to not in self.vertDictionary):\n",
    "            self.addVertex(to)\n",
    "        self.vertDictionary[frm].addNeighbour(to, weight)\n",
    "#         If it is an undirected graph\n",
    "        self.vertDictionary[to].addNeighbour(frm, weight)\n",
    "\n",
    "    \n",
    "    def showEdges(self, node=None):\n",
    "        if node:\n",
    "            return self.vertDictionary[node].adjacent.keys()\n",
    "        \n",
    "    def DFS(self, start):\n",
    "        visited, stack = [], [start]\n",
    "        vertex = start\n",
    "        while(len(stack) > 0):\n",
    "            flag = False\n",
    "            if vertex not in visited:\n",
    "                visited.append(vertex)\n",
    "            neighbours = self.showEdges(vertex)\n",
    "            for item in neighbours:\n",
    "                if item not in visited:\n",
    "                    stack.append(item)\n",
    "                    vertex = item\n",
    "                    flag = True\n",
    "            if (flag is False):\n",
    "                stack.pop()   \n",
    "                if(len(stack) > 1):\n",
    "                    vertex = stack[len(stack) - 1]\n",
    "        return visited\n",
    "\n",
    "            \n",
    "        \n"
   ]
  },
  {
   "cell_type": "code",
   "execution_count": 28,
   "metadata": {
    "collapsed": false
   },
   "outputs": [
    {
     "data": {
      "text/plain": [
       "['c', 'b']"
      ]
     },
     "execution_count": 28,
     "metadata": {},
     "output_type": "execute_result"
    }
   ],
   "source": [
    "G = Graph()\n",
    "G.addVertex('a')\n",
    "G.addVertex('b')\n",
    "G.addVertex('c')\n",
    "G.addVertex('d')\n",
    "G.addVertex('e')\n",
    "G.addEdge('a','b')\n",
    "G.addEdge('b','e')\n",
    "G.addEdge('b','d')\n",
    "G.addEdge('c','d')\n",
    "G.showEdges('d')"
   ]
  },
  {
   "cell_type": "raw",
   "metadata": {},
   "source": [
    "Above was the code to create a Graph and represent it using Adjacency list.\n",
    "Now, let's focus on the DFS part."
   ]
  },
  {
   "cell_type": "code",
   "execution_count": 32,
   "metadata": {
    "collapsed": false
   },
   "outputs": [
    {
     "data": {
      "text/plain": [
       "['c', 'd', 'b', 'e', 'a']"
      ]
     },
     "execution_count": 32,
     "metadata": {},
     "output_type": "execute_result"
    }
   ],
   "source": [
    "G.DFS('c')"
   ]
  },
  {
   "cell_type": "code",
   "execution_count": null,
   "metadata": {
    "collapsed": true
   },
   "outputs": [],
   "source": []
  }
 ],
 "metadata": {
  "kernelspec": {
   "display_name": "Python 2",
   "language": "python",
   "name": "python2"
  },
  "language_info": {
   "codemirror_mode": {
    "name": "ipython",
    "version": 2
   },
   "file_extension": ".py",
   "mimetype": "text/x-python",
   "name": "python",
   "nbconvert_exporter": "python",
   "pygments_lexer": "ipython2",
   "version": "2.7.12"
  }
 },
 "nbformat": 4,
 "nbformat_minor": 2
}
