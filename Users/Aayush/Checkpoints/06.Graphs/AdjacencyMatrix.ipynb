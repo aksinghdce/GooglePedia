{
 "cells": [
  {
   "cell_type": "markdown",
   "metadata": {},
   "source": [
    "Problem Statement - Adjacency matrx representation of a graph"
   ]
  },
  {
   "cell_type": "markdown",
   "metadata": {},
   "source": [
    "Pseudo Code : "
   ]
  },
  {
   "cell_type": "code",
   "execution_count": 15,
   "metadata": {
    "collapsed": false
   },
   "outputs": [],
   "source": [
    "# Python Program\n",
    "\n",
    "class Vertex:\n",
    "    def __init__(self, id):\n",
    "        self.id = id\n",
    "        \n",
    "    def getVertex(self):\n",
    "        return self.id\n",
    "    \n",
    "    def setVertex(self, id):\n",
    "        self.id = id\n",
    "    \n",
    "class Graph:\n",
    "    def __init__(self, numVertices):\n",
    "        self.numVertices = numVertices\n",
    "        self.adjMat  = [[-1]*self.numVertices for i in range(self.numVertices)]\n",
    "        self.vertices = []\n",
    "        for x in range(self.numVertices):\n",
    "            newVertex = Vertex(x)\n",
    "            self.vertices.append(newVertex)\n",
    "            \n",
    "    def setVertex(self, vtx ,id):\n",
    "        for x in range(self.numVertices):\n",
    "            if(vtx == x):\n",
    "                self.vertices[x].setVertex(id)\n",
    "                \n",
    "    def getVertex(self, id):\n",
    "        for x in range(self.numVertices):\n",
    "            if self.vertices[x].getVertex() == id:\n",
    "                return x\n",
    "                \n",
    "    def addEdge(self, frm , to , count = 0):\n",
    "#         Dirrected graph\n",
    "        self.adjMat[self.getVertex(frm)][self.getVertex(to)] = count\n",
    "#     In case of undirected graph\n",
    "#         self.adjMat[self.getVertex(to)][self.getVertex(frm)] = count\n",
    "            \n",
    "    def viewMatrix(self):\n",
    "        import numpy as np\n",
    "        print np.matrix(self.adjMat)\n",
    "            \n",
    "            "
   ]
  },
  {
   "cell_type": "code",
   "execution_count": 16,
   "metadata": {
    "collapsed": false
   },
   "outputs": [
    {
     "name": "stdout",
     "output_type": "stream",
     "text": [
      "[[-1 -1 -1 -1 -1]\n",
      " [-1 -1 -1 -1 -1]\n",
      " [-1 -1 -1 -1 -1]\n",
      " [-1 -1 -1 -1 -1]\n",
      " [-1 -1 -1 -1 -1]]\n"
     ]
    }
   ],
   "source": [
    "G = Graph(5)\n",
    "G.viewMatrix()"
   ]
  },
  {
   "cell_type": "code",
   "execution_count": 17,
   "metadata": {
    "collapsed": false
   },
   "outputs": [
    {
     "data": {
      "text/plain": [
       "0"
      ]
     },
     "execution_count": 17,
     "metadata": {},
     "output_type": "execute_result"
    }
   ],
   "source": [
    "G.setVertex(0 , 'a')\n",
    "G.setVertex(1 , 'b')\n",
    "G.setVertex(2 , 'c')\n",
    "G.setVertex(3 , 'd')\n",
    "G.setVertex(4 , 'e')\n",
    "G.getVertex('a')"
   ]
  },
  {
   "cell_type": "code",
   "execution_count": 18,
   "metadata": {
    "collapsed": true
   },
   "outputs": [],
   "source": [
    "G.addEdge('a','b',1)"
   ]
  },
  {
   "cell_type": "code",
   "execution_count": 19,
   "metadata": {
    "collapsed": false
   },
   "outputs": [
    {
     "name": "stdout",
     "output_type": "stream",
     "text": [
      "[[-1  1 -1 -1 -1]\n",
      " [-1 -1 -1 -1 -1]\n",
      " [-1 -1 -1 -1 -1]\n",
      " [-1 -1 -1 -1 -1]\n",
      " [-1 -1 -1 -1 -1]]\n"
     ]
    }
   ],
   "source": [
    "G.viewMatrix()"
   ]
  },
  {
   "cell_type": "code",
   "execution_count": 21,
   "metadata": {
    "collapsed": false
   },
   "outputs": [],
   "source": [
    "G.addEdge('b','d',1)\n",
    "G.addEdge('b','e',1)"
   ]
  },
  {
   "cell_type": "code",
   "execution_count": 22,
   "metadata": {
    "collapsed": false
   },
   "outputs": [
    {
     "name": "stdout",
     "output_type": "stream",
     "text": [
      "[[-1  1 -1 -1 -1]\n",
      " [-1 -1 -1  1  1]\n",
      " [-1 -1 -1 -1 -1]\n",
      " [-1 -1 -1 -1 -1]\n",
      " [-1 -1 -1 -1 -1]]\n"
     ]
    }
   ],
   "source": [
    "G.viewMatrix()"
   ]
  },
  {
   "cell_type": "code",
   "execution_count": null,
   "metadata": {
    "collapsed": true
   },
   "outputs": [],
   "source": []
  }
 ],
 "metadata": {
  "kernelspec": {
   "display_name": "Python 2",
   "language": "python",
   "name": "python2"
  },
  "language_info": {
   "codemirror_mode": {
    "name": "ipython",
    "version": 2
   },
   "file_extension": ".py",
   "mimetype": "text/x-python",
   "name": "python",
   "nbconvert_exporter": "python",
   "pygments_lexer": "ipython2",
   "version": "2.7.12"
  }
 },
 "nbformat": 4,
 "nbformat_minor": 2
}
