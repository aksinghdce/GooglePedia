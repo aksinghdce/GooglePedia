{
 "cells": [
  {
   "cell_type": "code",
   "execution_count": 23,
   "metadata": {
    "collapsed": true,
    "deletable": true,
    "editable": true
   },
   "outputs": [],
   "source": [
    "class Vertex:\n",
    "    def __init__(self, id):\n",
    "        self.id = id\n",
    "        self.adjacent = {}\n",
    "        \n",
    "    def addNeighbour(self, to, cost=0):\n",
    "        self.adjacent[to] = cost\n",
    "        \n",
    "    def getConnections(self):\n",
    "        return self.adjacent.keys()\n",
    "    \n",
    "class Graph:\n",
    "    def __init__(self):\n",
    "        self.numVertices = 0\n",
    "        self.vertDictionary = {}\n",
    "        \n",
    "    def addVertex(self, node):\n",
    "        newVertex = Vertex(node)\n",
    "        self.vertDictionary[node] = newVertex\n",
    "        self.numVertices += 1\n",
    "        return newVertex\n",
    "    \n",
    "    def getVertex(self, n):\n",
    "        if n in self.vertDictionary.keys():\n",
    "            return self.vertDictionary[n]\n",
    "        return -1\n",
    "        \n",
    "    def addEdge(self, frm , to , cost=0):\n",
    "        if(self.getVertex(to) == -1):\n",
    "            self.addvertex(to)\n",
    "        if(self.getVertex(frm) == -1):\n",
    "            self.addvertex(frm)\n",
    "            \n",
    "        self.getVertex(frm).addNeighbour(self.vertDictionary[to], cost)\n",
    "        self.getVertex(to).addNeighbour(self.vertDictionary[frm], cost)\n",
    "        \n",
    "    def getEdges(self):\n",
    "        for item in self.vertDictionary.keys():\n",
    "            print \"Vertex %s has connections %s\" %(item,self.vertDictionary[item].getConnections())\n",
    "            \n",
    "    def DFSTraversal(self,G):\n",
    "        visited = {}\n",
    "        for currVertex in G:\n",
    "            if currVertex not in visited:\n",
    "                self.dfs(G, currVertex, visited)\n",
    "                \n",
    "    def dfs(self, G, currVertex, visited):\n",
    "        visited[currVertex] = True\n",
    "        print currVertex.id\n",
    "        for neighbours in currVertex.getConnections():\n",
    "            if neighbours not in visited:\n",
    "                self.dfs(G, neighbours, visited)"
   ]
  },
  {
   "cell_type": "code",
   "execution_count": 24,
   "metadata": {
    "collapsed": false,
    "deletable": true,
    "editable": true
   },
   "outputs": [
    {
     "data": {
      "text/plain": [
       "<__main__.Vertex instance at 0x7f65e81a5cb0>"
      ]
     },
     "execution_count": 24,
     "metadata": {},
     "output_type": "execute_result"
    }
   ],
   "source": [
    "G = Graph()\n",
    "G.addVertex('a')\n",
    "G.addVertex('b')\n",
    "G.addVertex('c')\n",
    "G.addVertex('d')\n",
    "G.addVertex('e')"
   ]
  },
  {
   "cell_type": "code",
   "execution_count": 25,
   "metadata": {
    "collapsed": false,
    "deletable": true,
    "editable": true
   },
   "outputs": [
    {
     "data": {
      "text/plain": [
       "<__main__.Vertex instance at 0x7f65e827d8c0>"
      ]
     },
     "execution_count": 25,
     "metadata": {},
     "output_type": "execute_result"
    }
   ],
   "source": [
    "G.getVertex('a')"
   ]
  },
  {
   "cell_type": "code",
   "execution_count": 26,
   "metadata": {
    "collapsed": true,
    "deletable": true,
    "editable": true
   },
   "outputs": [],
   "source": [
    "G.addEdge('a','b',2)\n",
    "G.addEdge('a','c',2)\n",
    "G.addEdge('c','b',2)\n",
    "G.addEdge('b','e',4)\n",
    "G.addEdge('d','e',2)\n"
   ]
  },
  {
   "cell_type": "code",
   "execution_count": 27,
   "metadata": {
    "collapsed": false,
    "deletable": true,
    "editable": true
   },
   "outputs": [
    {
     "name": "stdout",
     "output_type": "stream",
     "text": [
      "Vertex a has connections [<__main__.Vertex instance at 0x7f65e825f200>, <__main__.Vertex instance at 0x7f65e825f098>]\n",
      "Vertex c has connections [<__main__.Vertex instance at 0x7f65e825f200>, <__main__.Vertex instance at 0x7f65e827d8c0>]\n",
      "Vertex b has connections [<__main__.Vertex instance at 0x7f65e825f098>, <__main__.Vertex instance at 0x7f65e81a5cb0>, <__main__.Vertex instance at 0x7f65e827d8c0>]\n",
      "Vertex e has connections [<__main__.Vertex instance at 0x7f65e825f200>, <__main__.Vertex instance at 0x7f65e82467a0>]\n",
      "Vertex d has connections [<__main__.Vertex instance at 0x7f65e81a5cb0>]\n"
     ]
    }
   ],
   "source": [
    "G.getEdges()"
   ]
  },
  {
   "cell_type": "code",
   "execution_count": 28,
   "metadata": {
    "collapsed": false,
    "deletable": true,
    "editable": true
   },
   "outputs": [
    {
     "data": {
      "text/plain": [
       "['a', 'c', 'b', 'e', 'd']"
      ]
     },
     "execution_count": 28,
     "metadata": {},
     "output_type": "execute_result"
    }
   ],
   "source": [
    "G.vertDictionary.keys()"
   ]
  },
  {
   "cell_type": "code",
   "execution_count": 29,
   "metadata": {
    "collapsed": false,
    "deletable": true,
    "editable": true
   },
   "outputs": [],
   "source": [
    "vertices = G.vertDictionary.values()"
   ]
  },
  {
   "cell_type": "code",
   "execution_count": 30,
   "metadata": {
    "collapsed": false
   },
   "outputs": [
    {
     "name": "stdout",
     "output_type": "stream",
     "text": [
      "a\n",
      "b\n",
      "c\n",
      "e\n",
      "d\n"
     ]
    }
   ],
   "source": [
    "G.DFSTraversal(vertices)"
   ]
  },
  {
   "cell_type": "code",
   "execution_count": null,
   "metadata": {
    "collapsed": true
   },
   "outputs": [],
   "source": []
  }
 ],
 "metadata": {
  "kernelspec": {
   "display_name": "Python 2",
   "language": "python",
   "name": "python2"
  },
  "language_info": {
   "codemirror_mode": {
    "name": "ipython",
    "version": 2
   },
   "file_extension": ".py",
   "mimetype": "text/x-python",
   "name": "python",
   "nbconvert_exporter": "python",
   "pygments_lexer": "ipython2",
   "version": "2.7.12"
  }
 },
 "nbformat": 4,
 "nbformat_minor": 2
}
