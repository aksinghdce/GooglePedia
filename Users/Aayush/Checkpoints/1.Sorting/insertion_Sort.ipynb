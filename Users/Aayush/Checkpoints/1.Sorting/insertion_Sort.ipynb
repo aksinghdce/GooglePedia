{
 "cells": [
  {
   "cell_type": "code",
   "execution_count": null,
   "metadata": {
    "collapsed": true
   },
   "outputs": [],
   "source": [
    "Insertion Sort to sort an array of integers."
   ]
  },
  {
   "cell_type": "code",
   "execution_count": 7,
   "metadata": {
    "collapsed": false
   },
   "outputs": [],
   "source": [
    "def insertionSort(A):\n",
    "    for x in range(1,len(A)):\n",
    "        # import pdb;pdb.set_trace()\n",
    "        hole = x\n",
    "        item = A[hole]\n",
    "        value = hole-1\n",
    "        while(value >= 0):\n",
    "            if(A[value] > item):\n",
    "                A[value + 1] = A[value]\n",
    "            else:\n",
    "                A[value + 1] = item\n",
    "                break\n",
    "            if(value == 0):\n",
    "                A[value]=item\n",
    "                break\n",
    "            else:\n",
    "                value -= 1\n",
    "    return A"
   ]
  },
  {
   "cell_type": "markdown",
   "metadata": {},
   "source": [
    "Basically all we have done is taken three variables:\n",
    "\n",
    "hole\n",
    "value\n",
    "item - which hold the value(hole)"
   ]
  },
  {
   "cell_type": "code",
   "execution_count": 8,
   "metadata": {
    "collapsed": false
   },
   "outputs": [
    {
     "name": "stdout",
     "output_type": "stream",
     "text": [
      "[1, 3, 5, 11, 12, 16, 24, 32, 43, 98, 98, 234]\n"
     ]
    }
   ],
   "source": [
    "A= [3,24,5,32,98,1,234,43,98,12,11,16]\n",
    "sortedList = insertionSort(A)\n",
    "print sortedList"
   ]
  }
 ],
 "metadata": {
  "kernelspec": {
   "display_name": "Python 2",
   "language": "python",
   "name": "python2"
  },
  "language_info": {
   "codemirror_mode": {
    "name": "ipython",
    "version": 2
   },
   "file_extension": ".py",
   "mimetype": "text/x-python",
   "name": "python",
   "nbconvert_exporter": "python",
   "pygments_lexer": "ipython2",
   "version": "2.7.12"
  }
 },
 "nbformat": 4,
 "nbformat_minor": 2
}
