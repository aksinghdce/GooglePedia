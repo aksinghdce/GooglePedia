{
 "cells": [
  {
   "cell_type": "markdown",
   "metadata": {
    "collapsed": true,
    "deletable": true,
    "editable": true
   },
   "source": [
    "#    Selection Sort :\n",
    "\n",
    "##  https://www.youtube.com/watch?v=GUDLRan2DWM\n",
    "        "
   ]
  },
  {
   "cell_type": "markdown",
   "metadata": {},
   "source": [
    "Selection Sort algorithm goes like this :\n",
    "    1. iterate over the list\n",
    "    2. Find the smallest value\n",
    "    3. Put it at the first index\n",
    "    4. Repeat it for n-2 steps"
   ]
  },
  {
   "cell_type": "code",
   "execution_count": 12,
   "metadata": {
    "collapsed": true
   },
   "outputs": [],
   "source": [
    "# Let's write the logic for Selection Sort\n",
    "def selectionSort(A):\n",
    "    n = len(A)\n",
    "    for x in range(0,(n-1)):\n",
    "#         import pdb;pdb.set_trace()\n",
    "#         Assuming the minimum element in the List is at index (x)\n",
    "        minIndex = x\n",
    "        minElement = A[x]\n",
    "        for y in range(x+1,n):\n",
    "            if(A[y] < A[minIndex]):\n",
    "                minIndex = y\n",
    "                minElement  = A[y]\n",
    "#         Replace A[x] and A[minIndex]\n",
    "        temp = A[x]\n",
    "        A[x] = A[minIndex]\n",
    "        A[minIndex] = temp\n",
    "    return A\n",
    "        "
   ]
  },
  {
   "cell_type": "code",
   "execution_count": 13,
   "metadata": {
    "collapsed": false
   },
   "outputs": [
    {
     "name": "stdout",
     "output_type": "stream",
     "text": [
      "[1, 2, 3, 4, 5]\n"
     ]
    }
   ],
   "source": [
    "# Let's check our function with a input\n",
    "\n",
    "A = [5,4,1,2,3]\n",
    "out = selectionSort(A)\n",
    "print out"
   ]
  },
  {
   "cell_type": "markdown",
   "metadata": {},
   "source": [
    "Asymptotic analysis :\n",
    "\n",
    "Time Complexity = O(n^2)\n",
    "Space Complexity = O(n)\n",
    "\n",
    "In-Place algorithm\n",
    "Slow algorithm"
   ]
  },
  {
   "cell_type": "code",
   "execution_count": null,
   "metadata": {
    "collapsed": true
   },
   "outputs": [],
   "source": []
  }
 ],
 "metadata": {
  "kernelspec": {
   "display_name": "Python 2",
   "language": "python",
   "name": "python2"
  },
  "language_info": {
   "codemirror_mode": {
    "name": "ipython",
    "version": 2
   },
   "file_extension": ".py",
   "mimetype": "text/x-python",
   "name": "python",
   "nbconvert_exporter": "python",
   "pygments_lexer": "ipython2",
   "version": "2.7.12"
  }
 },
 "nbformat": 4,
 "nbformat_minor": 2
}
