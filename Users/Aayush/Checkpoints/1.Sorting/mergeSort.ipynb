{
 "cells": [
  {
   "cell_type": "code",
   "execution_count": 27,
   "metadata": {
    "collapsed": false,
    "deletable": true,
    "editable": true
   },
   "outputs": [],
   "source": [
    "def mergeSplit(A, low, high):\n",
    "    mid = (low + high)/2\n",
    "    \n",
    "    if(high == 1):\n",
    "        return\n",
    "    lA = A[low:mid]\n",
    "    rA = A[mid:high]\n",
    "    \n",
    "    mergeSplit(lA , 0 , len(lA))\n",
    "    mergeSplit(rA , 0 , len(rA))\n",
    "    merge( A , lA , rA)\n",
    "      \n",
    "\n",
    "        "
   ]
  },
  {
   "cell_type": "code",
   "execution_count": 28,
   "metadata": {
    "collapsed": true
   },
   "outputs": [],
   "source": [
    "def merge(A , lA , rA):\n",
    "    i=j=k = 0\n",
    "    lAlen = len(lA)\n",
    "    rAlen = len(rA)\n",
    "    while(i < lAlen and j < rAlen):\n",
    "        if((lA[i] > rA[j])):\n",
    "            A[k] = rA[j]\n",
    "            j = j+1\n",
    "        else:\n",
    "            A[k] = lA[i]\n",
    "            i += 1\n",
    "        k += 1\n",
    "        \n",
    "#     if lA is empty\n",
    "    while(j < rAlen):\n",
    "        for x in range(j,rAlen):\n",
    "            A[k] = rA[x]\n",
    "            k += 1\n",
    "            j += 1\n",
    "        \n",
    "    while(i < lAlen):\n",
    "        for x in range(i,lAlen):\n",
    "            A[k] = lA[x]\n",
    "            k += 1\n",
    "            i += 1\n",
    "        "
   ]
  },
  {
   "cell_type": "code",
   "execution_count": 31,
   "metadata": {
    "collapsed": false
   },
   "outputs": [],
   "source": [
    "A = [4,3,1,2,23,15,109,32,-1]\n",
    "mergeSplit(A, 0 , len(A))"
   ]
  },
  {
   "cell_type": "code",
   "execution_count": 32,
   "metadata": {
    "collapsed": false
   },
   "outputs": [
    {
     "data": {
      "text/plain": [
       "[-1, 1, 2, 3, 4, 15, 23, 32, 109]"
      ]
     },
     "execution_count": 32,
     "metadata": {},
     "output_type": "execute_result"
    }
   ],
   "source": [
    "A\n"
   ]
  },
  {
   "cell_type": "code",
   "execution_count": 38,
   "metadata": {
    "collapsed": false
   },
   "outputs": [],
   "source": [
    "import pytest\n",
    "def testMergeSort():\n",
    "    A = [4,3,1,2,23,15,109,32,-1]\n",
    "    mergeSplit(A, 0 , len(A))\n",
    "    assert A == [-1, 1, 2, 3, 4, 15, 23, 32, 109]"
   ]
  },
  {
   "cell_type": "code",
   "execution_count": 39,
   "metadata": {
    "collapsed": false
   },
   "outputs": [],
   "source": [
    "testMergeSort()"
   ]
  },
  {
   "cell_type": "code",
   "execution_count": null,
   "metadata": {
    "collapsed": true
   },
   "outputs": [],
   "source": []
  }
 ],
 "metadata": {
  "kernelspec": {
   "display_name": "Python 2",
   "language": "python",
   "name": "python2"
  },
  "language_info": {
   "codemirror_mode": {
    "name": "ipython",
    "version": 2
   },
   "file_extension": ".py",
   "mimetype": "text/x-python",
   "name": "python",
   "nbconvert_exporter": "python",
   "pygments_lexer": "ipython2",
   "version": "2.7.12"
  }
 },
 "nbformat": 4,
 "nbformat_minor": 2
}
