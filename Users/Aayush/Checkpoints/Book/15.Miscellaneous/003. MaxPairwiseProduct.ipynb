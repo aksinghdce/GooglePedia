{
 "cells": [
  {
   "cell_type": "markdown",
   "metadata": {
    "deletable": true,
    "editable": true
   },
   "source": [
    "Maximum Pairwise Product\n",
    "=======\n",
    "\n",
    "Problem\n",
    "-------\n",
    "\n",
    "Given a sequence of non-negative integers a0,…,an−1, find the maximum pairwise product, that is, the largest integer that can be obtained by multiplying two different elements from the sequence (or, more formally, max0≤i≠j≤n−1aiaj). Different elements here mean ai and aj with i≠j (it can be the case that ai=aj).\n",
    "\n",
    "Input format\n",
    "------------\n",
    "\n",
    "The first line of the input contains an integer n. The next line contains n non-negative integers a0,…,an−1 (separated by spaces).\n",
    "\n",
    "Constraints\n",
    "-----------\n",
    "\n",
    "2≤n≤2⋅105; 0≤a0,…,an−1≤105.\n",
    "\n",
    "Output format\n",
    "-------------\n",
    "\n",
    "Output a single number — the maximum pairwise product."
   ]
  },
  {
   "cell_type": "markdown",
   "metadata": {
    "deletable": true,
    "editable": true
   },
   "source": [
    "## Pseudo Code\n",
    "\n",
    "<img src=\"../pseudoCode_MaxPairwiseproduct.jpg\">"
   ]
  },
  {
   "cell_type": "code",
   "execution_count": null,
   "metadata": {
    "collapsed": true,
    "deletable": true,
    "editable": true
   },
   "outputs": [],
   "source": []
  }
 ],
 "metadata": {
  "kernelspec": {
   "display_name": "Python 2",
   "language": "python",
   "name": "python2"
  },
  "language_info": {
   "codemirror_mode": {
    "name": "ipython",
    "version": 2
   },
   "file_extension": ".py",
   "mimetype": "text/x-python",
   "name": "python",
   "nbconvert_exporter": "python",
   "pygments_lexer": "ipython2",
   "version": "2.7.12"
  }
 },
 "nbformat": 4,
 "nbformat_minor": 2
}
