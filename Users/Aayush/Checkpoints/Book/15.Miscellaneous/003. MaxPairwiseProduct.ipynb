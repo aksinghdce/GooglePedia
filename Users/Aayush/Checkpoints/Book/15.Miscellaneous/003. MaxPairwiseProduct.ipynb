{
 "cells": [
  {
   "cell_type": "markdown",
   "metadata": {
    "deletable": true,
    "editable": true
   },
   "source": [
    "Maximum Pairwise Product\n",
    "=======\n",
    "\n",
    "Problem\n",
    "-------\n",
    "\n",
    "Given a sequence of non-negative integers a0,…,an−1, find the maximum pairwise product, that is, the largest integer that can be obtained by multiplying two different elements from the sequence (or, more formally, max0≤i≠j≤n−1aiaj). Different elements here mean ai and aj with i≠j (it can be the case that ai=aj).\n",
    "\n",
    "Input format\n",
    "------------\n",
    "\n",
    "The first line of the input contains an integer n. The next line contains n non-negative integers a0,…,an−1 (separated by spaces).\n",
    "\n",
    "Constraints\n",
    "-----------\n",
    "\n",
    "2≤n≤2⋅105; 0≤a0,…,an−1≤105.\n",
    "\n",
    "Output format\n",
    "-------------\n",
    "\n",
    "Output a single number — the maximum pairwise product."
   ]
  },
  {
   "cell_type": "markdown",
   "metadata": {
    "deletable": true,
    "editable": true
   },
   "source": [
    "## Pseudo Code\n",
    "\n",
    "<img src=\"../Images/PseudoCode_MaxPairproduct.jpg\">"
   ]
  },
  {
   "cell_type": "code",
   "execution_count": 14,
   "metadata": {
    "collapsed": true,
    "deletable": true,
    "editable": true
   },
   "outputs": [],
   "source": [
    "# Implementation In Python\n",
    "\n",
    "def maxPairwiseProduct(lst):\n",
    "    prod = 0\n",
    "    for i in range(0,(len(lst)-1)):\n",
    "        for j in range(i+1,len(lst)):            \n",
    "            res = lst[i]*lst[j]\n",
    "            if(res > prod):\n",
    "                prod = res\n",
    "    print prod"
   ]
  },
  {
   "cell_type": "code",
   "execution_count": 15,
   "metadata": {
    "collapsed": false
   },
   "outputs": [
    {
     "name": "stdout",
     "output_type": "stream",
     "text": [
      "30\n"
     ]
    }
   ],
   "source": [
    "lst = [1,6,2,3,4,5]\n",
    "maxPairwiseProduct(lst)"
   ]
  },
  {
   "cell_type": "markdown",
   "metadata": {},
   "source": [
    "## Asymptotic Analysis\n",
    "\n",
    "- Time Complexity = O(n^2)\n",
    "- Space Complexity = O(n^2)"
   ]
  },
  {
   "cell_type": "markdown",
   "metadata": {},
   "source": [
    "## Things to ponder ?\n",
    "\n",
    "Is there a better way to solve it ?\n",
    "\n",
    "Ans - YES"
   ]
  },
  {
   "cell_type": "code",
   "execution_count": null,
   "metadata": {
    "collapsed": true
   },
   "outputs": [],
   "source": []
  }
 ],
 "metadata": {
  "kernelspec": {
   "display_name": "Python 2",
   "language": "python",
   "name": "python2"
  },
  "language_info": {
   "codemirror_mode": {
    "name": "ipython",
    "version": 2
   },
   "file_extension": ".py",
   "mimetype": "text/x-python",
   "name": "python",
   "nbconvert_exporter": "python",
   "pygments_lexer": "ipython2",
   "version": "2.7.12"
  }
 },
 "nbformat": 4,
 "nbformat_minor": 2
}
