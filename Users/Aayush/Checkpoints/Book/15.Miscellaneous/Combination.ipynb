{
 "cells": [
  {
   "cell_type": "markdown",
   "metadata": {},
   "source": [
    "Combination\n",
    "===========\n",
    "\n",
    "Problem\n",
    "-------\n",
    "\n",
    "A combination is a selection of all or part of a set of objects, without regard to the order in which objects are selected.\n",
    "\n",
    "For example, suppose we have a set of three letters: A, B, and C. We might ask how many ways we can select 2 letters from that set. Each possible selection would be an example of a combination. The complete list of possible selections would be: AB, AC, and BC.\n",
    "\n",
    "Pseudo Code\n",
    "-----------\n",
    "\n",
    "<img src=\"../Images/PseudoCode_Combinations.jpg\">\n",
    "\n",
    "\n"
   ]
  }
 ],
 "metadata": {
  "kernelspec": {
   "display_name": "Python 2",
   "language": "python",
   "name": "python2"
  },
  "language_info": {
   "codemirror_mode": {
    "name": "ipython",
    "version": 2
   },
   "file_extension": ".py",
   "mimetype": "text/x-python",
   "name": "python",
   "nbconvert_exporter": "python",
   "pygments_lexer": "ipython2",
   "version": "2.7.12"
  }
 },
 "nbformat": 4,
 "nbformat_minor": 2
}
