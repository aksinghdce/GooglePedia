{
 "cells": [
  {
   "cell_type": "markdown",
   "metadata": {},
   "source": [
    "Combination\n",
    "===========\n",
    "\n",
    "Problem\n",
    "-------\n",
    "\n",
    "A combination is a selection of all or part of a set of objects, without regard to the order in which objects are selected.\n",
    "\n",
    "For example, suppose we have a set of three letters: A, B, and C. We might ask how many ways we can select 2 letters from that set. Each possible selection would be an example of a combination. The complete list of possible selections would be: AB, AC, and BC.\n",
    "\n",
    "Pseudo Code\n",
    "-----------\n",
    "\n",
    "<img src=\"../Images/PseudoCode_Combinations.jpg\">\n",
    "\n",
    "Implementation In Python\n",
    "------------------------"
   ]
  },
  {
   "cell_type": "code",
   "execution_count": 4,
   "metadata": {
    "collapsed": false
   },
   "outputs": [
    {
     "name": "stdout",
     "output_type": "stream",
     "text": [
      "[[1, 2], [1, 3], [1, 4], [2, 3], [2, 4], [3, 4]]\n"
     ]
    }
   ],
   "source": [
    "def combination(lst):\n",
    "    outList = []\n",
    "    for i in range(0,(len(lst)-1)):\n",
    "        for j in range(i+1, len(lst)):\n",
    "            subList = []\n",
    "            subList.append(lst[i])\n",
    "            subList.append(lst[j])\n",
    "            outList.append(subList)\n",
    "    return outList\n",
    "\n",
    "lst = [1,2,3,4]\n",
    "print combination(lst)"
   ]
  },
  {
   "cell_type": "markdown",
   "metadata": {},
   "source": [
    "## Asymptotic Analysis Of the Code\n",
    "\n",
    "- Time Complexity as seen in the pseudo code = O(n^2)\n",
    "- Space Complexity as seen in the Pseudo code = O(N^2)"
   ]
  },
  {
   "cell_type": "markdown",
   "metadata": {},
   "source": [
    "## Things to Ponder\n",
    "\n",
    "Is there a more optimised way to code it ?"
   ]
  },
  {
   "cell_type": "code",
   "execution_count": null,
   "metadata": {
    "collapsed": true
   },
   "outputs": [],
   "source": []
  }
 ],
 "metadata": {
  "kernelspec": {
   "display_name": "Python 2",
   "language": "python",
   "name": "python2"
  },
  "language_info": {
   "codemirror_mode": {
    "name": "ipython",
    "version": 2
   },
   "file_extension": ".py",
   "mimetype": "text/x-python",
   "name": "python",
   "nbconvert_exporter": "python",
   "pygments_lexer": "ipython2",
   "version": "2.7.12"
  }
 },
 "nbformat": 4,
 "nbformat_minor": 2
}
