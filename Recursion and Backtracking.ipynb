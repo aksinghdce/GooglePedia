{
 "cells": [
  {
   "cell_type": "markdown",
   "metadata": {},
   "source": [
    "# Pragmatic guide for Google preparation"
   ]
  },
  {
   "cell_type": "markdown",
   "metadata": {},
   "source": [
    "# Index:"
   ]
  },
  {
   "cell_type": "markdown",
   "metadata": {},
   "source": [
    "## Recursion and Backtracking"
   ]
  },
  {
   "cell_type": "markdown",
   "metadata": {},
   "source": [
    "1. Recursion and Backtracking\n",
    "    a. Generally loops are turned into recursive functions when they are compiled or interpreted."
   ]
  },
  {
   "cell_type": "markdown",
   "metadata": {},
   "source": [
    "```\n",
    "if(test for base case)\n",
    "    return some base case value\n",
    "else if(test for another base case)\n",
    "    return some other base case value\n",
    "// the recursive case\n",
    "else\n",
    "    return (some work and then a recursive call)\n",
    "```"
   ]
  },
  {
   "cell_type": "markdown",
   "metadata": {},
   "source": [
    "### Problem 1: Factorial"
   ]
  },
  {
   "cell_type": "code",
   "execution_count": 4,
   "metadata": {
    "collapsed": false
   },
   "outputs": [
    {
     "data": {
      "text/plain": [
       "120"
      ]
     },
     "execution_count": 4,
     "metadata": {},
     "output_type": "execute_result"
    }
   ],
   "source": [
    "# Factorial\n",
    "def factorial(n):\n",
    "    if n == 0:\n",
    "        return 1\n",
    "    else:\n",
    "        return n * factorial(n-1)\n",
    "\n",
    "factorial(5)"
   ]
  },
  {
   "cell_type": "markdown",
   "metadata": {},
   "source": [
    "**Disadvantage of recursion is the excessive use of the stack memory**\n",
    "\n",
    "*generally iterative solutuions are more efficient because of overhead of function calls in recursive solutions*"
   ]
  },
  {
   "cell_type": "markdown",
   "metadata": {},
   "source": [
    "**Advantage of recursion is the ease of formulation of the problem**"
   ]
  },
  {
   "cell_type": "markdown",
   "metadata": {},
   "source": [
    "### Problem 2: Tower of Hanoi"
   ]
  },
  {
   "cell_type": "markdown",
   "metadata": {},
   "source": [
    "Watch this video to keep it in your associative memory:"
   ]
  },
  {
   "cell_type": "markdown",
   "metadata": {},
   "source": [
    "<a href=\"https://www.youtube.com/watch?v=rVPuzFYlfYE\">video</a>"
   ]
  },
  {
   "cell_type": "code",
   "execution_count": 10,
   "metadata": {
    "collapsed": false
   },
   "outputs": [
    {
     "name": "stdout",
     "output_type": "stream",
     "text": [
      "moved A to C\n",
      "moved A to B\n",
      "moved C to B\n"
     ]
    }
   ],
   "source": [
    "# tower of Henoi\n",
    "def toh(n, from_, to_, aux_):\n",
    "    if n == 1:\n",
    "        print(\"moved \" + from_ + \" to \" + to_ )\n",
    "    else:\n",
    "        toh(n-1, from_, aux_, to_)\n",
    "        toh(1, from_, to_, aux_)\n",
    "        toh(n-1, aux_, to_, from_)\n",
    "    \n",
    "a = \"A\"\n",
    "b = \"B\"\n",
    "c = \"C\"\n",
    "\n",
    "toh(2, a, b, c)"
   ]
  },
  {
   "cell_type": "code",
   "execution_count": 11,
   "metadata": {
    "collapsed": false
   },
   "outputs": [
    {
     "name": "stdout",
     "output_type": "stream",
     "text": [
      "moved A to B\n",
      "moved A to C\n",
      "moved B to C\n",
      "moved A to B\n",
      "moved C to A\n",
      "moved C to B\n",
      "moved A to B\n"
     ]
    }
   ],
   "source": [
    "toh(3,a,b,c)"
   ]
  },
  {
   "cell_type": "markdown",
   "metadata": {},
   "source": [
    "### Problem 3: Given an array, check whether the array is sorted using recursion"
   ]
  },
  {
   "cell_type": "code",
   "execution_count": 15,
   "metadata": {
    "collapsed": false
   },
   "outputs": [
    {
     "name": "stdout",
     "output_type": "stream",
     "text": [
      "True\n"
     ]
    }
   ],
   "source": [
    "def is_sorted(arr):\n",
    "    if(len(arr) <= 1):\n",
    "        return True\n",
    "    else:\n",
    "        return arr[0] <= arr[1] and is_sorted(arr[1:])\n",
    "\n",
    "print(is_sorted([0,1,2]))"
   ]
  },
  {
   "cell_type": "code",
   "execution_count": 16,
   "metadata": {
    "collapsed": false
   },
   "outputs": [
    {
     "name": "stdout",
     "output_type": "stream",
     "text": [
      "True\n"
     ]
    }
   ],
   "source": [
    "print(is_sorted([]))"
   ]
  },
  {
   "cell_type": "code",
   "execution_count": 19,
   "metadata": {
    "collapsed": false
   },
   "outputs": [
    {
     "name": "stdout",
     "output_type": "stream",
     "text": [
      "False\n"
     ]
    }
   ],
   "source": [
    "print(is_sorted([2,1]))"
   ]
  },
  {
   "cell_type": "markdown",
   "metadata": {},
   "source": [
    "## What is backtracking?"
   ]
  },
  {
   "cell_type": "markdown",
   "metadata": {},
   "source": [
    "Backtracking is a method of exhaustive search using divide and conquer."
   ]
  },
  {
   "cell_type": "markdown",
   "metadata": {},
   "source": [
    "### Generate all binary strings of n bit"
   ]
  },
  {
   "cell_type": "code",
   "execution_count": 33,
   "metadata": {
    "collapsed": true
   },
   "outputs": [],
   "source": [
    "def gen_bin_strings(n):\n",
    "    if n == 0:\n",
    "        return []\n",
    "    elif n == 1:\n",
    "        return ['0', '1']\n",
    "    else:\n",
    "        return [digit+bitstring for digit in gen_bin_strings(1) for bitstring in gen_bin_strings(n-1)]"
   ]
  },
  {
   "cell_type": "code",
   "execution_count": 36,
   "metadata": {
    "collapsed": false
   },
   "outputs": [
    {
     "data": {
      "text/plain": [
       "['00', '01', '10', '11']"
      ]
     },
     "execution_count": 36,
     "metadata": {},
     "output_type": "execute_result"
    }
   ],
   "source": [
    "gen_bin_strings(2)"
   ]
  },
  {
   "cell_type": "markdown",
   "metadata": {},
   "source": [
    "### Generate all permutations of a string of length n with symbols drawn from 0->k-1"
   ]
  },
  {
   "cell_type": "markdown",
   "metadata": {},
   "source": [
    "### Or, all n digits number with base k"
   ]
  },
  {
   "cell_type": "code",
   "execution_count": 3,
   "metadata": {
    "collapsed": false
   },
   "outputs": [
    {
     "data": {
      "text/plain": [
       "['0', '1', '2', '3', '4']"
      ]
     },
     "execution_count": 3,
     "metadata": {},
     "output_type": "execute_result"
    }
   ],
   "source": [
    "def rangeToList(k):\n",
    "    result = []\n",
    "    for i in range(0, k):\n",
    "        result.append(str(i))\n",
    "    return result\n",
    "\n",
    "rangeToList(5)"
   ]
  },
  {
   "cell_type": "code",
   "execution_count": 4,
   "metadata": {
    "collapsed": true
   },
   "outputs": [],
   "source": [
    "def baseKStrings(n, k):\n",
    "    if n == 0: return []\n",
    "    if n == 1:\n",
    "        return rangeToList(k)\n",
    "    return [curr+elem for curr in baseKStrings(1, k) for elem in baseKStrings(n-1, k)]"
   ]
  },
  {
   "cell_type": "code",
   "execution_count": 9,
   "metadata": {
    "collapsed": false
   },
   "outputs": [
    {
     "data": {
      "text/plain": [
       "['00',\n",
       " '01',\n",
       " '02',\n",
       " '03',\n",
       " '04',\n",
       " '10',\n",
       " '11',\n",
       " '12',\n",
       " '13',\n",
       " '14',\n",
       " '20',\n",
       " '21',\n",
       " '22',\n",
       " '23',\n",
       " '24',\n",
       " '30',\n",
       " '31',\n",
       " '32',\n",
       " '33',\n",
       " '34',\n",
       " '40',\n",
       " '41',\n",
       " '42',\n",
       " '43',\n",
       " '44']"
      ]
     },
     "execution_count": 9,
     "metadata": {},
     "output_type": "execute_result"
    }
   ],
   "source": [
    "baseKStrings(2, 5)"
   ]
  },
  {
   "cell_type": "markdown",
   "metadata": {},
   "source": [
    "### Find the length of connect cells of 1s (regions) in an matrix of 0s and 1s"
   ]
  },
  {
   "cell_type": "markdown",
   "metadata": {},
   "source": [
    "For instance, \n",
    "\n",
    "              11000\n",
    "\n",
    "              01100\n",
    "              \n",
    "              00101\n",
    "              \n",
    "              10001\n",
    "              \n",
    "              01011\n",
    "              \n",
    "should output 5. Because the top most left 1 connects with 5 1s"
   ]
  },
  {
   "cell_type": "code",
   "execution_count": 120,
   "metadata": {
    "collapsed": true
   },
   "outputs": [],
   "source": [
    "Arr = [\n",
    "    [1, 1, 0, 0, 0],\n",
    "    [0, 1, 1, 0, 0],\n",
    "    [0, 0, 1, 0, 1],\n",
    "    [1, 0, 0, 0, 1],\n",
    "    [0, 1, 0, 1, 1]\n",
    "]"
   ]
  },
  {
   "cell_type": "code",
   "execution_count": 121,
   "metadata": {
    "collapsed": false
   },
   "outputs": [],
   "source": [
    "def getElement(matrix, i=0, j=0):\n",
    "    height = len(matrix)\n",
    "    width = len(matrix[0])\n",
    "    if(i<0 or i>height-1): return -1\n",
    "    if(j<0 or j>width-1): return -1\n",
    "    return matrix[i][j]"
   ]
  },
  {
   "cell_type": "code",
   "execution_count": 122,
   "metadata": {
    "collapsed": false
   },
   "outputs": [],
   "source": [
    "directions = [[-1, -1], [0, -1], [1, -1], [-1, 0], [1, 0], [-1, 1], [0, 1], [1, 1]]\n",
    "def getCountForCell(matrix, i=0, j=0, val=1):\n",
    "    getMaxConnectedCell.maxVal = 0\n",
    "    for x in range(0, 8):\n",
    "        next_row, next_col = i+directions[x][0], j+directions[x][1]\n",
    "        if (next_row != 0 or next_col != 0) and (getElement(Arr, next_row, next_col) == 1):\n",
    "            getMaxConnectedCell.maxVal += 1\n",
    "    return getMaxConnectedCell.maxVal"
   ]
  },
  {
   "cell_type": "code",
   "execution_count": 123,
   "metadata": {
    "collapsed": false
   },
   "outputs": [
    {
     "data": {
      "text/plain": [
       "2"
      ]
     },
     "execution_count": 123,
     "metadata": {},
     "output_type": "execute_result"
    }
   ],
   "source": [
    "getCountForCell(Arr)"
   ]
  },
  {
   "cell_type": "code",
   "execution_count": 250,
   "metadata": {
    "collapsed": true
   },
   "outputs": [],
   "source": [
    "directions = [[-1, -1], [0, -1], [1, -1], [-1, 0], [1, 0], [-1, 1], [0, 1], [1, 1]]\n",
    "def getConnectedCountForCell(matrix):\n",
    "    L_ROW, L_COL = len(matrix), len(matrix[0])\n",
    "    visited = set()\n",
    "    count = {}\n",
    "    import pdb; pdb.set_trace()\n",
    "    for row in range(0, L_ROW):\n",
    "        for col in range(0, L_COL):\n",
    "            count.update({(row, col) : 0})\n",
    "            if (row, col) in visited:\n",
    "                break\n",
    "            stack = []\n",
    "            if getElement(matrix, row, col) == 1:\n",
    "                count[(row, col)] += 1\n",
    "                stack.append((row, col))\n",
    "                while stack:\n",
    "                    # element popped is the cell whose neighbours are being seen\n",
    "                    popped = stack.pop()\n",
    "                    this_row, this_col = popped\n",
    "                    # this is a new cell and it's value is one: count must increase\n",
    "                    if (this_row, this_col) not in visited and (getElement(matrix, this_row, this_col) == 1):\n",
    "                        visited.add((this_row, this_col))\n",
    "                        # look at all it's neighbours and stack them if they are unvisited and 1\n",
    "                        for x in range(0, 8):\n",
    "                            row_, col_ = row+directions[x][0], row+directions[x][1]\n",
    "                            if getElement(matrix, row_, col_) == 1 and (row_, col_) not in visited:\n",
    "                                stack.append((row_, col_))\n",
    "                                count[(row, col)] += 1\n",
    "    print(\"row:\" + str(row) + \", col:\" + str(col) + \": count:\" + str(count))            "
   ]
  },
  {
   "cell_type": "code",
   "execution_count": null,
   "metadata": {
    "collapsed": false
   },
   "outputs": [
    {
     "name": "stdout",
     "output_type": "stream",
     "text": [
      "> <ipython-input-250-22a86e0e8587>(7)getConnectedCountForCell()\n",
      "-> for row in range(0, L_ROW):\n",
      "(Pdb) n\n",
      "> <ipython-input-250-22a86e0e8587>(8)getConnectedCountForCell()\n",
      "-> for col in range(0, L_COL):\n",
      "(Pdb) \n",
      "> <ipython-input-250-22a86e0e8587>(9)getConnectedCountForCell()\n",
      "-> count.update({(row, col) : 0})\n",
      "(Pdb) p row\n",
      "0\n",
      "(Pdb) p col\n",
      "0\n",
      "(Pdb) n\n",
      "> <ipython-input-250-22a86e0e8587>(10)getConnectedCountForCell()\n",
      "-> if (row, col) in visited:\n",
      "(Pdb) p visited\n",
      "set([])\n",
      "(Pdb) n\n",
      "> <ipython-input-250-22a86e0e8587>(12)getConnectedCountForCell()\n",
      "-> stack = []\n",
      "(Pdb) \n",
      "> <ipython-input-250-22a86e0e8587>(13)getConnectedCountForCell()\n",
      "-> if getElement(matrix, row, col) == 1:\n",
      "(Pdb) \n",
      "> <ipython-input-250-22a86e0e8587>(14)getConnectedCountForCell()\n",
      "-> count[(row, col)] += 1\n",
      "(Pdb) p row\n",
      "0\n",
      "(Pdb) p col\n",
      "0\n",
      "(Pdb) n\n",
      "> <ipython-input-250-22a86e0e8587>(15)getConnectedCountForCell()\n",
      "-> stack.append((row, col))\n",
      "(Pdb) p count\n",
      "{(0, 0): 1}\n",
      "(Pdb) n\n",
      "> <ipython-input-250-22a86e0e8587>(16)getConnectedCountForCell()\n",
      "-> while stack:\n",
      "(Pdb) \n",
      "> <ipython-input-250-22a86e0e8587>(18)getConnectedCountForCell()\n",
      "-> popped = stack.pop()\n",
      "(Pdb) \n",
      "> <ipython-input-250-22a86e0e8587>(19)getConnectedCountForCell()\n",
      "-> this_row, this_col = popped\n",
      "(Pdb) p popped\n",
      "(0, 0)\n",
      "(Pdb) n\n",
      "> <ipython-input-250-22a86e0e8587>(21)getConnectedCountForCell()\n",
      "-> if (this_row, this_col) not in visited and (getElement(matrix, this_row, this_col) == 1):\n",
      "(Pdb) visited\n",
      "set([])\n",
      "(Pdb) n\n",
      "> <ipython-input-250-22a86e0e8587>(22)getConnectedCountForCell()\n",
      "-> visited.add((this_row, this_col))\n",
      "(Pdb) \n",
      "> <ipython-input-250-22a86e0e8587>(24)getConnectedCountForCell()\n",
      "-> for x in range(0, 8):\n",
      "(Pdb) visited\n",
      "set([(0, 0)])\n",
      "(Pdb) n\n",
      "> <ipython-input-250-22a86e0e8587>(25)getConnectedCountForCell()\n",
      "-> row_, col_ = row+directions[x][0], row+directions[x][1]\n",
      "(Pdb) \n",
      "> <ipython-input-250-22a86e0e8587>(26)getConnectedCountForCell()\n",
      "-> if getElement(matrix, row_, col_) == 1 and (row_, col_) not in visited:\n",
      "(Pdb) row_\n",
      "-1\n",
      "(Pdb) col_\n",
      "-1\n",
      "(Pdb) n\n",
      "> <ipython-input-250-22a86e0e8587>(24)getConnectedCountForCell()\n",
      "-> for x in range(0, 8):\n",
      "(Pdb) \n",
      "> <ipython-input-250-22a86e0e8587>(25)getConnectedCountForCell()\n",
      "-> row_, col_ = row+directions[x][0], row+directions[x][1]\n",
      "(Pdb) \n",
      "> <ipython-input-250-22a86e0e8587>(26)getConnectedCountForCell()\n",
      "-> if getElement(matrix, row_, col_) == 1 and (row_, col_) not in visited:\n",
      "(Pdb) row_, col_\n",
      "(0, -1)\n",
      "(Pdb) n\n",
      "> <ipython-input-250-22a86e0e8587>(24)getConnectedCountForCell()\n",
      "-> for x in range(0, 8):\n",
      "(Pdb) n\n",
      "> <ipython-input-250-22a86e0e8587>(25)getConnectedCountForCell()\n",
      "-> row_, col_ = row+directions[x][0], row+directions[x][1]\n",
      "(Pdb) row_, col_\n",
      "(0, -1)\n",
      "(Pdb) n\n",
      "> <ipython-input-250-22a86e0e8587>(26)getConnectedCountForCell()\n",
      "-> if getElement(matrix, row_, col_) == 1 and (row_, col_) not in visited:\n",
      "(Pdb) \n",
      "> <ipython-input-250-22a86e0e8587>(24)getConnectedCountForCell()\n",
      "-> for x in range(0, 8):\n",
      "(Pdb) \n",
      "> <ipython-input-250-22a86e0e8587>(25)getConnectedCountForCell()\n",
      "-> row_, col_ = row+directions[x][0], row+directions[x][1]\n",
      "(Pdb) \n",
      "> <ipython-input-250-22a86e0e8587>(26)getConnectedCountForCell()\n",
      "-> if getElement(matrix, row_, col_) == 1 and (row_, col_) not in visited:\n",
      "(Pdb) row_, col_\n",
      "(-1, 0)\n",
      "(Pdb) n\n",
      "> <ipython-input-250-22a86e0e8587>(24)getConnectedCountForCell()\n",
      "-> for x in range(0, 8):\n",
      "(Pdb) \n",
      "> <ipython-input-250-22a86e0e8587>(25)getConnectedCountForCell()\n",
      "-> row_, col_ = row+directions[x][0], row+directions[x][1]\n",
      "(Pdb) \n",
      "> <ipython-input-250-22a86e0e8587>(26)getConnectedCountForCell()\n",
      "-> if getElement(matrix, row_, col_) == 1 and (row_, col_) not in visited:\n",
      "(Pdb) row_, col_\n",
      "(1, 0)\n",
      "(Pdb) n\n",
      "> <ipython-input-250-22a86e0e8587>(24)getConnectedCountForCell()\n",
      "-> for x in range(0, 8):\n",
      "(Pdb) \n",
      "> <ipython-input-250-22a86e0e8587>(25)getConnectedCountForCell()\n",
      "-> row_, col_ = row+directions[x][0], row+directions[x][1]\n",
      "(Pdb) count\n",
      "{(0, 0): 1}\n",
      "(Pdb) row_\n",
      "1\n",
      "(Pdb) col_\n",
      "0\n",
      "(Pdb) n\n",
      "> <ipython-input-250-22a86e0e8587>(26)getConnectedCountForCell()\n",
      "-> if getElement(matrix, row_, col_) == 1 and (row_, col_) not in visited:\n",
      "(Pdb) \n",
      "> <ipython-input-250-22a86e0e8587>(24)getConnectedCountForCell()\n",
      "-> for x in range(0, 8):\n",
      "(Pdb) count\n",
      "{(0, 0): 1}\n",
      "(Pdb) n\n",
      "> <ipython-input-250-22a86e0e8587>(25)getConnectedCountForCell()\n",
      "-> row_, col_ = row+directions[x][0], row+directions[x][1]\n",
      "(Pdb) \n",
      "> <ipython-input-250-22a86e0e8587>(26)getConnectedCountForCell()\n",
      "-> if getElement(matrix, row_, col_) == 1 and (row_, col_) not in visited:\n",
      "(Pdb) \n",
      "> <ipython-input-250-22a86e0e8587>(27)getConnectedCountForCell()\n",
      "-> stack.append((row_, col_))\n",
      "(Pdb) \n",
      "> <ipython-input-250-22a86e0e8587>(28)getConnectedCountForCell()\n",
      "-> count[(row, col)] += 1\n",
      "(Pdb) \n",
      "> <ipython-input-250-22a86e0e8587>(24)getConnectedCountForCell()\n",
      "-> for x in range(0, 8):\n",
      "(Pdb) count\n",
      "{(0, 0): 2}\n",
      "(Pdb) row_, col_\n",
      "(0, 1)\n",
      "(Pdb) n\n",
      "> <ipython-input-250-22a86e0e8587>(25)getConnectedCountForCell()\n",
      "-> row_, col_ = row+directions[x][0], row+directions[x][1]\n",
      "(Pdb) \n",
      "> <ipython-input-250-22a86e0e8587>(26)getConnectedCountForCell()\n",
      "-> if getElement(matrix, row_, col_) == 1 and (row_, col_) not in visited:\n",
      "(Pdb) row_, col_\n",
      "(1, 1)\n",
      "(Pdb) n\n",
      "> <ipython-input-250-22a86e0e8587>(27)getConnectedCountForCell()\n",
      "-> stack.append((row_, col_))\n",
      "(Pdb) \n",
      "> <ipython-input-250-22a86e0e8587>(28)getConnectedCountForCell()\n",
      "-> count[(row, col)] += 1\n",
      "(Pdb) \n",
      "> <ipython-input-250-22a86e0e8587>(24)getConnectedCountForCell()\n",
      "-> for x in range(0, 8):\n",
      "(Pdb) count\n",
      "{(0, 0): 3}\n",
      "(Pdb) n\n",
      "> <ipython-input-250-22a86e0e8587>(16)getConnectedCountForCell()\n",
      "-> while stack:\n",
      "(Pdb) \n",
      "> <ipython-input-250-22a86e0e8587>(18)getConnectedCountForCell()\n",
      "-> popped = stack.pop()\n",
      "(Pdb) \n",
      "> <ipython-input-250-22a86e0e8587>(19)getConnectedCountForCell()\n",
      "-> this_row, this_col = popped\n",
      "(Pdb) \n",
      "> <ipython-input-250-22a86e0e8587>(21)getConnectedCountForCell()\n",
      "-> if (this_row, this_col) not in visited and (getElement(matrix, this_row, this_col) == 1):\n"
     ]
    }
   ],
   "source": [
    "getConnectedCountForCell(Arr)"
   ]
  },
  {
   "cell_type": "code",
   "execution_count": 153,
   "metadata": {
    "collapsed": true
   },
   "outputs": [],
   "source": [
    "stack = [(1, 0)]"
   ]
  },
  {
   "cell_type": "code",
   "execution_count": 154,
   "metadata": {
    "collapsed": false
   },
   "outputs": [],
   "source": [
    "a, b = stack.pop()"
   ]
  },
  {
   "cell_type": "code",
   "execution_count": 155,
   "metadata": {
    "collapsed": false
   },
   "outputs": [
    {
     "data": {
      "text/plain": [
       "(1, 0)"
      ]
     },
     "execution_count": 155,
     "metadata": {},
     "output_type": "execute_result"
    }
   ],
   "source": [
    "a, b"
   ]
  },
  {
   "cell_type": "code",
   "execution_count": null,
   "metadata": {
    "collapsed": true
   },
   "outputs": [],
   "source": []
  }
 ],
 "metadata": {
  "kernelspec": {
   "display_name": "Python 2",
   "language": "python",
   "name": "python2"
  },
  "language_info": {
   "codemirror_mode": {
    "name": "ipython",
    "version": 2
   },
   "file_extension": ".py",
   "mimetype": "text/x-python",
   "name": "python",
   "nbconvert_exporter": "python",
   "pygments_lexer": "ipython2",
   "version": "2.7.12"
  }
 },
 "nbformat": 4,
 "nbformat_minor": 2
}
