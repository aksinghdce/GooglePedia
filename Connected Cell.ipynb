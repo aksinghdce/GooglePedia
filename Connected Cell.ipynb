{
 "cells": [
  {
   "cell_type": "markdown",
   "metadata": {},
   "source": [
    "<img src=\"IMAG0557.jpg\" />"
   ]
  },
  {
   "cell_type": "code",
   "execution_count": 1,
   "metadata": {
    "collapsed": true
   },
   "outputs": [],
   "source": [
    "Arr = [\n",
    "    [1, 1, 0, 0, 0],\n",
    "    [0, 1, 1, 1, 0],\n",
    "    [0, 0, 0, 1, 0],\n",
    "    [0, 0, 0, 0, 0]\n",
    "]"
   ]
  },
  {
   "cell_type": "code",
   "execution_count": 2,
   "metadata": {
    "collapsed": true
   },
   "outputs": [],
   "source": [
    "global_visited = set()"
   ]
  },
  {
   "cell_type": "code",
   "execution_count": 26,
   "metadata": {
    "collapsed": true
   },
   "outputs": [],
   "source": [
    "def getElement(matrix, row, col):\n",
    "    if row < 0 or (row > (len(matrix) - 1)) or col < 0 or (col > (len(matrix[0]) - 1)): return -1\n",
    "    return matrix[row][col]"
   ]
  },
  {
   "cell_type": "code",
   "execution_count": 27,
   "metadata": {
    "collapsed": false
   },
   "outputs": [
    {
     "data": {
      "text/plain": [
       "1"
      ]
     },
     "execution_count": 27,
     "metadata": {},
     "output_type": "execute_result"
    }
   ],
   "source": [
    "getElement(Arr, 2, 3)"
   ]
  },
  {
   "cell_type": "code",
   "execution_count": 29,
   "metadata": {
    "collapsed": false
   },
   "outputs": [
    {
     "name": "stdout",
     "output_type": "stream",
     "text": [
      "{(0, 1): 5, (1, 2): 0, (3, 2): 0, (0, 0): 0, (3, 1): 0, (3, 3): 0, (3, 0): 0, (2, 2): 0, (1, 1): 0, (1, 4): 0, (0, 2): 0, (2, 0): 0, (1, 3): 0, (2, 3): 0, (2, 1): 0, (0, 4): 0, (2, 4): 0, (1, 0): 0, (3, 4): 0, (0, 3): 0}\n"
     ]
    }
   ],
   "source": [
    "directions = ((-1, -1), (0, -1), (1, -1), (-1, 0), (1, 0), (-1, 1), (0, 1), (1, 1))\n",
    "count_map = {}\n",
    "for row in xrange(len(Arr)):\n",
    "    for col in xrange(len(Arr[0])):\n",
    "        stack = list()\n",
    "        stack.append((row, col))\n",
    "        count = 0\n",
    "        while len(stack)>0:\n",
    "            _row_, _col_ = stack.pop()\n",
    "            # Just add the cell to global_visited is it's 0 and continue with row, col loop\n",
    "            if getElement(Arr, _row_, _col_) == 0: global_visited.add((_row_, _col_))\n",
    "            elif (_row_, _col_) not in global_visited:\n",
    "                count += 1\n",
    "                global_visited.add((_row_, _col_))\n",
    "                for x in xrange(0, 8):\n",
    "                    __row__, __col__ = _row_ + directions[x][0], _col_ + directions[x][1]\n",
    "                    if getElement(Arr, __row__, __col__) == 1: \n",
    "                        stack.append((__row__, __col__))\n",
    "                    elif getElement(Arr, __row__, __col__) == 0:\n",
    "                        global_visited.add((__row__, __col__))\n",
    "        count_map.update({(row, col): count})\n",
    "print count_map"
   ]
  },
  {
   "cell_type": "code",
   "execution_count": 31,
   "metadata": {
    "collapsed": false
   },
   "outputs": [
    {
     "name": "stdout",
     "output_type": "stream",
     "text": [
      "5\n"
     ]
    }
   ],
   "source": [
    "max_ = 0\n",
    "for value in count_map.values():\n",
    "    max_ = max(value, max_)\n",
    "print max_"
   ]
  }
 ],
 "metadata": {
  "kernelspec": {
   "display_name": "Python 2",
   "language": "python",
   "name": "python2"
  },
  "language_info": {
   "codemirror_mode": {
    "name": "ipython",
    "version": 2
   },
   "file_extension": ".py",
   "mimetype": "text/x-python",
   "name": "python",
   "nbconvert_exporter": "python",
   "pygments_lexer": "ipython2",
   "version": "2.7.12"
  }
 },
 "nbformat": 4,
 "nbformat_minor": 2
}
