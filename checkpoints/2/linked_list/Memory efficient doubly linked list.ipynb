{
 "cells": [
  {
   "cell_type": "markdown",
   "metadata": {},
   "source": [
    "<front> XOR operation in Python? </front>"
   ]
  },
  {
   "cell_type": "markdown",
   "metadata": {},
   "source": [
    "<back> ^ is a bitwise xor operation in Python. For boolean xor operation, use (a and not b) or (not a and b)</back>"
   ]
  },
  {
   "cell_type": "code",
   "execution_count": 2,
   "metadata": {
    "collapsed": true
   },
   "outputs": [],
   "source": [
    "# class definition of a node of memory efficient doubly linked list"
   ]
  },
  {
   "cell_type": "code",
   "execution_count": 18,
   "metadata": {
    "collapsed": true
   },
   "outputs": [],
   "source": [
    "class NodeMEDLL(object):\n",
    "    def __init__(self, data_=None):\n",
    "        if data_:\n",
    "            self.data = data_\n",
    "            #prev_ and next_ are both None and ptrdiff = prev_ ^ next_\n",
    "            self.ptrdiff = None\n",
    "    def setData(self, data_):\n",
    "        self.data = data_    \n",
    "    def getData(self):\n",
    "        return self.data\n",
    "    def setPtrDiff(self, prev_, next_):\n",
    "        self.ptrdiff = (prev_ and not next_) or (not prev_ and next_)\n",
    "    def getPtrDiff(self):\n",
    "        return self.ptrdiff"
   ]
  },
  {
   "cell_type": "code",
   "execution_count": 19,
   "metadata": {
    "collapsed": false
   },
   "outputs": [],
   "source": [
    "medll = NodeMEDLL(1)"
   ]
  },
  {
   "cell_type": "markdown",
   "metadata": {},
   "source": [
    "# Object oriented concepts of Python\n",
    "\n",
    "Resources:\n",
    "\n",
    "1. https://learnpythonthehardway.org/book/ex40.html\n",
    "2. https://www.youtube.com/view_play_list?p=29B31797A997C41E"
   ]
  },
  {
   "cell_type": "markdown",
   "metadata": {},
   "source": [
    "<front>What is object in python? And how is object related to type?</front>"
   ]
  },
  {
   "cell_type": "markdown",
   "metadata": {},
   "source": [
    "<back>object is the ultimate ancestor of every class in python. Any new class defined in python would have object as it's parent by default. It can be specified explicitly. Object is also an object of type class as well as type is the child of object itself.</back>"
   ]
  },
  {
   "cell_type": "markdown",
   "metadata": {},
   "source": [
    "<a href=\"https://youtu.be/8fRfXenpU6M?list=PL29B31797A997C41E&t=555\"> <img src=\"./images/Python_object_type.png\"/> </a>"
   ]
  },
  {
   "cell_type": "code",
   "execution_count": 27,
   "metadata": {
    "collapsed": true
   },
   "outputs": [],
   "source": [
    "class LinkedListMEDLL(object):\n",
    "    def __init__(self, nodeMEDLL_=None):\n",
    "        #nodeMEDLL_ is an instance of NodeMEDLL\n",
    "        self.head = nodeMEDLL_\n",
    "    def insertBeg(self, nodeMEDLL_):\n",
    "        if self.head is None:\n",
    "            self.head = nodeMEDLL_\n",
    "            return\n",
    "        else:\n",
    "            #head_prev is going to point to new node nodeMEDLL_\n",
    "            head_prev = nodeMEDLL_\n",
    "            #nodeMEDLL_ next should be head\n",
    "            this_next = self.head\n",
    "            #nodeMEDLL_ prev should be None\n",
    "            this_prev = None\n",
    "            head_next = None\n",
    "            #update the head's ptrdiff\n",
    "            self.head.setPtrDiff(head_prev, head_next)\n",
    "            nodeMEDLL_.setPtrDiff(this_prev, this_next)\n",
    "            self.head = nodeMEDLL_\n",
    "    def insertEnd(self, nodeMEDLL_):\n",
    "        if self.head == None:\n",
    "            self.head = nodeMEDLL_\n",
    "            return\n",
    "        #curr is the first node in the list\n",
    "        curr = self.head\n",
    "        #first node of the list has prev_ None\n",
    "        prev_ = None\n",
    "        next_ = (self.head.getPtrDiff and not prev_) or (not self.head.getPtrDiff and prev_)\n",
    "        while next_ != None:\n",
    "            prev_ = curr\n",
    "            curr = next_\n",
    "            next_ = (curr.getPtrDiff and not prev_) or (not curr.getPtrDiff and prev_)\n",
    "        new_prev_ = curr\n",
    "        new_next_ = None\n",
    "        nodeMEDLL_.setPtrDiff(new_prev_, new_next_)"
   ]
  },
  {
   "cell_type": "code",
   "execution_count": 28,
   "metadata": {
    "collapsed": true
   },
   "outputs": [],
   "source": [
    "dll = LinkedListMEDLL(medll)"
   ]
  },
  {
   "cell_type": "code",
   "execution_count": 29,
   "metadata": {
    "collapsed": false
   },
   "outputs": [],
   "source": [
    "dll.insertBeg(NodeMEDLL(0))"
   ]
  },
  {
   "cell_type": "code",
   "execution_count": 30,
   "metadata": {
    "collapsed": false
   },
   "outputs": [
    {
     "ename": "AttributeError",
     "evalue": "'bool' object has no attribute 'getPtrDiff'",
     "output_type": "error",
     "traceback": [
      "\u001b[0;31m---------------------------------------------------------------------------\u001b[0m",
      "\u001b[0;31mAttributeError\u001b[0m                            Traceback (most recent call last)",
      "\u001b[0;32m<ipython-input-30-1d452452dbe5>\u001b[0m in \u001b[0;36m<module>\u001b[0;34m()\u001b[0m\n\u001b[0;32m----> 1\u001b[0;31m \u001b[0mdll\u001b[0m\u001b[0;34m.\u001b[0m\u001b[0minsertEnd\u001b[0m\u001b[0;34m(\u001b[0m\u001b[0mNodeMEDLL\u001b[0m\u001b[0;34m(\u001b[0m\u001b[0;36m2\u001b[0m\u001b[0;34m)\u001b[0m\u001b[0;34m)\u001b[0m\u001b[0;34m\u001b[0m\u001b[0m\n\u001b[0m",
      "\u001b[0;32m<ipython-input-27-1170e2d3364f>\u001b[0m in \u001b[0;36minsertEnd\u001b[0;34m(self, nodeMEDLL_)\u001b[0m\n\u001b[1;32m     31\u001b[0m             \u001b[0mprev_\u001b[0m \u001b[0;34m=\u001b[0m \u001b[0mcurr\u001b[0m\u001b[0;34m\u001b[0m\u001b[0m\n\u001b[1;32m     32\u001b[0m             \u001b[0mcurr\u001b[0m \u001b[0;34m=\u001b[0m \u001b[0mnext_\u001b[0m\u001b[0;34m\u001b[0m\u001b[0m\n\u001b[0;32m---> 33\u001b[0;31m             \u001b[0mnext_\u001b[0m \u001b[0;34m=\u001b[0m \u001b[0;34m(\u001b[0m\u001b[0mcurr\u001b[0m\u001b[0;34m.\u001b[0m\u001b[0mgetPtrDiff\u001b[0m \u001b[0;32mand\u001b[0m \u001b[0;32mnot\u001b[0m \u001b[0mprev_\u001b[0m\u001b[0;34m)\u001b[0m \u001b[0;32mor\u001b[0m \u001b[0;34m(\u001b[0m\u001b[0;32mnot\u001b[0m \u001b[0mcurr\u001b[0m\u001b[0;34m.\u001b[0m\u001b[0mgetPtrDiff\u001b[0m \u001b[0;32mand\u001b[0m \u001b[0mprev_\u001b[0m\u001b[0;34m)\u001b[0m\u001b[0;34m\u001b[0m\u001b[0m\n\u001b[0m\u001b[1;32m     34\u001b[0m         \u001b[0mnew_prev_\u001b[0m \u001b[0;34m=\u001b[0m \u001b[0mcurr\u001b[0m\u001b[0;34m\u001b[0m\u001b[0m\n\u001b[1;32m     35\u001b[0m         \u001b[0mnew_next_\u001b[0m \u001b[0;34m=\u001b[0m \u001b[0mNone\u001b[0m\u001b[0;34m\u001b[0m\u001b[0m\n",
      "\u001b[0;31mAttributeError\u001b[0m: 'bool' object has no attribute 'getPtrDiff'"
     ]
    }
   ],
   "source": [
    "dll.insertEnd(NodeMEDLL(2))"
   ]
  },
  {
   "cell_type": "code",
   "execution_count": null,
   "metadata": {
    "collapsed": true
   },
   "outputs": [],
   "source": []
  }
 ],
 "metadata": {
  "kernelspec": {
   "display_name": "Python 2",
   "language": "python",
   "name": "python2"
  },
  "language_info": {
   "codemirror_mode": {
    "name": "ipython",
    "version": 2
   },
   "file_extension": ".py",
   "mimetype": "text/x-python",
   "name": "python",
   "nbconvert_exporter": "python",
   "pygments_lexer": "ipython2",
   "version": "2.7.12"
  }
 },
 "nbformat": 4,
 "nbformat_minor": 2
}
