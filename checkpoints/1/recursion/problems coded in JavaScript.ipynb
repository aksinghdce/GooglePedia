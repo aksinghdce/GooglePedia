{
 "metadata": {
  "kernelspec": {
   "display_name": "Javascript (Node.js)",
   "language": "javascript",
   "name": "javascript"
  },
  "language_info": {
   "file_extension": ".js",
   "mimetype": "application/javascript",
   "name": "javascript",
   "version": "6.9.4"
  },
  "name": "",
  "signature": "sha256:a3ca00dfe56aa13066484a9a2bd87da8d2a64243b86de2246ebed9e50d3168e6"
 },
 "nbformat": 3,
 "nbformat_minor": 0,
 "worksheets": [
  {
   "cells": [
    {
     "cell_type": "heading",
     "level": 1,
     "metadata": {},
     "source": [
      "Modular expression: pow(A,B)%C"
     ]
    },
    {
     "cell_type": "code",
     "collapsed": false,
     "input": [
      "function modEx(A, B, C, mul=1) {\n",
      "    if(B == 0) {\n",
      "        if(C == 1) {\n",
      "            return 0;\n",
      "        }else {\n",
      "            return 1;\n",
      "        }\n",
      "    }\n",
      "    \n",
      "    if(B == 1) {\n",
      "        console.log((mul*A)%C);\n",
      "        return (mul*A)%C;\n",
      "    }\n",
      "    \n",
      "    //Simplify multiple\n",
      "    if(mul > C) {\n",
      "        mul = mul%C;\n",
      "    }\n",
      "    \n",
      "    modEx(A, B-1, C, mul*A);\n",
      "}"
     ],
     "language": "python",
     "metadata": {},
     "outputs": [
      {
       "metadata": {},
       "output_type": "pyout",
       "prompt_number": 1,
       "text": [
        "undefined"
       ]
      }
     ],
     "prompt_number": 1
    },
    {
     "cell_type": "code",
     "collapsed": false,
     "input": [
      "modEx(25, 304, 7);"
     ],
     "language": "python",
     "metadata": {},
     "outputs": [
      {
       "output_type": "stream",
       "stream": "stdout",
       "text": [
        "4\n"
       ]
      },
      {
       "metadata": {},
       "output_type": "pyout",
       "prompt_number": 2,
       "text": [
        "undefined"
       ]
      }
     ],
     "prompt_number": 2
    }
   ],
   "metadata": {}
  }
 ]
}