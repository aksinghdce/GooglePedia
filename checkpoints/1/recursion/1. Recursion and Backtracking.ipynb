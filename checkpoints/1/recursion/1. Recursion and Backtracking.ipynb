{
 "cells": [
  {
   "cell_type": "markdown",
   "metadata": {},
   "source": [
    "# Pragmatic guide for Google preparation"
   ]
  },
  {
   "cell_type": "markdown",
   "metadata": {},
   "source": [
    "# Index:"
   ]
  },
  {
   "cell_type": "markdown",
   "metadata": {},
   "source": [
    "## Recursion and Backtracking"
   ]
  },
  {
   "cell_type": "markdown",
   "metadata": {},
   "source": [
    "1. Recursion and Backtracking\n",
    "    a. Generally loops are turned into recursive functions when they are compiled or interpreted."
   ]
  },
  {
   "cell_type": "markdown",
   "metadata": {},
   "source": [
    "```\n",
    "if(test for base case)\n",
    "    return some base case value\n",
    "else if(test for another base case)\n",
    "    return some other base case value\n",
    "// the recursive case\n",
    "else\n",
    "    return (some work and then a recursive call)\n",
    "```"
   ]
  },
  {
   "cell_type": "markdown",
   "metadata": {},
   "source": [
    "### Problem 1: Factorial"
   ]
  },
  {
   "cell_type": "code",
   "execution_count": 1,
   "metadata": {
    "collapsed": false
   },
   "outputs": [
    {
     "data": {
      "text/plain": [
       "120"
      ]
     },
     "execution_count": 1,
     "metadata": {},
     "output_type": "execute_result"
    }
   ],
   "source": [
    "# Factorial\n",
    "def factorial(n):\n",
    "    if n == 0:\n",
    "        return 1\n",
    "    else:\n",
    "        return n * factorial(n-1)\n",
    "\n",
    "factorial(5)"
   ]
  },
  {
   "cell_type": "markdown",
   "metadata": {},
   "source": [
    "**Disadvantage of recursion is the excessive use of the stack memory**\n",
    "\n",
    "*generally iterative solutuions are more efficient because of overhead of function calls in recursive solutions*"
   ]
  },
  {
   "cell_type": "markdown",
   "metadata": {},
   "source": [
    "**Advantage of recursion is the ease of formulation of the problem**"
   ]
  },
  {
   "cell_type": "markdown",
   "metadata": {},
   "source": [
    "### Problem 2: Tower of Hanoi"
   ]
  },
  {
   "cell_type": "markdown",
   "metadata": {},
   "source": [
    "Watch this video to keep it in your associative memory:"
   ]
  },
  {
   "cell_type": "markdown",
   "metadata": {},
   "source": [
    "<a href=\"https://www.youtube.com/watch?v=rVPuzFYlfYE\">video</a>"
   ]
  },
  {
   "cell_type": "markdown",
   "metadata": {},
   "source": [
    "The idea is to simplify the problem by looking at it like this:\n",
    "<img width=\"200px\" height=\"200px\" src=\"./images/hanoi1.png\" /> <img width=\"200px\" height=\"200px\" src=\"./images/hanoi2.png\" /> <img width=\"200px\" height=\"200px\" src=\"./images/hanoi3.png\" /> <img width=\"200px\" height=\"200px\" src=\"./images/hanoi4.png\" />"
   ]
  },
  {
   "cell_type": "markdown",
   "metadata": {},
   "source": [
    "In the first image the problem is that we need to move the rings as per the definition of tower of Hanoi from middle tower to your left most tower by using right most tower as the auxiliary tower.\n",
    "\n",
    "We simplify the problem by perceiving all the rings but the bottom most as one single ring and solve the problem for two rings only. \n",
    "From first image to 2nd image will have a bunch of intermediary step but the problem is solvable by seeing the auxiliary tower as the destination and the original destination as the auxiliary tower for this simpler problem of coming from first image to second.\n",
    "\n",
    "this is exactly what's done to solve the problem in the following code."
   ]
  },
  {
   "cell_type": "code",
   "execution_count": 2,
   "metadata": {
    "collapsed": false
   },
   "outputs": [
    {
     "name": "stdout",
     "output_type": "stream",
     "text": [
      "moved A to C\n",
      "moved A to B\n",
      "moved C to B\n"
     ]
    }
   ],
   "source": [
    "# tower of Henoi\n",
    "def toh(n, from_, to_, aux_):\n",
    "    if n == 1:\n",
    "        print(\"moved \" + from_ + \" to \" + to_ )\n",
    "    else:\n",
    "        toh(n-1, from_, aux_, to_)\n",
    "        toh(1, from_, to_, aux_)\n",
    "        toh(n-1, aux_, to_, from_)\n",
    "    \n",
    "a = \"A\"\n",
    "b = \"B\"\n",
    "c = \"C\"\n",
    "\n",
    "toh(2, a, b, c)"
   ]
  },
  {
   "cell_type": "code",
   "execution_count": 3,
   "metadata": {
    "collapsed": false
   },
   "outputs": [
    {
     "name": "stdout",
     "output_type": "stream",
     "text": [
      "moved A to B\n",
      "moved A to C\n",
      "moved B to C\n",
      "moved A to B\n",
      "moved C to A\n",
      "moved C to B\n",
      "moved A to B\n"
     ]
    }
   ],
   "source": [
    "toh(3,a,b,c)"
   ]
  },
  {
   "cell_type": "markdown",
   "metadata": {},
   "source": [
    "### Problem 3: Given an array, check whether the array is sorted using recursion"
   ]
  },
  {
   "cell_type": "code",
   "execution_count": 4,
   "metadata": {
    "collapsed": false
   },
   "outputs": [
    {
     "name": "stdout",
     "output_type": "stream",
     "text": [
      "True\n"
     ]
    }
   ],
   "source": [
    "def is_sorted(arr):\n",
    "    if(len(arr) <= 1):\n",
    "        return True\n",
    "    else:\n",
    "        return arr[0] <= arr[1] and is_sorted(arr[1:])\n",
    "\n",
    "print(is_sorted([0,1,2]))"
   ]
  },
  {
   "cell_type": "code",
   "execution_count": 5,
   "metadata": {
    "collapsed": false
   },
   "outputs": [
    {
     "name": "stdout",
     "output_type": "stream",
     "text": [
      "True\n"
     ]
    }
   ],
   "source": [
    "print(is_sorted([]))"
   ]
  },
  {
   "cell_type": "code",
   "execution_count": 6,
   "metadata": {
    "collapsed": false
   },
   "outputs": [
    {
     "name": "stdout",
     "output_type": "stream",
     "text": [
      "False\n"
     ]
    }
   ],
   "source": [
    "print(is_sorted([2,1]))"
   ]
  },
  {
   "cell_type": "markdown",
   "metadata": {},
   "source": [
    "## What is backtracking?"
   ]
  },
  {
   "cell_type": "markdown",
   "metadata": {},
   "source": [
    "Backtracking is a method of exhaustive search using divide and conquer."
   ]
  },
  {
   "cell_type": "markdown",
   "metadata": {},
   "source": [
    "### Generate all binary strings of n bit"
   ]
  },
  {
   "cell_type": "code",
   "execution_count": 7,
   "metadata": {
    "collapsed": true
   },
   "outputs": [],
   "source": [
    "def gen_bin_strings(n):\n",
    "    if n == 0:\n",
    "        return []\n",
    "    elif n == 1:\n",
    "        return ['0', '1']\n",
    "    else:\n",
    "        return [digit+bitstring for digit in gen_bin_strings(1) for bitstring in gen_bin_strings(n-1)]"
   ]
  },
  {
   "cell_type": "code",
   "execution_count": 8,
   "metadata": {
    "collapsed": false
   },
   "outputs": [
    {
     "data": {
      "text/plain": [
       "['00', '01', '10', '11']"
      ]
     },
     "execution_count": 8,
     "metadata": {},
     "output_type": "execute_result"
    }
   ],
   "source": [
    "gen_bin_strings(2)"
   ]
  },
  {
   "cell_type": "markdown",
   "metadata": {},
   "source": [
    "### Generate all permutations of a string of length n with symbols drawn from 0->k-1"
   ]
  },
  {
   "cell_type": "markdown",
   "metadata": {},
   "source": [
    "### Or, all n digits number with base k"
   ]
  },
  {
   "cell_type": "code",
   "execution_count": 9,
   "metadata": {
    "collapsed": false
   },
   "outputs": [
    {
     "data": {
      "text/plain": [
       "['0', '1', '2', '3', '4']"
      ]
     },
     "execution_count": 9,
     "metadata": {},
     "output_type": "execute_result"
    }
   ],
   "source": [
    "def rangeToList(k):\n",
    "    result = []\n",
    "    for i in range(0, k):\n",
    "        result.append(str(i))\n",
    "    return result\n",
    "\n",
    "rangeToList(5)"
   ]
  },
  {
   "cell_type": "code",
   "execution_count": 10,
   "metadata": {
    "collapsed": true
   },
   "outputs": [],
   "source": [
    "def baseKStrings(n, k):\n",
    "    if n == 0: return []\n",
    "    if n == 1:\n",
    "        return rangeToList(k)\n",
    "    return [curr+elem for curr in baseKStrings(1, k) for elem in baseKStrings(n-1, k)]"
   ]
  },
  {
   "cell_type": "code",
   "execution_count": 11,
   "metadata": {
    "collapsed": false
   },
   "outputs": [
    {
     "data": {
      "text/plain": [
       "['00',\n",
       " '01',\n",
       " '02',\n",
       " '03',\n",
       " '04',\n",
       " '10',\n",
       " '11',\n",
       " '12',\n",
       " '13',\n",
       " '14',\n",
       " '20',\n",
       " '21',\n",
       " '22',\n",
       " '23',\n",
       " '24',\n",
       " '30',\n",
       " '31',\n",
       " '32',\n",
       " '33',\n",
       " '34',\n",
       " '40',\n",
       " '41',\n",
       " '42',\n",
       " '43',\n",
       " '44']"
      ]
     },
     "execution_count": 11,
     "metadata": {},
     "output_type": "execute_result"
    }
   ],
   "source": [
    "baseKStrings(2, 5)"
   ]
  },
  {
   "cell_type": "markdown",
   "metadata": {},
   "source": [
    "### Find the length of connect cells of 1s (regions) in an matrix of 0s and 1s"
   ]
  },
  {
   "cell_type": "markdown",
   "metadata": {},
   "source": [
    "[Connected Cell](2)"
   ]
  },
  {
   "cell_type": "markdown",
   "metadata": {},
   "source": [
    "For instance, \n",
    "\n",
    "              11000\n",
    "\n",
    "              01100\n",
    "              \n",
    "              00101\n",
    "              \n",
    "              10001\n",
    "              \n",
    "              01011\n",
    "              \n",
    "should output 5. Because the top most left 1 connects with 5 1s"
   ]
  },
  {
   "cell_type": "code",
   "execution_count": 39,
   "metadata": {
    "collapsed": true
   },
   "outputs": [],
   "source": [
    "Arr = [\n",
    "    [1, 1, 0, 0, 0],\n",
    "    [0, 1, 1, 0, 0],\n",
    "    [0, 0, 1, 0, 1],\n",
    "    [1, 0, 0, 0, 1],\n",
    "    [0, 1, 0, 1, 1]\n",
    "]"
   ]
  },
  {
   "cell_type": "code",
   "execution_count": 40,
   "metadata": {
    "collapsed": false
   },
   "outputs": [],
   "source": [
    "def getElement(matrix, i=0, j=0):\n",
    "    height = len(matrix)\n",
    "    width = len(matrix[0])\n",
    "    if(i<0 or i>height-1): return -1\n",
    "    if(j<0 or j>width-1): return -1\n",
    "    return matrix[i][j]"
   ]
  },
  {
   "cell_type": "code",
   "execution_count": 41,
   "metadata": {
    "collapsed": false
   },
   "outputs": [],
   "source": [
    "directions = [[-1, -1], [0, -1], [1, -1], [-1, 0], [1, 0], [-1, 1], [0, 1], [1, 1]]\n",
    "def getConnectedCountForCell(matrix):\n",
    "    L_ROW = len(matrix)\n",
    "    if L_ROW > 0:\n",
    "        L_COL = len(matrix[0])\n",
    "    # global list for all the visited cells\n",
    "    visited = set()\n",
    "    count_dict = dict()\n",
    "    for row in xrange(0, L_ROW):\n",
    "        for col in xrange(0, L_COL):\n",
    "            if (row, col) not in visited:\n",
    "                count = 0\n",
    "                if getElement(matrix, row, col) == 1:\n",
    "                    stack = [(row, col)]\n",
    "                    while len(stack) > 0:\n",
    "                        _row_, _col_ = stack.pop()\n",
    "                        if (_row_, _col_) not in visited:\n",
    "                            count = count + 1\n",
    "                            visited.add((_row_, _col_))\n",
    "                        for x in xrange(0, len(directions)):\n",
    "                            __row__, __col__ = _row_ + directions[x][0], _col_ + directions[x][1]\n",
    "                            if (__row__, __col__) not in visited:\n",
    "                                if getElement(matrix, __row__, __col__) == 1:\n",
    "                                    stack.append((__row__, __col__))\n",
    "                                if getElement(matrix, __row__, __col__) == 0:\n",
    "                                    visited.add((__row__, __col__))\n",
    "            count_dict.update({(row, col): count})\n",
    "    print count_dict"
   ]
  },
  {
   "cell_type": "code",
   "execution_count": 42,
   "metadata": {
    "collapsed": false
   },
   "outputs": [
    {
     "name": "stdout",
     "output_type": "stream",
     "text": [
      "{(1, 2): 0, (3, 2): 2, (0, 0): 5, (3, 0): 2, (0, 4): 0, (1, 4): 0, (1, 3): 0, (2, 3): 0, (2, 1): 0, (2, 4): 4, (4, 2): 2, (1, 0): 0, (0, 3): 5, (4, 0): 2, (0, 1): 5, (3, 3): 2, (4, 1): 2, (3, 1): 2, (4, 4): 2, (0, 2): 5, (2, 0): 0, (4, 3): 2, (2, 2): 0, (3, 4): 2, (1, 1): 0}\n"
     ]
    }
   ],
   "source": [
    "getConnectedCountForCell(Arr)"
   ]
  }
 ],
 "metadata": {
  "kernelspec": {
   "display_name": "Python 2",
   "language": "python",
   "name": "python2"
  },
  "language_info": {
   "codemirror_mode": {
    "name": "ipython",
    "version": 2
   },
   "file_extension": ".py",
   "mimetype": "text/x-python",
   "name": "python",
   "nbconvert_exporter": "python",
   "pygments_lexer": "ipython2",
   "version": "2.7.12"
  }
 },
 "nbformat": 4,
 "nbformat_minor": 2
}
