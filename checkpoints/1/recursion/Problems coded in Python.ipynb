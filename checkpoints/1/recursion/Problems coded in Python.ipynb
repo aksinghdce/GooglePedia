{
 "metadata": {
  "kernelspec": {
   "display_name": "Python 2",
   "language": "python",
   "name": "python2"
  },
  "language_info": {
   "codemirror_mode": {
    "name": "ipython",
    "version": 2
   },
   "file_extension": ".py",
   "mimetype": "text/x-python",
   "name": "python",
   "nbconvert_exporter": "python",
   "pygments_lexer": "ipython2",
   "version": "2.7.12"
  },
  "name": "",
  "signature": "sha256:ed522327cc20c2b966b17ee5b4abb208f516a7119f5c6dbb75186eb2d3b7737c"
 },
 "nbformat": 3,
 "nbformat_minor": 0,
 "worksheets": [
  {
   "cells": [
    {
     "cell_type": "heading",
     "level": 1,
     "metadata": {},
     "source": [
      "Modular expression: pow(A,B)%C"
     ]
    },
    {
     "cell_type": "code",
     "collapsed": false,
     "input": [
      "def modExpression(A, B, C, mul=1):\n",
      "    if B == 0:\n",
      "        if C == 1:\n",
      "            return 0\n",
      "        else:\n",
      "            return 1\n",
      "    if B == 1:\n",
      "        print (mul*A)%C\n",
      "        return (mul*A)%C\n",
      "    \n",
      "    # make the multiple simplified\n",
      "    if mul > C:\n",
      "        mul = mul%C\n",
      "        \n",
      "    modExpression(A, B-1, C, mul*A)"
     ],
     "language": "python",
     "metadata": {},
     "outputs": [
      {
       "ename": "SyntaxError",
       "evalue": "Unexpected identifier",
       "output_type": "pyerr",
       "traceback": [
        "evalmachine.<anonymous>:1",
        "def modExpression(A, B, C, mul=1):",
        "    ^^^^^^^^^^^^^",
        "SyntaxError: Unexpected identifier",
        "    at Object.exports.runInThisContext (vm.js:76:16)",
        "    at run ([eval]:613:19)",
        "    at onRunRequest ([eval]:384:22)",
        "    at onMessage ([eval]:352:17)",
        "    at emitTwo (events.js:106:13)",
        "    at process.emit (events.js:191:7)",
        "    at process.nextTick (internal/child_process.js:744:12)",
        "    at _combinedTickCallback (internal/process/next_tick.js:67:7)",
        "    at process._tickCallback (internal/process/next_tick.js:98:9)"
       ]
      }
     ],
     "prompt_number": 1
    },
    {
     "cell_type": "code",
     "collapsed": false,
     "input": [
      "x = modExpression(25, 304, 7)"
     ],
     "language": "python",
     "metadata": {},
     "outputs": [
      {
       "output_type": "stream",
       "stream": "stdout",
       "text": [
        "4\n"
       ]
      }
     ],
     "prompt_number": 41
    }
   ],
   "metadata": {}
  }
 ]
}