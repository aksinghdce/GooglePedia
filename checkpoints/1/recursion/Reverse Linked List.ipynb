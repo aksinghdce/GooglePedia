{
 "cells": [
  {
   "cell_type": "markdown",
   "metadata": {},
   "source": [
    "# Reverse Linked List"
   ]
  },
  {
   "cell_type": "code",
   "execution_count": 130,
   "metadata": {
    "collapsed": true
   },
   "outputs": [],
   "source": [
    "class Node(object):\n",
    "    # Node of the list\n",
    "    def __init__(self, int_data):\n",
    "        self.data = int_data\n",
    "        self.next = None\n",
    "    def getData(self):\n",
    "        return self.data\n",
    "    def setData(self, int_data):\n",
    "        self.data = int_data\n",
    "    def setNext(self, next_):\n",
    "        self.next = next_\n",
    "    def getNext(self):\n",
    "        return self.next"
   ]
  },
  {
   "cell_type": "code",
   "execution_count": 152,
   "metadata": {
    "collapsed": false
   },
   "outputs": [],
   "source": [
    "class LinkedList(object):\n",
    "    #head_ is a node\n",
    "    def __init__(self):\n",
    "        self.head = None\n",
    "        self.count = 0\n",
    "    def setHead(self, node_):\n",
    "        self.head = node_\n",
    "        self.count = self.count + 1\n",
    "    #at_ is the position after this new elements position\n",
    "    def insert(self, at_, node_):\n",
    "        if at_ == None:\n",
    "            return\n",
    "        if at_ == self.head:\n",
    "            node_.setNext(at_)\n",
    "            self.head = node_\n",
    "            self.count = self.count + 1\n",
    "        else:\n",
    "            curr = self.head\n",
    "            prev = None\n",
    "            while curr != at_:\n",
    "                prev = curr\n",
    "                curr = curr.getNext()\n",
    "            prev.setNext(node_)\n",
    "            node_.setNext(curr)\n",
    "            self.count += 1\n",
    "    def getHead(self):\n",
    "        return self.head\n",
    "    def display(self):\n",
    "        curr = self.head\n",
    "        while curr != None:\n",
    "            print curr.getData(), self.count\n",
    "            curr = curr.getNext()\n",
    "    def reverse(self):\n",
    "        #import pdb; pdb.set_trace()\n",
    "#         if (self.count == 0) or (self.count == 1):\n",
    "#             return\n",
    "#         if self.count == 2:\n",
    "#             head_ = self.head\n",
    "#             self.last = self.head.getNext()\n",
    "#             self.last.setNext(head_)\n",
    "#             self.head = self.last\n",
    "#             head_.setNext(None)\n",
    "#         if self.count >= 3:\n",
    "#             p = self.head\n",
    "#             q = p.getNext()\n",
    "#             r = q.getNext()\n",
    "#             while r != None:\n",
    "#                 q.setNext(p)\n",
    "                \n",
    "#             self.head = q\n",
    "        p = self.head\n",
    "        \n",
    "        "
   ]
  },
  {
   "cell_type": "code",
   "execution_count": null,
   "metadata": {
    "collapsed": true
   },
   "outputs": [],
   "source": [
    "class LinkedList(object):\n",
    "    #head_ is a node\n",
    "    def __init__(self):\n",
    "        self.head = None\n",
    "        self.count = 0\n",
    "    def setHead(self, node_):\n",
    "        self.head = node_\n",
    "        self.count = self.count + 1\n",
    "    #at_ is the position after this new elements position\n",
    "    def insert(self, at_, node_):\n",
    "        if at_ == None:\n",
    "            return\n",
    "        if at_ == self.head:\n",
    "            node_.setNext(at_)\n",
    "            self.head = node_\n",
    "            self.count = self.count + 1\n",
    "        else:\n",
    "            curr = self.head\n",
    "            prev = None\n",
    "            while curr != at_:\n",
    "                prev = curr\n",
    "                curr = curr.getNext()\n",
    "            prev.setNext(node_)\n",
    "            node_.setNext(curr)\n",
    "            self.count += 1\n",
    "    def getHead(self):\n",
    "        return self.head\n",
    "    def display(self):\n",
    "        curr = self.head\n",
    "        while curr != None:\n",
    "            print curr.getData(), self.count\n",
    "            curr = curr.getNext()\n",
    "    def reverse(self):\n",
    "        if self.head == None:\n",
    "            return\n",
    "        last = self.head\n",
    "        first = self.head.getNext()\n",
    "        last.setNext(None)\n",
    "        next_ = first\n",
    "        while next_ != None:\n",
    "            next_ = first.getNext()\n",
    "            first.setNext(last)\n",
    "            last = first\n",
    "            first = next_"
   ]
  },
  {
   "cell_type": "code",
   "execution_count": 153,
   "metadata": {
    "collapsed": false
   },
   "outputs": [],
   "source": [
    "node_ = Node(0)"
   ]
  },
  {
   "cell_type": "code",
   "execution_count": 154,
   "metadata": {
    "collapsed": false
   },
   "outputs": [],
   "source": [
    "list_ = LinkedList()"
   ]
  },
  {
   "cell_type": "code",
   "execution_count": 155,
   "metadata": {
    "collapsed": false
   },
   "outputs": [],
   "source": [
    "\n",
    "list_.setHead(node_)"
   ]
  },
  {
   "cell_type": "code",
   "execution_count": 156,
   "metadata": {
    "collapsed": true
   },
   "outputs": [],
   "source": [
    "node__ = Node(1)"
   ]
  },
  {
   "cell_type": "code",
   "execution_count": 157,
   "metadata": {
    "collapsed": false
   },
   "outputs": [],
   "source": [
    "list_.insert(list_.getHead(), node__)"
   ]
  },
  {
   "cell_type": "code",
   "execution_count": 158,
   "metadata": {
    "collapsed": true
   },
   "outputs": [],
   "source": [
    "node___ = Node(2)"
   ]
  },
  {
   "cell_type": "code",
   "execution_count": 159,
   "metadata": {
    "collapsed": true
   },
   "outputs": [],
   "source": [
    "list_.insert(list_.getHead(), node___)"
   ]
  },
  {
   "cell_type": "code",
   "execution_count": 160,
   "metadata": {
    "collapsed": false
   },
   "outputs": [
    {
     "name": "stdout",
     "output_type": "stream",
     "text": [
      "2 3\n",
      "1 3\n",
      "0 3\n"
     ]
    }
   ],
   "source": [
    "list_.display()"
   ]
  },
  {
   "cell_type": "code",
   "execution_count": 161,
   "metadata": {
    "collapsed": false
   },
   "outputs": [
    {
     "ename": "KeyboardInterrupt",
     "evalue": "",
     "output_type": "error",
     "traceback": [
      "\u001b[0;31m---------------------------------------------------------------------------\u001b[0m",
      "\u001b[0;31mKeyboardInterrupt\u001b[0m                         Traceback (most recent call last)",
      "\u001b[0;32m<ipython-input-161-d1ac08620f81>\u001b[0m in \u001b[0;36m<module>\u001b[0;34m()\u001b[0m\n\u001b[0;32m----> 1\u001b[0;31m \u001b[0mlist_\u001b[0m\u001b[0;34m.\u001b[0m\u001b[0mreverse\u001b[0m\u001b[0;34m(\u001b[0m\u001b[0;34m)\u001b[0m\u001b[0;34m\u001b[0m\u001b[0m\n\u001b[0m",
      "\u001b[0;32m<ipython-input-152-44ffc6fb2c9b>\u001b[0m in \u001b[0;36mreverse\u001b[0;34m(self)\u001b[0m\n\u001b[1;32m     46\u001b[0m             \u001b[0mr\u001b[0m \u001b[0;34m=\u001b[0m \u001b[0mq\u001b[0m\u001b[0;34m.\u001b[0m\u001b[0mgetNext\u001b[0m\u001b[0;34m(\u001b[0m\u001b[0;34m)\u001b[0m\u001b[0;34m\u001b[0m\u001b[0m\n\u001b[1;32m     47\u001b[0m             \u001b[0;32mwhile\u001b[0m \u001b[0mr\u001b[0m \u001b[0;34m!=\u001b[0m \u001b[0mNone\u001b[0m\u001b[0;34m:\u001b[0m\u001b[0;34m\u001b[0m\u001b[0m\n\u001b[0;32m---> 48\u001b[0;31m                 \u001b[0mq\u001b[0m\u001b[0;34m.\u001b[0m\u001b[0msetNext\u001b[0m\u001b[0;34m(\u001b[0m\u001b[0mp\u001b[0m\u001b[0;34m)\u001b[0m\u001b[0;34m\u001b[0m\u001b[0m\n\u001b[0m\u001b[1;32m     49\u001b[0m                 \u001b[0mp\u001b[0m \u001b[0;34m=\u001b[0m \u001b[0mq\u001b[0m\u001b[0;34m\u001b[0m\u001b[0m\n\u001b[1;32m     50\u001b[0m                 \u001b[0mq\u001b[0m \u001b[0;34m=\u001b[0m \u001b[0mr\u001b[0m\u001b[0;34m\u001b[0m\u001b[0m\n",
      "\u001b[0;31mKeyboardInterrupt\u001b[0m: "
     ]
    }
   ],
   "source": [
    "list_.reverse()"
   ]
  },
  {
   "cell_type": "code",
   "execution_count": null,
   "metadata": {
    "collapsed": false
   },
   "outputs": [],
   "source": [
    "list_.display()"
   ]
  },
  {
   "cell_type": "code",
   "execution_count": null,
   "metadata": {
    "collapsed": true
   },
   "outputs": [],
   "source": []
  },
  {
   "cell_type": "code",
   "execution_count": null,
   "metadata": {
    "collapsed": true
   },
   "outputs": [],
   "source": []
  }
 ],
 "metadata": {
  "kernelspec": {
   "display_name": "Python 2",
   "language": "python",
   "name": "python2"
  },
  "language_info": {
   "codemirror_mode": {
    "name": "ipython",
    "version": 2
   },
   "file_extension": ".py",
   "mimetype": "text/x-python",
   "name": "python",
   "nbconvert_exporter": "python",
   "pygments_lexer": "ipython2",
   "version": "2.7.12"
  }
 },
 "nbformat": 4,
 "nbformat_minor": 2
}
