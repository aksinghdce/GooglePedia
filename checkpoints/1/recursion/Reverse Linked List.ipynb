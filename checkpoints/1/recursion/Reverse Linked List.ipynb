{
 "cells": [
  {
   "cell_type": "markdown",
   "metadata": {},
   "source": [
    "# Reverse Linked List"
   ]
  },
  {
   "cell_type": "code",
   "execution_count": 200,
   "metadata": {
    "collapsed": true
   },
   "outputs": [],
   "source": [
    "class Node(object):\n",
    "    # Node of the list\n",
    "    def __init__(self, int_data):\n",
    "        self.data = int_data\n",
    "        self.next = None\n",
    "    def getData(self):\n",
    "        return self.data\n",
    "    def setData(self, int_data):\n",
    "        self.data = int_data\n",
    "    def setNext(self, next_):\n",
    "        self.next = next_\n",
    "    def getNext(self):\n",
    "        return self.next"
   ]
  },
  {
   "cell_type": "code",
   "execution_count": 201,
   "metadata": {
    "collapsed": false
   },
   "outputs": [],
   "source": [
    "class LinkedList(object):\n",
    "    #head_ is a node\n",
    "    def __init__(self):\n",
    "        self.head = None\n",
    "        self.count = 0\n",
    "    def setHead(self, node_):\n",
    "        self.head = node_\n",
    "        self.count = self.count + 1\n",
    "    #at_ is the position after this new elements position\n",
    "    def insert(self, at_, node_):\n",
    "        if at_ == None:\n",
    "            return\n",
    "        if at_ == self.head:\n",
    "            node_.setNext(at_)\n",
    "            self.head = node_\n",
    "            self.count = self.count + 1\n",
    "        else:\n",
    "            curr = self.head\n",
    "            prev = None\n",
    "            while curr != at_:\n",
    "                prev = curr\n",
    "                curr = curr.getNext()\n",
    "            prev.setNext(node_)\n",
    "            node_.setNext(curr)\n",
    "            self.count += 1\n",
    "    def getHead(self):\n",
    "        return self.head\n",
    "    def display(self):\n",
    "        curr = self.head\n",
    "        while curr != None:\n",
    "            print curr.getData(), self.count\n",
    "            curr = curr.getNext()\n",
    "    def reverse(self):\n",
    "        if self.head == None:\n",
    "            return\n",
    "        last = self.head\n",
    "        first = self.head.getNext()\n",
    "        last.setNext(None)\n",
    "        next_ = first\n",
    "        while next_ != None:\n",
    "            next_ = first.getNext()\n",
    "            first.setNext(last)\n",
    "            last = first\n",
    "            first = next_\n",
    "        self.head = last\n",
    "    def reverse_recursive(self, non_reversed_, reversed_=None):\n",
    "        if non_reversed_ == None:\n",
    "            self.head = reversed_\n",
    "            return\n",
    "        first = non_reversed_\n",
    "        next_ = first.getNext()\n",
    "        first.setNext(reversed_)\n",
    "        reversed_ = first\n",
    "        first = next_\n",
    "        reverse_recursive(first, reversed_)\n",
    "        "
   ]
  },
  {
   "cell_type": "code",
   "execution_count": 202,
   "metadata": {
    "collapsed": false
   },
   "outputs": [],
   "source": [
    "node_ = Node(0)"
   ]
  },
  {
   "cell_type": "code",
   "execution_count": 203,
   "metadata": {
    "collapsed": false
   },
   "outputs": [],
   "source": [
    "list_ = LinkedList()"
   ]
  },
  {
   "cell_type": "code",
   "execution_count": 204,
   "metadata": {
    "collapsed": false
   },
   "outputs": [],
   "source": [
    "\n",
    "list_.setHead(node_)"
   ]
  },
  {
   "cell_type": "code",
   "execution_count": 205,
   "metadata": {
    "collapsed": true
   },
   "outputs": [],
   "source": [
    "node__ = Node(1)"
   ]
  },
  {
   "cell_type": "code",
   "execution_count": 206,
   "metadata": {
    "collapsed": false
   },
   "outputs": [],
   "source": [
    "list_.insert(list_.getHead(), node__)"
   ]
  },
  {
   "cell_type": "code",
   "execution_count": 207,
   "metadata": {
    "collapsed": true
   },
   "outputs": [],
   "source": [
    "node___ = Node(2)"
   ]
  },
  {
   "cell_type": "code",
   "execution_count": 208,
   "metadata": {
    "collapsed": true
   },
   "outputs": [],
   "source": [
    "list_.insert(list_.getHead(), node___)"
   ]
  },
  {
   "cell_type": "code",
   "execution_count": 209,
   "metadata": {
    "collapsed": false
   },
   "outputs": [
    {
     "name": "stdout",
     "output_type": "stream",
     "text": [
      "2 3\n",
      "1 3\n",
      "0 3\n"
     ]
    }
   ],
   "source": [
    "list_.display()"
   ]
  },
  {
   "cell_type": "code",
   "execution_count": 210,
   "metadata": {
    "collapsed": false
   },
   "outputs": [],
   "source": [
    "list_.reverse()"
   ]
  },
  {
   "cell_type": "code",
   "execution_count": 211,
   "metadata": {
    "collapsed": false
   },
   "outputs": [
    {
     "name": "stdout",
     "output_type": "stream",
     "text": [
      "0 3\n",
      "1 3\n",
      "2 3\n"
     ]
    }
   ],
   "source": [
    "list_.display()"
   ]
  },
  {
   "cell_type": "code",
   "execution_count": 212,
   "metadata": {
    "collapsed": false
   },
   "outputs": [
    {
     "ename": "NameError",
     "evalue": "global name 'reverse_recursive' is not defined",
     "output_type": "error",
     "traceback": [
      "\u001b[0;31m---------------------------------------------------------------------------\u001b[0m",
      "\u001b[0;31mNameError\u001b[0m                                 Traceback (most recent call last)",
      "\u001b[0;32m<ipython-input-212-f54fb9ea4000>\u001b[0m in \u001b[0;36m<module>\u001b[0;34m()\u001b[0m\n\u001b[0;32m----> 1\u001b[0;31m \u001b[0mlist_\u001b[0m\u001b[0;34m.\u001b[0m\u001b[0mreverse_recursive\u001b[0m\u001b[0;34m(\u001b[0m\u001b[0mlist_\u001b[0m\u001b[0;34m.\u001b[0m\u001b[0mgetHead\u001b[0m\u001b[0;34m(\u001b[0m\u001b[0;34m)\u001b[0m\u001b[0;34m)\u001b[0m\u001b[0;34m\u001b[0m\u001b[0m\n\u001b[0m",
      "\u001b[0;32m<ipython-input-201-1a91ffc9a80c>\u001b[0m in \u001b[0;36mreverse_recursive\u001b[0;34m(self, non_reversed_, reversed_)\u001b[0m\n\u001b[1;32m     53\u001b[0m         \u001b[0mreversed_\u001b[0m \u001b[0;34m=\u001b[0m \u001b[0mfirst\u001b[0m\u001b[0;34m\u001b[0m\u001b[0m\n\u001b[1;32m     54\u001b[0m         \u001b[0mfirst\u001b[0m \u001b[0;34m=\u001b[0m \u001b[0mnext_\u001b[0m\u001b[0;34m\u001b[0m\u001b[0m\n\u001b[0;32m---> 55\u001b[0;31m         \u001b[0mreverse_recursive\u001b[0m\u001b[0;34m(\u001b[0m\u001b[0mfirst\u001b[0m\u001b[0;34m,\u001b[0m \u001b[0mreversed_\u001b[0m\u001b[0;34m)\u001b[0m\u001b[0;34m\u001b[0m\u001b[0m\n\u001b[0m\u001b[1;32m     56\u001b[0m \u001b[0;34m\u001b[0m\u001b[0m\n",
      "\u001b[0;31mNameError\u001b[0m: global name 'reverse_recursive' is not defined"
     ]
    }
   ],
   "source": [
    "list_.reverse_recursive(list_.getHead())"
   ]
  },
  {
   "cell_type": "code",
   "execution_count": null,
   "metadata": {
    "collapsed": true
   },
   "outputs": [],
   "source": []
  }
 ],
 "metadata": {
  "kernelspec": {
   "display_name": "Python 2",
   "language": "python",
   "name": "python2"
  },
  "language_info": {
   "codemirror_mode": {
    "name": "ipython",
    "version": 2
   },
   "file_extension": ".py",
   "mimetype": "text/x-python",
   "name": "python",
   "nbconvert_exporter": "python",
   "pygments_lexer": "ipython2",
   "version": "2.7.12"
  }
 },
 "nbformat": 4,
 "nbformat_minor": 2
}
