{
 "cells": [
  {
   "cell_type": "markdown",
   "metadata": {},
   "source": [
    "<img src=\"./images/IMAG0557.jpg\" />"
   ]
  },
  {
   "cell_type": "markdown",
   "metadata": {},
   "source": [
    "Approach:\n",
    "\n",
    "For each element in the matrix:\n",
    "    stack it\n",
    "    while the stack is not empty:\n",
    "        unstack it and check it's neighbours\n",
    "            if it's in the global_visited set then get out of the while loop\n",
    "            else\n",
    "                if the unstacked matrix position has 0, add it to global_visited, i.e ignore list\n",
    "                if the unstacked position has 1, then visit it's neighbours, i.e stack the neighbours in the to be visited list\n",
    "                    also increase the count\n",
    "                    add the unstacked position into global_visited set\n",
    "    save the count for this element of the matrix\n",
    "    \n",
    "    \n",
    "Lessons learnt:\n",
    "    approach the problem like a story and don't involve technology until implementation is required"
   ]
  },
  {
   "cell_type": "code",
   "execution_count": 27,
   "metadata": {
    "collapsed": true
   },
   "outputs": [],
   "source": [
    "# Define the matrix to be tested\n",
    "Arr = [\n",
    "    [1, 1, 0, 0, 0],\n",
    "    [1, 1, 1, 1, 0],\n",
    "    [0, 0, 0, 1, 0],\n",
    "    [1, 0, 0, 0, 0]\n",
    "]"
   ]
  },
  {
   "cell_type": "code",
   "execution_count": 28,
   "metadata": {
    "collapsed": true
   },
   "outputs": [],
   "source": [
    "# initialize the global_visited set to hold 0 and cells on which dfs has already finished running\n",
    "global_visited = set()"
   ]
  },
  {
   "cell_type": "code",
   "execution_count": 29,
   "metadata": {
    "collapsed": true
   },
   "outputs": [],
   "source": [
    "# define the function to get the element, given matrix, row and col\n",
    "def getElement(matrix, row, col):\n",
    "    if row < 0 or (row > (len(matrix) - 1)) or col < 0 or (col > (len(matrix[0]) - 1)): return -1\n",
    "    return matrix[row][col]"
   ]
  },
  {
   "cell_type": "code",
   "execution_count": 30,
   "metadata": {
    "collapsed": false
   },
   "outputs": [
    {
     "data": {
      "text/plain": [
       "1"
      ]
     },
     "execution_count": 30,
     "metadata": {},
     "output_type": "execute_result"
    }
   ],
   "source": [
    "# Test the function getElement\n",
    "getElement(Arr, 2, 3)"
   ]
  },
  {
   "cell_type": "code",
   "execution_count": 31,
   "metadata": {
    "collapsed": false
   },
   "outputs": [
    {
     "name": "stdout",
     "output_type": "stream",
     "text": [
      "{(0, 1): 0, (1, 2): 0, (3, 2): 0, (0, 0): 7, (3, 1): 0, (3, 3): 0, (3, 0): 1, (2, 2): 0, (1, 1): 0, (1, 4): 0, (0, 2): 0, (2, 0): 0, (1, 3): 0, (2, 3): 0, (2, 1): 0, (0, 4): 0, (2, 4): 0, (1, 0): 0, (3, 4): 0, (0, 3): 0}\n"
     ]
    }
   ],
   "source": [
    "# Define directions that cover the neighbour of the cell\n",
    "directions = ((-1, -1), (0, -1), (1, -1), (-1, 0), (1, 0), (-1, 1), (0, 1), (1, 1))\n",
    "# count map to hold the count for each position that is 1 and not visited so far\n",
    "count_map = {}\n",
    "\n",
    "# first two lines let you access each element of the matrix\n",
    "for row in xrange(len(Arr)):\n",
    "    for col in xrange(len(Arr[0])):\n",
    "        # initialize the variables\n",
    "        stack = list()\n",
    "        stack.append((row, col))\n",
    "        count = 0\n",
    "        #run dfs and update count when it makes sense\n",
    "        while len(stack)>0:\n",
    "            _row_, _col_ = stack.pop()\n",
    "            # Just add the cell to global_visited is it's 0 and continue with row, col loop\n",
    "            # ignore the cell if it's 0 else \n",
    "            if getElement(Arr, _row_, _col_) == 0: global_visited.add((_row_, _col_))\n",
    "            #if it's one then make sure it's not seen before\n",
    "            elif (_row_, _col_) not in global_visited:\n",
    "                count += 1\n",
    "                # add it to global_visited and visit all it's neighbour\n",
    "                global_visited.add((_row_, _col_))\n",
    "                for x in xrange(0, 8):\n",
    "                    __row__, __col__ = _row_ + directions[x][0], _col_ + directions[x][1]\n",
    "                    if getElement(Arr, __row__, __col__) == 1: \n",
    "                        stack.append((__row__, __col__))\n",
    "                    elif getElement(Arr, __row__, __col__) == 0:\n",
    "                        global_visited.add((__row__, __col__))\n",
    "        count_map.update({(row, col): count})\n",
    "print count_map"
   ]
  },
  {
   "cell_type": "code",
   "execution_count": 32,
   "metadata": {
    "collapsed": false
   },
   "outputs": [
    {
     "name": "stdout",
     "output_type": "stream",
     "text": [
      "7\n"
     ]
    }
   ],
   "source": [
    "max_ = 0\n",
    "for value in count_map.values():\n",
    "    max_ = max(value, max_)\n",
    "print max_"
   ]
  }
 ],
 "metadata": {
  "kernelspec": {
   "display_name": "Python 2",
   "language": "python",
   "name": "python2"
  },
  "language_info": {
   "codemirror_mode": {
    "name": "ipython",
    "version": 2
   },
   "file_extension": ".py",
   "mimetype": "text/x-python",
   "name": "python",
   "nbconvert_exporter": "python",
   "pygments_lexer": "ipython2",
   "version": "2.7.12"
  }
 },
 "nbformat": 4,
 "nbformat_minor": 2
}
