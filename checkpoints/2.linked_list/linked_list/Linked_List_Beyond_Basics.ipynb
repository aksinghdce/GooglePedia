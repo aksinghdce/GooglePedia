{
 "cells": [
  {
   "cell_type": "markdown",
   "metadata": {},
   "source": [
    "# Linked Lists concepts that are beyond basics"
   ]
  },
  {
   "cell_type": "markdown",
   "metadata": {},
   "source": [
    "We will focus on capturing the concepts that are not found in the basic algorithms books.\n",
    "\n",
    "## What are the basic concepts that we are skipping?\n",
    "\n",
    "We are skipping:\n",
    "\n",
    "1. Singly linked list and it's operations\n",
    "2. Doubly linked list and it's operations\n",
    "\n",
    "We are covering:\n",
    "\n",
    "1. Memory efficient Doubly Linked lists\n",
    "2. Unrolled linked lists\n",
    "3. Skip lists\n",
    "4. Problems on Linked List"
   ]
  },
  {
   "cell_type": "markdown",
   "metadata": {},
   "source": [
    "## Memory efficient Doubly Linked List\n",
    "\n",
    "To be memory efficient we are saving only one value to capture both previous and next link from a particular node in the linked list.\n",
    "\n",
    "We store the XOR of previous and next link. To get previous link we just XOR it to the next-element.\n"
   ]
  }
 ],
 "metadata": {
  "kernelspec": {
   "display_name": "Python 2",
   "language": "python",
   "name": "python2"
  },
  "language_info": {
   "codemirror_mode": {
    "name": "ipython",
    "version": 2
   },
   "file_extension": ".py",
   "mimetype": "text/x-python",
   "name": "python",
   "nbconvert_exporter": "python",
   "pygments_lexer": "ipython2",
   "version": "2.7.12"
  }
 },
 "nbformat": 4,
 "nbformat_minor": 2
}
