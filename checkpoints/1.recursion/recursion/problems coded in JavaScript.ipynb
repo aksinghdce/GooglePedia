{
 "cells": [
  {
   "cell_type": "markdown",
   "metadata": {},
   "source": [
    "# Modular expression: pow(A,B)%C"
   ]
  },
  {
   "cell_type": "code",
   "execution_count": 1,
   "metadata": {
    "collapsed": false
   },
   "outputs": [
    {
     "data": {
      "text/plain": [
       "undefined"
      ]
     },
     "execution_count": 1,
     "metadata": {},
     "output_type": "execute_result"
    }
   ],
   "source": [
    "function modEx(A, B, C, mul=1) {\n",
    "    if(B == 0) {\n",
    "        if(C == 1) {\n",
    "            return 0;\n",
    "        }else {\n",
    "            return 1;\n",
    "        }\n",
    "    }\n",
    "    \n",
    "    if(B == 1) {\n",
    "        console.log((mul*A)%C);\n",
    "        return (mul*A)%C;\n",
    "    }\n",
    "    \n",
    "    //Simplify multiple\n",
    "    if(mul > C) {\n",
    "        mul = mul%C;\n",
    "    }\n",
    "    \n",
    "    modEx(A, B-1, C, mul*A);\n",
    "}"
   ]
  },
  {
   "cell_type": "code",
   "execution_count": 2,
   "metadata": {
    "collapsed": false
   },
   "outputs": [
    {
     "name": "stdout",
     "output_type": "stream",
     "text": [
      "4\n"
     ]
    },
    {
     "data": {
      "text/plain": [
       "undefined"
      ]
     },
     "execution_count": 2,
     "metadata": {},
     "output_type": "execute_result"
    }
   ],
   "source": [
    "modEx(25, 304, 7);"
   ]
  }
 ],
 "metadata": {
  "kernelspec": {
   "display_name": "Javascript (Node.js)",
   "language": "javascript",
   "name": "javascript"
  },
  "language_info": {
   "file_extension": ".js",
   "mimetype": "application/javascript",
   "name": "javascript",
   "version": "6.9.4"
  }
 },
 "nbformat": 4,
 "nbformat_minor": 0
}
